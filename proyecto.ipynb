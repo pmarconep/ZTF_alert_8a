{
 "cells": [
  {
   "cell_type": "markdown",
   "metadata": {},
   "source": [
    "# Proyecto Inteligencia Computacional - Proyecto 8 - ID 8a\n",
    "\n",
    "## Integrantes\n",
    "- Juan Pablo Contreras\n",
    "- Pascual Marcone\n",
    "\n",
    "## Ayudante\n",
    "- Sebastian Guzman"
   ]
  },
  {
   "cell_type": "markdown",
   "metadata": {},
   "source": [
    "# Dependencias"
   ]
  },
  {
   "cell_type": "code",
   "execution_count": 1,
   "metadata": {},
   "outputs": [
    {
     "data": {
      "text/plain": [
       "<module 'src' (namespace) from ['/home/juanpablo/universidad/proyecto/ZTF_alert_8a/src']>"
      ]
     },
     "execution_count": 1,
     "metadata": {},
     "output_type": "execute_result"
    }
   ],
   "source": [
    "#libs\n",
    "import pandas as pd\n",
    "import numpy as np\n",
    "import matplotlib.pyplot as plt\n",
    "import importlib\n",
    "\n",
    "#system\n",
    "from pathlib import Path\n",
    "import time\n",
    "\n",
    "#ai\n",
    "import torch\n",
    "from torch import nn\n",
    "import torchvision\n",
    "\n",
    "from sklearn.metrics import confusion_matrix, ConfusionMatrixDisplay\n",
    "\n",
    "import src\n",
    "from torch.utils.data import TensorDataset\n",
    "importlib.reload(src)"
   ]
  },
  {
   "cell_type": "markdown",
   "metadata": {},
   "source": [
    "# Data access"
   ]
  },
  {
   "cell_type": "code",
   "execution_count": 2,
   "metadata": {},
   "outputs": [],
   "source": [
    "#load everything\n",
    "stamps_dataset = pd.read_pickle('data/5stamps_dataset.pkl')\n",
    "# dataset_1_21 = pd.read_pickle('data/stamp_dataset_21_new.pkl')\n",
    "# dataset_2_28 = pd.read_pickle('data/stamp_dataset_28.pkl')\n",
    "# dataset_2_45 = pd.read_pickle('data/stamp_dataset_45.pkl')\n",
    "# dataset_1_45 = pd.read_pickle('data/stamp_dataset_jun_allwise_45_final.pkl')\n",
    "# dataset_2_63 = pd.read_pickle('data/stamp_dataset_only_images_63.pkl')\n",
    "# dataset_1_63 = pd.read_pickle('data/td_ztf_stamp_17_06_20.pkl')"
   ]
  },
  {
   "cell_type": "code",
   "execution_count": 3,
   "metadata": {},
   "outputs": [],
   "source": [
    "#changing all labels to match for ease of use in the future\n",
    "def rename_labels(dataset, old_value, new_value):\n",
    "    for key in dataset.keys():\n",
    "        if old_value in dataset[key]:\n",
    "            dataset[key][new_value] = dataset[key].pop(old_value)\n",
    "\n",
    "# apply the function to \n",
    "rename_labels(stamps_dataset, 'labels', 'class')\n",
    "# rename_labels(dataset_1_63, 'labels', 'class')\n",
    "rename_labels(stamps_dataset, 'science', 'images')"
   ]
  },
  {
   "cell_type": "code",
   "execution_count": 49,
   "metadata": {},
   "outputs": [],
   "source": [
    "from torch.utils.data import TensorDataset\n",
    "\n",
    "def generate_gaussian_image(size, center, sigma=1.0, noise_level=0.1, brightness=1.0):\n",
    "    \"\"\"Genera una imagen de tamaño `size` con una distribución gaussiana centrada en `center`.\"\"\"\n",
    "    x = np.linspace(0, size-1, size)\n",
    "    y = np.linspace(0, size-1, size)\n",
    "    x, y = np.meshgrid(x, y)\n",
    "    d = np.sqrt((x - center[0])**2 + (y - center[1])**2)\n",
    "    g = np.exp(-(d**2 / (2.0 * sigma**2)))\n",
    "    \n",
    "    # Ajustar el brillo\n",
    "    g *= brightness\n",
    "    \n",
    "    # Agregar ruido uniforme\n",
    "    noise = np.random.uniform(-noise_level, noise_level, g.shape)\n",
    "    g += noise\n",
    "    \n",
    "    # Asegurarse de que los valores estén en el rango [0, 1]\n",
    "    g = np.clip(g, 0, 1)\n",
    "    \n",
    "    return g\n",
    "\n",
    "def generate_gaussian_dataset(num_samples, image_size, border_margin=3, noise_level=0.1, brightness=1.0):\n",
    "    \"\"\"Genera un dataset de imágenes gaussianas con centros aleatorios.\"\"\"\n",
    "    images = []\n",
    "    for _ in range(num_samples):\n",
    "        center = (np.random.randint(border_margin, image_size - border_margin), \n",
    "                  np.random.randint(border_margin, image_size - border_margin))\n",
    "        image = generate_gaussian_image(image_size, center, noise_level=noise_level, brightness=brightness)\n",
    "        images.append(image)\n",
    "    images = np.array(images)\n",
    "    images = images[:, np.newaxis, :, :]  # Añadir una dimensión para el canal\n",
    "    return torch.tensor(images, dtype=torch.float32)\n",
    "\n",
    "# Parámetros del dataset\n",
    "num_samples = 12800\n",
    "image_size = 21\n",
    "border_margin = 4\n",
    "noise_level = 0.12\n",
    "brightness = 0.7\n",
    "\n",
    "# Generar el dataset\n",
    "gaussian_images = generate_gaussian_dataset(num_samples, image_size, border_margin, noise_level, brightness)\n",
    "\n",
    "# Crear un TensorDataset\n",
    "gaussian_dataset = TensorDataset(gaussian_images)\n",
    "\n",
    "# Verificar el tamaño del dataset\n",
    "print(f\"Dataset size: {len(gaussian_dataset)}\")\n",
    "print(f\"Image shape: {gaussian_dataset[0][0].shape}\")\n",
    "\n",
    "# Visualizar algunas imágenes\n",
    "def show_images(dataset, num_images=5):\n",
    "    fig, axes = plt.subplots(1, num_images, figsize=(15, 3))\n",
    "    for i in range(num_images):\n",
    "        image = dataset[i][0].numpy().squeeze()  # Convertir a numpy y eliminar la dimensión del canal\n",
    "        axes[i].imshow(image)\n",
    "        axes[i].axis('off')\n",
    "    plt.show()\n",
    "\n",
    "# Mostrar 10 imágenes del dataset\n",
    "show_images(gaussian_dataset, num_images=5)"
   ]
  },
  {
   "cell_type": "markdown",
   "metadata": {},
   "source": [
    "## Data Characterization"
   ]
  },
  {
   "cell_type": "code",
   "execution_count": 5,
   "metadata": {},
   "outputs": [
    {
     "name": "stdout",
     "output_type": "stream",
     "text": [
      "stamps_dataset -- (123227, 5, 21, 21)\n",
      "├── Train\n",
      "│   ├── labels\n",
      "│   ├── images\n",
      "│   ├── template\n",
      "│   └── difference\n",
      "├── validation\n",
      "│   ├── labels\n",
      "│   ├── images\n",
      "│   ├── template\n",
      "│   └── difference\n",
      "└── Test\n",
      "    ├── labels\n",
      "    ├── images\n",
      "    ├── template\n",
      "    └── difference\n",
      "\n",
      "\n"
     ]
    }
   ],
   "source": [
    "from anytree import Node, RenderTree\n",
    "\n",
    "# stamps_dataset\n",
    "root = Node(f\"stamps_dataset -- {stamps_dataset['Train']['images'].shape}\")\n",
    "train = Node(\"Train\", parent=root)\n",
    "validation = Node(\"validation\", parent=root)\n",
    "test = Node(\"Test\", parent=root)\n",
    "\n",
    "labels = Node(\"labels\", parent=train)\n",
    "images = Node(\"images\", parent=train)\n",
    "template = Node(\"template\", parent=train)\n",
    "difference = Node(\"difference\", parent=train)\n",
    "\n",
    "s_labels = Node(\"labels\", parent=validation)\n",
    "s_images = Node(\"images\", parent=validation)\n",
    "s_template = Node(\"template\", parent=validation)\n",
    "s_difference = Node(\"difference\", parent=validation)\n",
    "\n",
    "t_labels = Node(\"labels\", parent=test)\n",
    "t_images = Node(\"images\", parent=test)\n",
    "t_template = Node(\"template\", parent=test)\n",
    "t_difference = Node(\"difference\", parent=test)\n",
    "\n",
    "# Render the tree\n",
    "for pre, fill, node in RenderTree(root):\n",
    "    print(\"%s%s\" % (pre, node.name))\n",
    "print('\\n')"
   ]
  },
  {
   "cell_type": "markdown",
   "metadata": {},
   "source": [
    "# Visualizacion Datos"
   ]
  },
  {
   "cell_type": "markdown",
   "metadata": {},
   "source": [
    "Analizando algunos ejemplos de cada una"
   ]
  },
  {
   "cell_type": "code",
   "execution_count": 6,
   "metadata": {},
   "outputs": [
    {
     "data": {
      "image/png": "[encoded data removed]",
      "text/plain": [
       "<Figure size 500x900 with 15 Axes>"
      ]
     },
     "metadata": {},
     "output_type": "display_data"
    }
   ],
   "source": [
    "import src.plots as plots\n",
    "importlib.reload(plots)\n",
    "\n",
    "plots.plot_example(stamps_dataset, n = 5)"
   ]
  },
  {
   "cell_type": "markdown",
   "metadata": {},
   "source": [
    "# Data Loader"
   ]
  },
  {
   "cell_type": "code",
   "execution_count": 7,
   "metadata": {},
   "outputs": [
    {
     "name": "stdout",
     "output_type": "stream",
     "text": [
      "<torch.utils.data.dataset.TensorDataset object at 0x78f157f25310>\n"
     ]
    }
   ],
   "source": [
    "train_difference = torch.tensor(stamps_dataset['Train']['difference'], dtype=torch.float32)\n",
    "train_class = torch.tensor(stamps_dataset['Train']['class'], dtype=torch.float32)\n",
    "\n",
    "validation_difference = torch.tensor(stamps_dataset['Validation']['difference'], dtype=torch.float32)\n",
    "validation_class = torch.tensor(stamps_dataset['Validation']['class'], dtype=torch.float32)\n",
    "\n",
    "test_difference = torch.tensor(stamps_dataset['Test']['difference'], dtype=torch.float32)\n",
    "test_class = torch.tensor(stamps_dataset['Test']['class'], dtype=torch.float32)\n",
    "\n",
    "# Reshape the arrays\n",
    "num_samples, num_photos, height, width = train_difference.shape\n",
    "\n",
    "reshaped_train_difference = train_difference.reshape(num_samples * num_photos, 1, height, width)\n",
    "reshaped_train_class = train_class.repeat_interleave(num_photos)\n",
    "\n",
    "num_samples, num_photos, height, width = validation_difference.shape\n",
    "\n",
    "reshaped_val_difference = validation_difference.reshape(validation_difference.shape[0] * num_photos, 1, height, width)\n",
    "reshaped_val_class = validation_class.repeat_interleave(num_photos)\n",
    "\n",
    "num_samples, num_photos, height, width = test_difference.shape\n",
    "\n",
    "reshaped_test_difference = test_difference.reshape(test_difference.shape[0] * num_photos, 1, height, width)\n",
    "reshaped_test_class = test_class.repeat_interleave(num_photos)\n",
    "\n",
    "train_dataset = TensorDataset(reshaped_train_difference, reshaped_train_class)\n",
    "validation_dataset = TensorDataset(reshaped_val_difference, reshaped_val_class)\n",
    "test_dataset = TensorDataset(reshaped_test_difference, reshaped_test_class)\n",
    "\n",
    "print(train_dataset)"
   ]
  },
  {
   "cell_type": "markdown",
   "metadata": {},
   "source": [
    "# Entrenamiento de Modelo"
   ]
  },
  {
   "cell_type": "code",
   "execution_count": 54,
   "metadata": {},
   "outputs": [
    {
     "data": {
      "text/plain": [
       "<module 'src.model.vae' from '/home/juanpablo/universidad/proyecto/ZTF_alert_8a/src/model/vae.py'>"
      ]
     },
     "execution_count": 54,
     "metadata": {},
     "output_type": "execute_result"
    }
   ],
   "source": [
    "import src.model.train as train\n",
    "importlib.reload(train)\n",
    "import src.model.metrics as metrics\n",
    "importlib.reload(metrics)\n",
    "import src.model.vae as vae\n",
    "importlib.reload(vae)"
   ]
  },
  {
   "cell_type": "code",
   "execution_count": 52,
   "metadata": {},
   "outputs": [],
   "source": [
    "#datasets de modelos\n",
    "indices1 = torch.randperm(len(reshaped_train_difference))[:500]\n",
    "indices2 = torch.randperm(len(reshaped_train_difference))[:1000]\n",
    "indices3 = torch.randperm(len(reshaped_train_difference))[:4000]\n",
    "indices4 = torch.randperm(len(reshaped_train_difference))[:8000]\n",
    "indices5 = torch.randperm(len(reshaped_train_difference))[:15000]\n",
    "\n",
    "train_dataset_1 = TensorDataset(reshaped_train_difference[indices1], reshaped_train_class[indices1])\n",
    "\n",
    "train_dataset_2 = TensorDataset(reshaped_train_difference[indices2], reshaped_train_class[indices2])\n",
    "\n",
    "train_dataset_3 = TensorDataset(reshaped_train_difference[indices3], reshaped_train_class[indices3])\n",
    "\n",
    "train_dataset_4 = TensorDataset(reshaped_train_difference[indices4], reshaped_train_class[indices4])\n",
    "\n",
    "train_dataset_5 = TensorDataset(reshaped_train_difference[indices5], reshaped_train_class[indices5])"
   ]
  },
  {
   "cell_type": "code",
   "execution_count": null,
   "metadata": {},
   "outputs": [
    {
     "name": "stdout",
     "output_type": "stream",
     "text": [
      "Training model: epoch 0 out of 100"
     ]
    },
    {
     "name": "stdout",
     "output_type": "stream",
     "text": [
      "Training model: epoch 99 out of 100\n",
      "\n",
      "Training model: epoch 99 out of 100\n",
      "\n",
      "Training model: epoch 55 out of 100"
     ]
    }
   ],
   "source": [
    "model_0 = vae.VAE(latent_dim=21)\n",
    "model_1 = vae.VAE(latent_dim=21)\n",
    "model_2 = vae.VAE(latent_dim=21)\n",
    "model_3 = vae.VAE(latent_dim=21)\n",
    "model_4 = vae.VAE(latent_dim=21)\n",
    "model_5 = vae.VAE(latent_dim=21)\n",
    "\n",
    "max_epochs = 100\n",
    "criterion = vae.loss_function\n",
    "batch_size = 128\n",
    "lr = 1e-4\n",
    "early_stop = 20\n",
    "use_gpu = False\n",
    "\n",
    "curves_1, tiempo_ejecucion_1 = train.train_model(model_1,\n",
    "                                            train_dataset_1,\n",
    "                                            validation_dataset,\n",
    "                                            test_dataset,\n",
    "                                            max_epochs=max_epochs,\n",
    "                                            criterion=criterion,\n",
    "                                            batch_size=batch_size,\n",
    "                                            lr=lr,\n",
    "                                            early_stopping_tolerance=early_stop,\n",
    "                                            use_gpu=use_gpu)\n",
    "\n",
    "curves_2, tiempo_ejecucion_2 = train.train_model(model_2,\n",
    "                                            train_dataset_2,\n",
    "                                            validation_dataset,\n",
    "                                            test_dataset,\n",
    "                                            max_epochs=max_epochs,\n",
    "                                            criterion=criterion,\n",
    "                                            batch_size=batch_size,\n",
    "                                            lr=lr,\n",
    "                                            early_stopping_tolerance=early_stop,\n",
    "                                            use_gpu=use_gpu)\n",
    "\n",
    "curves_3, tiempo_ejecucion_3 = train.train_model(model_3,\n",
    "                                            train_dataset_3,\n",
    "                                            validation_dataset,\n",
    "                                            test_dataset,\n",
    "                                            max_epochs=max_epochs,\n",
    "                                            criterion=criterion,\n",
    "                                            batch_size=batch_size,\n",
    "                                            lr=lr,\n",
    "                                            early_stopping_tolerance=early_stop,\n",
    "                                            use_gpu=use_gpu)\n",
    "\n",
    "curves_4, tiempo_ejecucion_4 = train.train_model(model_4,\n",
    "                                            train_dataset_4,\n",
    "                                            validation_dataset,\n",
    "                                            test_dataset,\n",
    "                                            max_epochs=max_epochs,\n",
    "                                            criterion=criterion,\n",
    "                                            batch_size=batch_size,\n",
    "                                            lr=lr,\n",
    "                                            early_stopping_tolerance=early_stop,\n",
    "                                            use_gpu=use_gpu)\n",
    "\n",
    "curves_5, tiempo_ejecucion_5 = train.train_model(model_5,\n",
    "                                            train_dataset_5,\n",
    "                                            validation_dataset,\n",
    "                                            test_dataset,\n",
    "                                            max_epochs=max_epochs,\n",
    "                                            criterion=criterion,\n",
    "                                            batch_size=batch_size,\n",
    "                                            lr=lr,\n",
    "                                            early_stopping_tolerance=early_stop,\n",
    "                                            use_gpu=use_gpu)\n",
    "\n",
    "print(f'\\nTiempo de ejecución -- model_1:{tiempo_ejecucion_1:.2f} -- model_2:{tiempo_ejecucion_2:.2f} -- model_3:{tiempo_ejecucion_3:.2f} -- model_4:{tiempo_ejecucion_4:.2f} -- model_5:{tiempo_ejecucion_5:.2f}')"
   ]
  },
  {
   "cell_type": "code",
   "execution_count": null,
   "metadata": {},
   "outputs": [],
   "source": [
    "metrics.show_loss(curves_1, curves_2, curves_3, curves_4, curves_5)"
   ]
  },
  {
   "cell_type": "code",
   "execution_count": null,
   "metadata": {},
   "outputs": [],
   "source": []
  },
  {
   "cell_type": "code",
   "execution_count": 89,
   "metadata": {},
   "outputs": [],
   "source": [
    "import src.plots as plots\n",
    "importlib.reload(plots)\n",
    "\n",
    "# Select an image from the dataset\n",
    "image = dataset_1_21['Train']['images'][1, :, :, 0]\n",
    "vector = dataset_1_21['Train']['features'][0]\n",
    "# Convert the image to a tensor\n",
    "image_tensor = torch.tensor(image, dtype=torch.float32)\n",
    "# Add a batch dimension and channel dimension to the image tensor\n",
    "image_tensor = image_tensor.unsqueeze(0).unsqueeze(0)\n",
    "\n",
    "# Create a DataLoader for the image tensor\n",
    "image_loader = torch.utils.data.DataLoader(image_tensor, batch_size=1)\n",
    "\n",
    "\n",
    "reconstructed_image = model.forward(image_tensor)\n",
    "\n",
    "plots.plot_two_images(image, reconstructed_image[0][0][0].detach().numpy())"
   ]
  },
  {
   "cell_type": "code",
   "execution_count": 209,
   "metadata": {},
   "outputs": [
    {
     "data": {
      "image/png": "[encoded data removed]",
      "text/plain": [
       "<Figure size 1000x500 with 2 Axes>"
      ]
     },
     "metadata": {},
     "output_type": "display_data"
    }
   ],
   "source": [
    "import src.plots as plots\n",
    "importlib.reload(plots)\n",
    "\n",
    "# Select an image from the dataset\n",
    "image = dataset_1_21['Train']['images'][1, :, :, 0]\n",
    "vector = dataset_1_21['Train']['features'][0]\n",
    "# Convert the image to a tensor\n",
    "image_tensor = torch.tensor(image, dtype=torch.float32)\n",
    "# Add a batch dimension and channel dimension to the image tensor\n",
    "image_tensor = image_tensor.unsqueeze(0).unsqueeze(0)\n",
    "\n",
    "# Create a DataLoader for the image tensor\n",
    "image_loader = torch.utils.data.DataLoader(image_tensor, batch_size=1)\n",
    "\n",
    "import src.model.vae as vae\n",
    "importlib.reload(vae)\n",
    "\n",
    "model = vae.VAE(latent_dim=21)\n",
    "\n",
    "reconstructed_image = model.forward(image_tensor)\n",
    "\n",
    "plots.plot_two_images(image, reconstructed_image[0][0][0].detach().numpy())"
   ]
  },
  {
   "cell_type": "code",
   "execution_count": null,
   "metadata": {},
   "outputs": [],
   "source": [
    "def plot_example(models, datasets, sample='random', n=1):\n",
    "    if sample == 'random':\n",
    "        sample = [np.random.choice(len(dataset), n) for dataset in datasets]\n",
    "    else:\n",
    "        n = len(sample[0])\n",
    "\n",
    "    for i in range(n):\n",
    "        fig, axes = plt.subplots(1, len(models) * 2, figsize=(5 * len(models) * 2, 5))\n",
    "        \n",
    "        for j, (model, dataset) in enumerate(zip(models, datasets)):\n",
    "            img = dataset[sample[j][i]][0].numpy().squeeze()  # Obtener la imagen original del dataset\n",
    "            \n",
    "            # Mostrar la imagen original\n",
    "            axes[j * 2].imshow(img, cmap='gray')\n",
    "            axes[j * 2].set_title(f'Model {j + 1} - Original')\n",
    "            axes[j * 2].set_xticks([])\n",
    "            axes[j * 2].set_yticks([])\n",
    "            \n",
    "            model.eval()\n",
    "            with torch.no_grad():\n",
    "                img_tensor = torch.tensor(img).unsqueeze(0).unsqueeze(0)  # Convertir la imagen a tensor\n",
    "                reconstructed_img = model(img_tensor).squeeze().detach().numpy()\n",
    "            \n",
    "            axes[j * 2 + 1].imshow(reconstructed_img, cmap='gray')\n",
    "            axes[j * 2 + 1].set_title(f'Model {j + 1} - Reconstructed')\n",
    "            axes[j * 2 + 1].set_xticks([])\n",
    "            axes[j * 2 + 1].set_yticks([])\n",
    "    \n",
    "        plt.show()\n",
    "        \n",
    "models = [model_1, model_2, model_3, model_4, model_5]  \n",
    "datasets = stamps_dataset"
   ]
  },
  {
   "cell_type": "code",
   "execution_count": null,
   "metadata": {},
   "outputs": [],
   "source": []
  }
 ],
 "metadata": {
  "kernelspec": {
   "display_name": "inteli",
   "language": "python",
   "name": "python3"
  },
  "language_info": {
   "codemirror_mode": {
    "name": "ipython",
    "version": 3
   },
   "file_extension": ".py",
   "mimetype": "text/x-python",
   "name": "python",
   "nbconvert_exporter": "python",
   "pygments_lexer": "ipython3",
   "version": "3.12.3"
  }
 },
 "nbformat": 4,
 "nbformat_minor": 2
}
