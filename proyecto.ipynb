{
 "cells": [
  {
   "cell_type": "markdown",
   "metadata": {},
   "source": [
    "# Proyecto Inteligencia Computacional - Proyecto 8 - ID 8a\n",
    "\n",
    "## Integrantes\n",
    "- Juan Pablo Contreras\n",
    "- Pascual Marcone\n",
    "\n",
    "## Ayudante\n",
    "- Sebastian Guzman"
   ]
  },
  {
   "cell_type": "markdown",
   "metadata": {},
   "source": [
    "# Dependencias"
   ]
  },
  {
   "cell_type": "code",
   "execution_count": 1,
   "metadata": {},
   "outputs": [
    {
     "data": {
      "text/plain": [
       "<module 'src' (namespace) from ['/home/pascual/inteli/proyecto/src']>"
      ]
     },
     "execution_count": 1,
     "metadata": {},
     "output_type": "execute_result"
    }
   ],
   "source": [
    "#libs\n",
    "import pandas as pd\n",
    "import numpy as np\n",
    "import matplotlib.pyplot as plt\n",
    "import importlib\n",
    "\n",
    "#system\n",
    "from pathlib import Path\n",
    "import time\n",
    "\n",
    "#ai\n",
    "import torch\n",
    "from torch import nn\n",
    "import torchvision\n",
    "\n",
    "from sklearn.metrics import confusion_matrix, ConfusionMatrixDisplay\n",
    "\n",
    "import src\n",
    "from torch.utils.data import TensorDataset\n",
    "importlib.reload(src)"
   ]
  },
  {
   "cell_type": "markdown",
   "metadata": {},
   "source": [
    "# Data access"
   ]
  },
  {
   "cell_type": "code",
   "execution_count": 2,
   "metadata": {},
   "outputs": [],
   "source": [
    "#load everything\n",
    "stamps_dataset = pd.read_pickle('data/5stamps_dataset.pkl')\n",
    "dataset_1_21 = pd.read_pickle('data/stamp_dataset_21_new.pkl')\n",
    "dataset_2_28 = pd.read_pickle('data/stamp_dataset_28.pkl')\n",
    "dataset_2_45 = pd.read_pickle('data/stamp_dataset_45.pkl')\n",
    "dataset_1_45 = pd.read_pickle('data/stamp_dataset_jun_allwise_45_final.pkl')\n",
    "dataset_2_63 = pd.read_pickle('data/stamp_dataset_only_images_63.pkl')\n",
    "dataset_1_63 = pd.read_pickle('data/td_ztf_stamp_17_06_20.pkl')"
   ]
  },
  {
   "cell_type": "code",
   "execution_count": 3,
   "metadata": {},
   "outputs": [],
   "source": [
    "#changing all labels to match for ease of use in the future\n",
    "def rename_labels(dataset, old_value, new_value):\n",
    "    for key in dataset.keys():\n",
    "        if old_value in dataset[key]:\n",
    "            dataset[key][new_value] = dataset[key].pop(old_value)\n",
    "\n",
    "# apply the function to \n",
    "rename_labels(stamps_dataset, 'labels', 'class')\n",
    "# rename_labels(dataset_1_63, 'labels', 'class')\n",
    "rename_labels(stamps_dataset, 'science', 'images')"
   ]
  },
  {
   "cell_type": "markdown",
   "metadata": {},
   "source": [
    "## Data Characterization"
   ]
  },
  {
   "cell_type": "code",
   "execution_count": 4,
   "metadata": {},
   "outputs": [
    {
     "name": "stdout",
     "output_type": "stream",
     "text": [
      "stamps_dataset -- (123227, 5, 21, 21)\n",
      "├── Train\n",
      "│   ├── labels\n",
      "│   ├── images\n",
      "│   ├── template\n",
      "│   └── difference\n",
      "├── validation\n",
      "│   ├── labels\n",
      "│   ├── images\n",
      "│   ├── template\n",
      "│   └── difference\n",
      "└── Test\n",
      "    ├── labels\n",
      "    ├── images\n",
      "    ├── template\n",
      "    └── difference\n",
      "\n",
      "\n",
      "dataset_1_21 -- (72710, 21, 21, 3)\n",
      "├── Train\n",
      "│   ├── images\n",
      "│   ├── features\n",
      "│   ├── oid\n",
      "│   └── class\n",
      "├── validation\n",
      "│   ├── images\n",
      "│   ├── features\n",
      "│   ├── oid\n",
      "│   └── class\n",
      "└── Test\n",
      "    ├── images\n",
      "    ├── features\n",
      "    ├── oid\n",
      "    └── class\n",
      "\n",
      "\n",
      "dataset_2_28 -- (50594, 28, 28, 3)\n",
      "├── Train\n",
      "│   ├── images\n",
      "│   ├── features\n",
      "│   ├── oid\n",
      "│   └── class\n",
      "├── validation\n",
      "│   ├── images\n",
      "│   ├── features\n",
      "│   ├── oid\n",
      "│   └── class\n",
      "└── Test\n",
      "    ├── images\n",
      "    ├── features\n",
      "    ├── oid\n",
      "    └── class\n",
      "\n",
      "\n",
      "dataset_2_45 -- (50594, 45, 45, 3)\n",
      "├── Train\n",
      "│   ├── images\n",
      "│   ├── features\n",
      "│   ├── oid\n",
      "│   └── class\n",
      "├── validation\n",
      "│   ├── images\n",
      "│   ├── features\n",
      "│   ├── oid\n",
      "│   └── class\n",
      "└── Test\n",
      "    ├── images\n",
      "    ├── features\n",
      "    ├── oid\n",
      "    └── class\n",
      "\n",
      "\n",
      "dataset_1_45 -- (72710, 45, 45, 3)\n",
      "├── Train\n",
      "│   ├── images\n",
      "│   ├── features\n",
      "│   ├── oid\n",
      "│   └── class\n",
      "├── validation\n",
      "│   ├── images\n",
      "│   ├── features\n",
      "│   ├── oid\n",
      "│   └── class\n",
      "└── Test\n",
      "    ├── images\n",
      "    ├── features\n",
      "    ├── oid\n",
      "    └── class\n",
      "\n",
      "\n",
      "dataset_2_63 -- (50594, 63, 63, 3)\n",
      "├── Train\n",
      "│   ├── images\n",
      "│   └── class\n",
      "├── validation\n",
      "│   ├── images\n",
      "│   └── class\n",
      "└── Test\n",
      "    ├── images\n",
      "    └── class\n",
      "\n",
      "\n",
      "dataset_1_63 -- (72710, 63, 63, 3)\n",
      "├── Train\n",
      "│   ├── images\n",
      "│   ├── features\n",
      "│   └── labels\n",
      "├── validation\n",
      "│   ├── images\n",
      "│   ├── features\n",
      "│   └── labels\n",
      "└── Test\n",
      "    ├── images\n",
      "    ├── features\n",
      "    └── labels\n"
     ]
    }
   ],
   "source": [
    "from anytree import Node, RenderTree\n",
    "\n",
    "# stamps_dataset\n",
    "root = Node(f\"stamps_dataset -- {stamps_dataset['Train']['images'].shape}\")\n",
    "train = Node(\"Train\", parent=root)\n",
    "validation = Node(\"validation\", parent=root)\n",
    "test = Node(\"Test\", parent=root)\n",
    "\n",
    "labels = Node(\"labels\", parent=train)\n",
    "images = Node(\"images\", parent=train)\n",
    "template = Node(\"template\", parent=train)\n",
    "difference = Node(\"difference\", parent=train)\n",
    "\n",
    "s_labels = Node(\"labels\", parent=validation)\n",
    "s_images = Node(\"images\", parent=validation)\n",
    "s_template = Node(\"template\", parent=validation)\n",
    "s_difference = Node(\"difference\", parent=validation)\n",
    "\n",
    "t_labels = Node(\"labels\", parent=test)\n",
    "t_images = Node(\"images\", parent=test)\n",
    "t_template = Node(\"template\", parent=test)\n",
    "t_difference = Node(\"difference\", parent=test)\n",
    "\n",
    "# Render the tree\n",
    "for pre, fill, node in RenderTree(root):\n",
    "    print(\"%s%s\" % (pre, node.name))\n",
    "print('\\n')\n",
    "\n",
    "# dataset_1_21\n",
    "root = Node(f\"dataset_1_21 -- {dataset_1_21['Train']['images'].shape}\")\n",
    "train = Node(\"Train\", parent=root)\n",
    "validation = Node(\"validation\", parent=root)\n",
    "test = Node(\"Test\", parent=root)\n",
    "\n",
    "labels = Node(\"images\", parent=train)\n",
    "images = Node(\"features\", parent=train)\n",
    "template = Node(\"oid\", parent=train)\n",
    "difference = Node(\"class\", parent=train)\n",
    "\n",
    "s_labels = Node(\"images\", parent=validation)\n",
    "s_images = Node(\"features\", parent=validation)\n",
    "s_template = Node(\"oid\", parent=validation)\n",
    "s_difference = Node(\"class\", parent=validation)\n",
    "\n",
    "t_labels = Node(\"images\", parent=test)\n",
    "t_images = Node(\"features\", parent=test)\n",
    "t_template = Node(\"oid\", parent=test)\n",
    "t_difference = Node(\"class\", parent=test)\n",
    "\n",
    "for pre, fill, node in RenderTree(root):\n",
    "    print(\"%s%s\" % (pre, node.name))\n",
    "print('\\n')\n",
    "\n",
    "# dataset_2_28\n",
    "root = Node(f\"dataset_2_28 -- {dataset_2_28['Train']['images'].shape}\")\n",
    "train = Node(\"Train\", parent=root)\n",
    "validation = Node(\"validation\", parent=root)\n",
    "test = Node(\"Test\", parent=root)\n",
    "\n",
    "labels = Node(\"images\", parent=train)\n",
    "images = Node(\"features\", parent=train)\n",
    "template = Node(\"oid\", parent=train)\n",
    "difference = Node(\"class\", parent=train)\n",
    "\n",
    "s_labels = Node(\"images\", parent=validation)\n",
    "s_images = Node(\"features\", parent=validation)\n",
    "s_template = Node(\"oid\", parent=validation)\n",
    "s_difference = Node(\"class\", parent=validation)\n",
    "\n",
    "t_labels = Node(\"images\", parent=test)\n",
    "t_images = Node(\"features\", parent=test)\n",
    "t_template = Node(\"oid\", parent=test)\n",
    "t_difference = Node(\"class\", parent=test)\n",
    "\n",
    "for pre, fill, node in RenderTree(root):\n",
    "    print(\"%s%s\" % (pre, node.name))\n",
    "print('\\n')\n",
    "\n",
    "# dataset_2_45\n",
    "root = Node(f\"dataset_2_45 -- {dataset_2_45['Train']['images'].shape}\")\n",
    "train = Node(\"Train\", parent=root)\n",
    "validation = Node(\"validation\", parent=root)\n",
    "test = Node(\"Test\", parent=root)\n",
    "\n",
    "labels = Node(\"images\", parent=train)\n",
    "images = Node(\"features\", parent=train)\n",
    "template = Node(\"oid\", parent=train)\n",
    "difference = Node(\"class\", parent=train)\n",
    "\n",
    "s_labels = Node(\"images\", parent=validation)\n",
    "s_images = Node(\"features\", parent=validation)\n",
    "s_template = Node(\"oid\", parent=validation)\n",
    "s_difference = Node(\"class\", parent=validation)\n",
    "\n",
    "t_labels = Node(\"images\", parent=test)\n",
    "t_images = Node(\"features\", parent=test)\n",
    "t_template = Node(\"oid\", parent=test)\n",
    "t_difference = Node(\"class\", parent=test)\n",
    "\n",
    "for pre, fill, node in RenderTree(root):\n",
    "    print(\"%s%s\" % (pre, node.name))\n",
    "print('\\n')\n",
    "\n",
    "# dataset_1_45\n",
    "root = Node(f\"dataset_1_45 -- {dataset_1_45['Train']['images'].shape}\")\n",
    "train = Node(\"Train\", parent=root)\n",
    "validation = Node(\"validation\", parent=root)\n",
    "test = Node(\"Test\", parent=root)\n",
    "\n",
    "labels = Node(\"images\", parent=train)\n",
    "images = Node(\"features\", parent=train)\n",
    "template = Node(\"oid\", parent=train)\n",
    "difference = Node(\"class\", parent=train)\n",
    "\n",
    "s_labels = Node(\"images\", parent=validation)\n",
    "s_images = Node(\"features\", parent=validation)\n",
    "s_template = Node(\"oid\", parent=validation)\n",
    "s_difference = Node(\"class\", parent=validation)\n",
    "\n",
    "t_labels = Node(\"images\", parent=test)\n",
    "t_images = Node(\"features\", parent=test)\n",
    "t_template = Node(\"oid\", parent=test)\n",
    "t_difference = Node(\"class\", parent=test)\n",
    "\n",
    "for pre, fill, node in RenderTree(root):\n",
    "    print(\"%s%s\" % (pre, node.name))\n",
    "print('\\n')\n",
    "\n",
    "# dataset_2_63\n",
    "root = Node(f\"dataset_2_63 -- {dataset_2_63['Train']['images'].shape}\")\n",
    "train = Node(\"Train\", parent=root)\n",
    "validation = Node(\"validation\", parent=root)\n",
    "test = Node(\"Test\", parent=root)\n",
    "\n",
    "labels = Node(\"images\", parent=train)\n",
    "difference = Node(\"class\", parent=train)\n",
    "\n",
    "s_labels = Node(\"images\", parent=validation)\n",
    "s_difference = Node(\"class\", parent=validation)\n",
    "\n",
    "t_labels = Node(\"images\", parent=test)\n",
    "t_difference = Node(\"class\", parent=test)\n",
    "\n",
    "for pre, fill, node in RenderTree(root):\n",
    "    print(\"%s%s\" % (pre, node.name))\n",
    "print('\\n')\n",
    "\n",
    "# dataset_1_63\n",
    "root = Node(f\"dataset_1_63 -- {dataset_1_63['Train']['images'].shape}\")\n",
    "train = Node(\"Train\", parent=root)\n",
    "validation = Node(\"validation\", parent=root)\n",
    "test = Node(\"Test\", parent=root)\n",
    "\n",
    "labels = Node(\"images\", parent=train)\n",
    "images = Node(\"features\", parent=train)\n",
    "difference = Node(\"labels\", parent=train)\n",
    "\n",
    "s_labels = Node(\"images\", parent=validation)\n",
    "s_images = Node(\"features\", parent=validation)\n",
    "s_difference = Node(\"labels\", parent=validation)\n",
    "\n",
    "t_labels = Node(\"images\", parent=test)\n",
    "t_images = Node(\"features\", parent=test)\n",
    "t_difference = Node(\"labels\", parent=test)\n",
    "\n",
    "for pre, fill, node in RenderTree(root):\n",
    "    print(\"%s%s\" % (pre, node.name))"
   ]
  },
  {
   "cell_type": "markdown",
   "metadata": {},
   "source": [
    "# Visualizacion Datos\n",
    "Hay 3 tipos de imagenes $21\\cdot21$, $28\\cdot28$, $45\\cdot45$ y $63\\cdot63$"
   ]
  },
  {
   "cell_type": "code",
   "execution_count": 33,
   "metadata": {},
   "outputs": [
    {
     "name": "stdout",
     "output_type": "stream",
     "text": [
      "(50594, 23)\n"
     ]
    }
   ],
   "source": [
    "print(dataset_2_45['Train']['features'].shape)"
   ]
  },
  {
   "cell_type": "markdown",
   "metadata": {},
   "source": [
    "Analizando algunos ejemplos de cada una"
   ]
  },
  {
   "cell_type": "code",
   "execution_count": 5,
   "metadata": {},
   "outputs": [
    {
     "data": {
      "image/png": "[encoded data removed]",
      "text/plain": [
       "<Figure size 500x900 with 15 Axes>"
      ]
     },
     "metadata": {},
     "output_type": "display_data"
    }
   ],
   "source": [
    "import src.plots as plots\n",
    "importlib.reload(plots)\n",
    "\n",
    "plots.plot_example(stamps_dataset, n = 5)"
   ]
  },
  {
   "cell_type": "markdown",
   "metadata": {},
   "source": [
    "# Data Loader"
   ]
  },
  {
   "cell_type": "code",
   "execution_count": null,
   "metadata": {},
   "outputs": [
    {
     "name": "stdout",
     "output_type": "stream",
     "text": [
      "<torch.utils.data.dataset.TensorDataset object at 0x7dbd81834380>\n"
     ]
    }
   ],
   "source": [
    "train_difference = torch.tensor(stamps_dataset['Train']['difference'], dtype=torch.float32)\n",
    "train_class = torch.tensor(stamps_dataset['Train']['class'], dtype=torch.float32)\n",
    "\n",
    "validation_difference = torch.tensor(stamps_dataset['Validation']['difference'], dtype=torch.float32)\n",
    "validation_class = torch.tensor(stamps_dataset['Validation']['class'], dtype=torch.float32)\n",
    "\n",
    "test_difference = torch.tensor(stamps_dataset['Test']['difference'], dtype=torch.float32)\n",
    "test_class = torch.tensor(stamps_dataset['Test']['class'], dtype=torch.float32)\n",
    "\n",
    "# Reshape the arrays\n",
    "num_samples, num_photos, height, width = train_difference.shape\n",
    "\n",
    "reshaped_train_difference = train_difference.reshape(num_samples * num_photos, 1, height, width)\n",
    "reshaped_train_class = train_class.repeat_interleave(num_photos)\n",
    "\n",
    "num_samples, num_photos, height, width = validation_difference.shape\n",
    "\n",
    "reshaped_val_difference = validation_difference.reshape(validation_difference.shape[0] * num_photos, 1, height, width)\n",
    "reshaped_val_class = validation_class.repeat_interleave(num_photos)\n",
    "\n",
    "num_samples, num_photos, height, width = test_difference.shape\n",
    "\n",
    "reshaped_test_difference = test_difference.reshape(test_difference.shape[0] * num_photos, 1, height, width)\n",
    "reshaped_test_class = test_class.repeat_interleave(num_photos)\n",
    "\n",
    "train_dataset = TensorDataset(reshaped_train_difference, reshaped_train_class)\n",
    "validation_dataset = TensorDataset(reshaped_val_difference, reshaped_val_class)\n",
    "test_dataset = TensorDataset(reshaped_test_difference, reshaped_test_class)\n",
    "\n",
    "print(train_dataset)"
   ]
  },
  {
   "cell_type": "markdown",
   "metadata": {},
   "source": [
    "# Entrenamiento de Modelo"
   ]
  },
  {
   "cell_type": "code",
   "execution_count": 7,
   "metadata": {},
   "outputs": [
    {
     "name": "stdout",
     "output_type": "stream",
     "text": [
      "torch.Size([616135, 1, 21, 21])\n"
     ]
    },
    {
     "data": {
      "text/plain": [
       "torch.Size([1280, 1, 21, 21])"
      ]
     },
     "execution_count": 7,
     "metadata": {},
     "output_type": "execute_result"
    }
   ],
   "source": [
    "print(reshaped_train_difference.shape)\n",
    "reshaped_train_difference[:1280].shape"
   ]
  },
  {
   "cell_type": "code",
   "execution_count": 8,
   "metadata": {},
   "outputs": [
    {
     "name": "stdout",
     "output_type": "stream",
     "text": [
      "0\n"
     ]
    },
    {
     "name": "stdout",
     "output_type": "stream",
     "text": [
      "1\n",
      "2\n",
      "3\n",
      "4\n",
      "5\n",
      "6\n",
      "7\n",
      "8\n",
      "9\n",
      "10\n",
      "11\n",
      "12\n",
      "13\n",
      "14\n",
      "15\n",
      "16\n",
      "17\n",
      "18\n",
      "19\n",
      "20\n",
      "21\n",
      "22\n",
      "23\n",
      "24\n",
      "25\n",
      "26\n",
      "27\n",
      "28\n",
      "29\n"
     ]
    },
    {
     "ename": "TypeError",
     "evalue": "float() argument must be a string or a real number, not 'builtin_function_or_method'",
     "output_type": "error",
     "traceback": [
      "\u001b[0;31m---------------------------------------------------------------------------\u001b[0m",
      "\u001b[0;31mTypeError\u001b[0m                                 Traceback (most recent call last)",
      "Cell \u001b[0;32mIn[8], line 34\u001b[0m\n\u001b[1;32m     21\u001b[0m use_gpu \u001b[38;5;241m=\u001b[39m \u001b[38;5;28;01mFalse\u001b[39;00m\n\u001b[1;32m     23\u001b[0m curves, tiempo_ejecucion \u001b[38;5;241m=\u001b[39m train\u001b[38;5;241m.\u001b[39mtrain_model(model,\n\u001b[1;32m     24\u001b[0m                                             small_train_dataset,\n\u001b[1;32m     25\u001b[0m                                             small_validation_dataset,\n\u001b[0;32m   (...)\u001b[0m\n\u001b[1;32m     31\u001b[0m                                             early_stopping_tolerance\u001b[38;5;241m=\u001b[39mearly_stop,\n\u001b[1;32m     32\u001b[0m                                             use_gpu\u001b[38;5;241m=\u001b[39muse_gpu) \u001b[38;5;66;03m#falta definir los parámetros\u001b[39;00m\n\u001b[0;32m---> 34\u001b[0m curves_fig \u001b[38;5;241m=\u001b[39m \u001b[43mmetrics\u001b[49m\u001b[38;5;241;43m.\u001b[39;49m\u001b[43mshow_curves\u001b[49m\u001b[43m(\u001b[49m\u001b[43mcurves\u001b[49m\u001b[43m)\u001b[49m\n",
      "File \u001b[0;32m~/inteli/proyecto/src/model/metrics.py:61\u001b[0m, in \u001b[0;36mshow_curves\u001b[0;34m(curves)\u001b[0m\n\u001b[1;32m     57\u001b[0m fig\u001b[38;5;241m.\u001b[39mset_facecolor(\u001b[38;5;124m'\u001b[39m\u001b[38;5;124mwhite\u001b[39m\u001b[38;5;124m'\u001b[39m)\n\u001b[1;32m     59\u001b[0m epochs \u001b[38;5;241m=\u001b[39m np\u001b[38;5;241m.\u001b[39marange(\u001b[38;5;28mlen\u001b[39m(curves[\u001b[38;5;124m\"\u001b[39m\u001b[38;5;124mval_loss\u001b[39m\u001b[38;5;124m\"\u001b[39m])) \u001b[38;5;241m+\u001b[39m \u001b[38;5;241m1\u001b[39m\n\u001b[0;32m---> 61\u001b[0m \u001b[43max\u001b[49m\u001b[43m[\u001b[49m\u001b[38;5;241;43m0\u001b[39;49m\u001b[43m]\u001b[49m\u001b[38;5;241;43m.\u001b[39;49m\u001b[43mplot\u001b[49m\u001b[43m(\u001b[49m\u001b[43mepochs\u001b[49m\u001b[43m,\u001b[49m\u001b[43m \u001b[49m\u001b[43mcurves\u001b[49m\u001b[43m[\u001b[49m\u001b[38;5;124;43m'\u001b[39;49m\u001b[38;5;124;43mval_loss\u001b[39;49m\u001b[38;5;124;43m'\u001b[39;49m\u001b[43m]\u001b[49m\u001b[43m,\u001b[49m\u001b[43m \u001b[49m\u001b[43mlabel\u001b[49m\u001b[38;5;241;43m=\u001b[39;49m\u001b[38;5;124;43m'\u001b[39;49m\u001b[38;5;124;43mvalidation\u001b[39;49m\u001b[38;5;124;43m'\u001b[39;49m\u001b[43m)\u001b[49m\n\u001b[1;32m     62\u001b[0m ax[\u001b[38;5;241m0\u001b[39m]\u001b[38;5;241m.\u001b[39mplot(epochs, curves[\u001b[38;5;124m'\u001b[39m\u001b[38;5;124mtrain_loss\u001b[39m\u001b[38;5;124m'\u001b[39m], label\u001b[38;5;241m=\u001b[39m\u001b[38;5;124m'\u001b[39m\u001b[38;5;124mtraining\u001b[39m\u001b[38;5;124m'\u001b[39m)\n\u001b[1;32m     63\u001b[0m ax[\u001b[38;5;241m0\u001b[39m]\u001b[38;5;241m.\u001b[39mset_xlabel(\u001b[38;5;124m'\u001b[39m\u001b[38;5;124mEpoch\u001b[39m\u001b[38;5;124m'\u001b[39m)\n",
      "File \u001b[0;32m~/miniforge3/envs/inteli_cpu/lib/python3.12/site-packages/matplotlib/axes/_axes.py:1781\u001b[0m, in \u001b[0;36mAxes.plot\u001b[0;34m(self, scalex, scaley, data, *args, **kwargs)\u001b[0m\n\u001b[1;32m   1779\u001b[0m lines \u001b[38;5;241m=\u001b[39m [\u001b[38;5;241m*\u001b[39m\u001b[38;5;28mself\u001b[39m\u001b[38;5;241m.\u001b[39m_get_lines(\u001b[38;5;28mself\u001b[39m, \u001b[38;5;241m*\u001b[39margs, data\u001b[38;5;241m=\u001b[39mdata, \u001b[38;5;241m*\u001b[39m\u001b[38;5;241m*\u001b[39mkwargs)]\n\u001b[1;32m   1780\u001b[0m \u001b[38;5;28;01mfor\u001b[39;00m line \u001b[38;5;129;01min\u001b[39;00m lines:\n\u001b[0;32m-> 1781\u001b[0m     \u001b[38;5;28;43mself\u001b[39;49m\u001b[38;5;241;43m.\u001b[39;49m\u001b[43madd_line\u001b[49m\u001b[43m(\u001b[49m\u001b[43mline\u001b[49m\u001b[43m)\u001b[49m\n\u001b[1;32m   1782\u001b[0m \u001b[38;5;28;01mif\u001b[39;00m scalex:\n\u001b[1;32m   1783\u001b[0m     \u001b[38;5;28mself\u001b[39m\u001b[38;5;241m.\u001b[39m_request_autoscale_view(\u001b[38;5;124m\"\u001b[39m\u001b[38;5;124mx\u001b[39m\u001b[38;5;124m\"\u001b[39m)\n",
      "File \u001b[0;32m~/miniforge3/envs/inteli_cpu/lib/python3.12/site-packages/matplotlib/axes/_base.py:2339\u001b[0m, in \u001b[0;36m_AxesBase.add_line\u001b[0;34m(self, line)\u001b[0m\n\u001b[1;32m   2336\u001b[0m \u001b[38;5;28;01mif\u001b[39;00m line\u001b[38;5;241m.\u001b[39mget_clip_path() \u001b[38;5;129;01mis\u001b[39;00m \u001b[38;5;28;01mNone\u001b[39;00m:\n\u001b[1;32m   2337\u001b[0m     line\u001b[38;5;241m.\u001b[39mset_clip_path(\u001b[38;5;28mself\u001b[39m\u001b[38;5;241m.\u001b[39mpatch)\n\u001b[0;32m-> 2339\u001b[0m \u001b[38;5;28;43mself\u001b[39;49m\u001b[38;5;241;43m.\u001b[39;49m\u001b[43m_update_line_limits\u001b[49m\u001b[43m(\u001b[49m\u001b[43mline\u001b[49m\u001b[43m)\u001b[49m\n\u001b[1;32m   2340\u001b[0m \u001b[38;5;28;01mif\u001b[39;00m \u001b[38;5;129;01mnot\u001b[39;00m line\u001b[38;5;241m.\u001b[39mget_label():\n\u001b[1;32m   2341\u001b[0m     line\u001b[38;5;241m.\u001b[39mset_label(\u001b[38;5;124mf\u001b[39m\u001b[38;5;124m'\u001b[39m\u001b[38;5;124m_child\u001b[39m\u001b[38;5;132;01m{\u001b[39;00m\u001b[38;5;28mlen\u001b[39m(\u001b[38;5;28mself\u001b[39m\u001b[38;5;241m.\u001b[39m_children)\u001b[38;5;132;01m}\u001b[39;00m\u001b[38;5;124m'\u001b[39m)\n",
      "File \u001b[0;32m~/miniforge3/envs/inteli_cpu/lib/python3.12/site-packages/matplotlib/axes/_base.py:2362\u001b[0m, in \u001b[0;36m_AxesBase._update_line_limits\u001b[0;34m(self, line)\u001b[0m\n\u001b[1;32m   2358\u001b[0m \u001b[38;5;28;01mdef\u001b[39;00m \u001b[38;5;21m_update_line_limits\u001b[39m(\u001b[38;5;28mself\u001b[39m, line):\n\u001b[1;32m   2359\u001b[0m \u001b[38;5;250m    \u001b[39m\u001b[38;5;124;03m\"\"\"\u001b[39;00m\n\u001b[1;32m   2360\u001b[0m \u001b[38;5;124;03m    Figures out the data limit of the given line, updating self.dataLim.\u001b[39;00m\n\u001b[1;32m   2361\u001b[0m \u001b[38;5;124;03m    \"\"\"\u001b[39;00m\n\u001b[0;32m-> 2362\u001b[0m     path \u001b[38;5;241m=\u001b[39m \u001b[43mline\u001b[49m\u001b[38;5;241;43m.\u001b[39;49m\u001b[43mget_path\u001b[49m\u001b[43m(\u001b[49m\u001b[43m)\u001b[49m\n\u001b[1;32m   2363\u001b[0m     \u001b[38;5;28;01mif\u001b[39;00m path\u001b[38;5;241m.\u001b[39mvertices\u001b[38;5;241m.\u001b[39msize \u001b[38;5;241m==\u001b[39m \u001b[38;5;241m0\u001b[39m:\n\u001b[1;32m   2364\u001b[0m         \u001b[38;5;28;01mreturn\u001b[39;00m\n",
      "File \u001b[0;32m~/miniforge3/envs/inteli_cpu/lib/python3.12/site-packages/matplotlib/lines.py:1037\u001b[0m, in \u001b[0;36mLine2D.get_path\u001b[0;34m(self)\u001b[0m\n\u001b[1;32m   1035\u001b[0m \u001b[38;5;250m\u001b[39m\u001b[38;5;124;03m\"\"\"Return the `~matplotlib.path.Path` associated with this line.\"\"\"\u001b[39;00m\n\u001b[1;32m   1036\u001b[0m \u001b[38;5;28;01mif\u001b[39;00m \u001b[38;5;28mself\u001b[39m\u001b[38;5;241m.\u001b[39m_invalidy \u001b[38;5;129;01mor\u001b[39;00m \u001b[38;5;28mself\u001b[39m\u001b[38;5;241m.\u001b[39m_invalidx:\n\u001b[0;32m-> 1037\u001b[0m     \u001b[38;5;28;43mself\u001b[39;49m\u001b[38;5;241;43m.\u001b[39;49m\u001b[43mrecache\u001b[49m\u001b[43m(\u001b[49m\u001b[43m)\u001b[49m\n\u001b[1;32m   1038\u001b[0m \u001b[38;5;28;01mreturn\u001b[39;00m \u001b[38;5;28mself\u001b[39m\u001b[38;5;241m.\u001b[39m_path\n",
      "File \u001b[0;32m~/miniforge3/envs/inteli_cpu/lib/python3.12/site-packages/matplotlib/lines.py:679\u001b[0m, in \u001b[0;36mLine2D.recache\u001b[0;34m(self, always)\u001b[0m\n\u001b[1;32m    677\u001b[0m \u001b[38;5;28;01mif\u001b[39;00m always \u001b[38;5;129;01mor\u001b[39;00m \u001b[38;5;28mself\u001b[39m\u001b[38;5;241m.\u001b[39m_invalidy:\n\u001b[1;32m    678\u001b[0m     yconv \u001b[38;5;241m=\u001b[39m \u001b[38;5;28mself\u001b[39m\u001b[38;5;241m.\u001b[39mconvert_yunits(\u001b[38;5;28mself\u001b[39m\u001b[38;5;241m.\u001b[39m_yorig)\n\u001b[0;32m--> 679\u001b[0m     y \u001b[38;5;241m=\u001b[39m \u001b[43m_to_unmasked_float_array\u001b[49m\u001b[43m(\u001b[49m\u001b[43myconv\u001b[49m\u001b[43m)\u001b[49m\u001b[38;5;241m.\u001b[39mravel()\n\u001b[1;32m    680\u001b[0m \u001b[38;5;28;01melse\u001b[39;00m:\n\u001b[1;32m    681\u001b[0m     y \u001b[38;5;241m=\u001b[39m \u001b[38;5;28mself\u001b[39m\u001b[38;5;241m.\u001b[39m_y\n",
      "File \u001b[0;32m~/miniforge3/envs/inteli_cpu/lib/python3.12/site-packages/matplotlib/cbook.py:1398\u001b[0m, in \u001b[0;36m_to_unmasked_float_array\u001b[0;34m(x)\u001b[0m\n\u001b[1;32m   1396\u001b[0m     \u001b[38;5;28;01mreturn\u001b[39;00m np\u001b[38;5;241m.\u001b[39mma\u001b[38;5;241m.\u001b[39masarray(x, \u001b[38;5;28mfloat\u001b[39m)\u001b[38;5;241m.\u001b[39mfilled(np\u001b[38;5;241m.\u001b[39mnan)\n\u001b[1;32m   1397\u001b[0m \u001b[38;5;28;01melse\u001b[39;00m:\n\u001b[0;32m-> 1398\u001b[0m     \u001b[38;5;28;01mreturn\u001b[39;00m \u001b[43mnp\u001b[49m\u001b[38;5;241;43m.\u001b[39;49m\u001b[43masarray\u001b[49m\u001b[43m(\u001b[49m\u001b[43mx\u001b[49m\u001b[43m,\u001b[49m\u001b[43m \u001b[49m\u001b[38;5;28;43mfloat\u001b[39;49m\u001b[43m)\u001b[49m\n",
      "\u001b[0;31mTypeError\u001b[0m: float() argument must be a string or a real number, not 'builtin_function_or_method'"
     ]
    },
    {
     "data": {
      "image/png": "[encoded data removed]",
      "text/plain": [
       "<Figure size 1300x500 with 2 Axes>"
      ]
     },
     "metadata": {},
     "output_type": "display_data"
    }
   ],
   "source": [
    "import src.model.train as train\n",
    "importlib.reload(train)\n",
    "\n",
    "import src.model.metrics as metrics\n",
    "importlib.reload(metrics)\n",
    "\n",
    "import src.model.vae as vae\n",
    "importlib.reload(vae)\n",
    "\n",
    "model = vae.VAE(latent_dim=21)\n",
    "\n",
    "small_train_dataset = TensorDataset(reshaped_train_difference[:1280], reshaped_train_class[:1280])\n",
    "\n",
    "small_validation_dataset = TensorDataset(reshaped_val_difference[:1280], reshaped_val_class[:1280]) \n",
    "\n",
    "max_epochs = 30\n",
    "criterion = vae.loss_function\n",
    "batch_size = 128\n",
    "lr = 1e-4\n",
    "early_stop = 20\n",
    "use_gpu = False\n",
    "\n",
    "curves, tiempo_ejecucion = train.train_model(model,\n",
    "                                            small_train_dataset,\n",
    "                                            small_validation_dataset,\n",
    "                                            test_dataset,\n",
    "                                            max_epochs=max_epochs,\n",
    "                                            criterion=criterion,\n",
    "                                            batch_size=batch_size,\n",
    "                                            lr=lr,\n",
    "                                            early_stopping_tolerance=early_stop,\n",
    "                                            use_gpu=use_gpu) #falta definir los parámetros\n",
    "\n",
    "curves_fig = metrics.show_curves(curves)"
   ]
  },
  {
   "cell_type": "code",
   "execution_count": 209,
   "metadata": {},
   "outputs": [
    {
     "data": {
      "image/png": "[encoded data removed]",
      "text/plain": [
       "<Figure size 1000x500 with 2 Axes>"
      ]
     },
     "metadata": {},
     "output_type": "display_data"
    }
   ],
   "source": [
    "import src.plots as plots\n",
    "importlib.reload(plots)\n",
    "\n",
    "# Select an image from the dataset\n",
    "image = dataset_1_21['Train']['images'][1, :, :, 0]\n",
    "vector = dataset_1_21['Train']['features'][0]\n",
    "# Convert the image to a tensor\n",
    "image_tensor = torch.tensor(image, dtype=torch.float32)\n",
    "# Add a batch dimension and channel dimension to the image tensor\n",
    "image_tensor = image_tensor.unsqueeze(0).unsqueeze(0)\n",
    "\n",
    "# Create a DataLoader for the image tensor\n",
    "image_loader = torch.utils.data.DataLoader(image_tensor, batch_size=1)\n",
    "\n",
    "import src.model.vae as vae\n",
    "importlib.reload(vae)\n",
    "\n",
    "model = vae.VAE(latent_dim=21)\n",
    "\n",
    "reconstructed_image = model.forward(image_tensor)\n",
    "\n",
    "plots.plot_two_images(image, reconstructed_image[0][0][0].detach().numpy())"
   ]
  }
 ],
 "metadata": {
  "kernelspec": {
   "display_name": "inteli_cpu",
   "language": "python",
   "name": "python3"
  },
  "language_info": {
   "codemirror_mode": {
    "name": "ipython",
    "version": 3
   },
   "file_extension": ".py",
   "mimetype": "text/x-python",
   "name": "python",
   "nbconvert_exporter": "python",
   "pygments_lexer": "ipython3",
   "version": "3.12.3"
  }
 },
 "nbformat": 4,
 "nbformat_minor": 2
}
