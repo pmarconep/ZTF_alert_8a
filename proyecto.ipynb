{
 "cells": [
  {
   "cell_type": "markdown",
   "metadata": {},
   "source": [
    "# Proyecto Inteligencia Computacional - Proyecto 8 - ID 8a\n",
    "\n",
    "## Integrantes\n",
    "- Juan Pablo Contreras\n",
    "- Pascual Marcone\n",
    "\n",
    "## Ayudante\n",
    "- Sebastian Guzman"
   ]
  },
  {
   "cell_type": "markdown",
   "metadata": {},
   "source": [
    "# Dependencias"
   ]
  },
  {
   "cell_type": "code",
   "execution_count": 2,
   "metadata": {},
   "outputs": [
    {
     "data": {
      "text/plain": [
       "<module 'src' (namespace) from ['/home/pascual/inteli/proyecto/src']>"
      ]
     },
     "execution_count": 2,
     "metadata": {},
     "output_type": "execute_result"
    }
   ],
   "source": [
    "#libs\n",
    "import pandas as pd\n",
    "import numpy as np\n",
    "import matplotlib.pyplot as plt\n",
    "import importlib\n",
    "\n",
    "#system\n",
    "from pathlib import Path\n",
    "import time\n",
    "\n",
    "#ai\n",
    "import torch\n",
    "from torch import nn\n",
    "import torchvision\n",
    "\n",
    "from sklearn.metrics import confusion_matrix, ConfusionMatrixDisplay\n",
    "\n",
    "import src\n",
    "from torch.utils.data import TensorDataset\n",
    "importlib.reload(src)"
   ]
  },
  {
   "cell_type": "markdown",
   "metadata": {},
   "source": [
    "# Data access"
   ]
  },
  {
   "cell_type": "code",
   "execution_count": 3,
   "metadata": {},
   "outputs": [],
   "source": [
    "#load everything\n",
    "stamps_dataset = pd.read_pickle('data/5stamps_dataset.pkl')\n",
    "dataset_1_21 = pd.read_pickle('data/stamp_dataset_21_new.pkl')\n",
    "dataset_2_28 = pd.read_pickle('data/stamp_dataset_28.pkl')\n",
    "dataset_2_45 = pd.read_pickle('data/stamp_dataset_45.pkl')\n",
    "dataset_1_45 = pd.read_pickle('data/stamp_dataset_jun_allwise_45_final.pkl')\n",
    "dataset_2_63 = pd.read_pickle('data/stamp_dataset_only_images_63.pkl')\n",
    "dataset_1_63 = pd.read_pickle('data/td_ztf_stamp_17_06_20.pkl')"
   ]
  },
  {
   "cell_type": "code",
   "execution_count": 4,
   "metadata": {},
   "outputs": [],
   "source": [
    "#changing all labels to match for ease of use in the future\n",
    "def rename_labels(dataset, old_value, new_value):\n",
    "    for key in dataset.keys():\n",
    "        if old_value in dataset[key]:\n",
    "            dataset[key][new_value] = dataset[key].pop(old_value)\n",
    "\n",
    "# apply the function to \n",
    "rename_labels(stamps_dataset, 'labels', 'class')\n",
    "# rename_labels(dataset_1_63, 'labels', 'class')\n",
    "rename_labels(stamps_dataset, 'science', 'images')"
   ]
  },
  {
   "cell_type": "markdown",
   "metadata": {},
   "source": [
    "## Data Characterization"
   ]
  },
  {
   "cell_type": "code",
   "execution_count": 5,
   "metadata": {},
   "outputs": [
    {
     "name": "stdout",
     "output_type": "stream",
     "text": [
      "stamps_dataset -- (123227, 5, 21, 21)\n",
      "├── Train\n",
      "│   ├── labels\n",
      "│   ├── images\n",
      "│   ├── template\n",
      "│   └── difference\n",
      "├── validation\n",
      "│   ├── labels\n",
      "│   ├── images\n",
      "│   ├── template\n",
      "│   └── difference\n",
      "└── Test\n",
      "    ├── labels\n",
      "    ├── images\n",
      "    ├── template\n",
      "    └── difference\n",
      "\n",
      "\n",
      "dataset_1_21 -- (72710, 21, 21, 3)\n",
      "├── Train\n",
      "│   ├── images\n",
      "│   ├── features\n",
      "│   ├── oid\n",
      "│   └── class\n",
      "├── validation\n",
      "│   ├── images\n",
      "│   ├── features\n",
      "│   ├── oid\n",
      "│   └── class\n",
      "└── Test\n",
      "    ├── images\n",
      "    ├── features\n",
      "    ├── oid\n",
      "    └── class\n",
      "\n",
      "\n",
      "dataset_2_28 -- (50594, 28, 28, 3)\n",
      "├── Train\n",
      "│   ├── images\n",
      "│   ├── features\n",
      "│   ├── oid\n",
      "│   └── class\n",
      "├── validation\n",
      "│   ├── images\n",
      "│   ├── features\n",
      "│   ├── oid\n",
      "│   └── class\n",
      "└── Test\n",
      "    ├── images\n",
      "    ├── features\n",
      "    ├── oid\n",
      "    └── class\n",
      "\n",
      "\n",
      "dataset_2_45 -- (50594, 45, 45, 3)\n",
      "├── Train\n",
      "│   ├── images\n",
      "│   ├── features\n",
      "│   ├── oid\n",
      "│   └── class\n",
      "├── validation\n",
      "│   ├── images\n",
      "│   ├── features\n",
      "│   ├── oid\n",
      "│   └── class\n",
      "└── Test\n",
      "    ├── images\n",
      "    ├── features\n",
      "    ├── oid\n",
      "    └── class\n",
      "\n",
      "\n",
      "dataset_1_45 -- (72710, 45, 45, 3)\n",
      "├── Train\n",
      "│   ├── images\n",
      "│   ├── features\n",
      "│   ├── oid\n",
      "│   └── class\n",
      "├── validation\n",
      "│   ├── images\n",
      "│   ├── features\n",
      "│   ├── oid\n",
      "│   └── class\n",
      "└── Test\n",
      "    ├── images\n",
      "    ├── features\n",
      "    ├── oid\n",
      "    └── class\n",
      "\n",
      "\n",
      "dataset_2_63 -- (50594, 63, 63, 3)\n",
      "├── Train\n",
      "│   ├── images\n",
      "│   └── class\n",
      "├── validation\n",
      "│   ├── images\n",
      "│   └── class\n",
      "└── Test\n",
      "    ├── images\n",
      "    └── class\n",
      "\n",
      "\n",
      "dataset_1_63 -- (72710, 63, 63, 3)\n",
      "├── Train\n",
      "│   ├── images\n",
      "│   ├── features\n",
      "│   └── labels\n",
      "├── validation\n",
      "│   ├── images\n",
      "│   ├── features\n",
      "│   └── labels\n",
      "└── Test\n",
      "    ├── images\n",
      "    ├── features\n",
      "    └── labels\n"
     ]
    }
   ],
   "source": [
    "from anytree import Node, RenderTree\n",
    "\n",
    "# stamps_dataset\n",
    "root = Node(f\"stamps_dataset -- {stamps_dataset['Train']['images'].shape}\")\n",
    "train = Node(\"Train\", parent=root)\n",
    "validation = Node(\"validation\", parent=root)\n",
    "test = Node(\"Test\", parent=root)\n",
    "\n",
    "labels = Node(\"labels\", parent=train)\n",
    "images = Node(\"images\", parent=train)\n",
    "template = Node(\"template\", parent=train)\n",
    "difference = Node(\"difference\", parent=train)\n",
    "\n",
    "s_labels = Node(\"labels\", parent=validation)\n",
    "s_images = Node(\"images\", parent=validation)\n",
    "s_template = Node(\"template\", parent=validation)\n",
    "s_difference = Node(\"difference\", parent=validation)\n",
    "\n",
    "t_labels = Node(\"labels\", parent=test)\n",
    "t_images = Node(\"images\", parent=test)\n",
    "t_template = Node(\"template\", parent=test)\n",
    "t_difference = Node(\"difference\", parent=test)\n",
    "\n",
    "# Render the tree\n",
    "for pre, fill, node in RenderTree(root):\n",
    "    print(\"%s%s\" % (pre, node.name))\n",
    "print('\\n')\n",
    "\n",
    "# dataset_1_21\n",
    "root = Node(f\"dataset_1_21 -- {dataset_1_21['Train']['images'].shape}\")\n",
    "train = Node(\"Train\", parent=root)\n",
    "validation = Node(\"validation\", parent=root)\n",
    "test = Node(\"Test\", parent=root)\n",
    "\n",
    "labels = Node(\"images\", parent=train)\n",
    "images = Node(\"features\", parent=train)\n",
    "template = Node(\"oid\", parent=train)\n",
    "difference = Node(\"class\", parent=train)\n",
    "\n",
    "s_labels = Node(\"images\", parent=validation)\n",
    "s_images = Node(\"features\", parent=validation)\n",
    "s_template = Node(\"oid\", parent=validation)\n",
    "s_difference = Node(\"class\", parent=validation)\n",
    "\n",
    "t_labels = Node(\"images\", parent=test)\n",
    "t_images = Node(\"features\", parent=test)\n",
    "t_template = Node(\"oid\", parent=test)\n",
    "t_difference = Node(\"class\", parent=test)\n",
    "\n",
    "for pre, fill, node in RenderTree(root):\n",
    "    print(\"%s%s\" % (pre, node.name))\n",
    "print('\\n')\n",
    "\n",
    "# dataset_2_28\n",
    "root = Node(f\"dataset_2_28 -- {dataset_2_28['Train']['images'].shape}\")\n",
    "train = Node(\"Train\", parent=root)\n",
    "validation = Node(\"validation\", parent=root)\n",
    "test = Node(\"Test\", parent=root)\n",
    "\n",
    "labels = Node(\"images\", parent=train)\n",
    "images = Node(\"features\", parent=train)\n",
    "template = Node(\"oid\", parent=train)\n",
    "difference = Node(\"class\", parent=train)\n",
    "\n",
    "s_labels = Node(\"images\", parent=validation)\n",
    "s_images = Node(\"features\", parent=validation)\n",
    "s_template = Node(\"oid\", parent=validation)\n",
    "s_difference = Node(\"class\", parent=validation)\n",
    "\n",
    "t_labels = Node(\"images\", parent=test)\n",
    "t_images = Node(\"features\", parent=test)\n",
    "t_template = Node(\"oid\", parent=test)\n",
    "t_difference = Node(\"class\", parent=test)\n",
    "\n",
    "for pre, fill, node in RenderTree(root):\n",
    "    print(\"%s%s\" % (pre, node.name))\n",
    "print('\\n')\n",
    "\n",
    "# dataset_2_45\n",
    "root = Node(f\"dataset_2_45 -- {dataset_2_45['Train']['images'].shape}\")\n",
    "train = Node(\"Train\", parent=root)\n",
    "validation = Node(\"validation\", parent=root)\n",
    "test = Node(\"Test\", parent=root)\n",
    "\n",
    "labels = Node(\"images\", parent=train)\n",
    "images = Node(\"features\", parent=train)\n",
    "template = Node(\"oid\", parent=train)\n",
    "difference = Node(\"class\", parent=train)\n",
    "\n",
    "s_labels = Node(\"images\", parent=validation)\n",
    "s_images = Node(\"features\", parent=validation)\n",
    "s_template = Node(\"oid\", parent=validation)\n",
    "s_difference = Node(\"class\", parent=validation)\n",
    "\n",
    "t_labels = Node(\"images\", parent=test)\n",
    "t_images = Node(\"features\", parent=test)\n",
    "t_template = Node(\"oid\", parent=test)\n",
    "t_difference = Node(\"class\", parent=test)\n",
    "\n",
    "for pre, fill, node in RenderTree(root):\n",
    "    print(\"%s%s\" % (pre, node.name))\n",
    "print('\\n')\n",
    "\n",
    "# dataset_1_45\n",
    "root = Node(f\"dataset_1_45 -- {dataset_1_45['Train']['images'].shape}\")\n",
    "train = Node(\"Train\", parent=root)\n",
    "validation = Node(\"validation\", parent=root)\n",
    "test = Node(\"Test\", parent=root)\n",
    "\n",
    "labels = Node(\"images\", parent=train)\n",
    "images = Node(\"features\", parent=train)\n",
    "template = Node(\"oid\", parent=train)\n",
    "difference = Node(\"class\", parent=train)\n",
    "\n",
    "s_labels = Node(\"images\", parent=validation)\n",
    "s_images = Node(\"features\", parent=validation)\n",
    "s_template = Node(\"oid\", parent=validation)\n",
    "s_difference = Node(\"class\", parent=validation)\n",
    "\n",
    "t_labels = Node(\"images\", parent=test)\n",
    "t_images = Node(\"features\", parent=test)\n",
    "t_template = Node(\"oid\", parent=test)\n",
    "t_difference = Node(\"class\", parent=test)\n",
    "\n",
    "for pre, fill, node in RenderTree(root):\n",
    "    print(\"%s%s\" % (pre, node.name))\n",
    "print('\\n')\n",
    "\n",
    "# dataset_2_63\n",
    "root = Node(f\"dataset_2_63 -- {dataset_2_63['Train']['images'].shape}\")\n",
    "train = Node(\"Train\", parent=root)\n",
    "validation = Node(\"validation\", parent=root)\n",
    "test = Node(\"Test\", parent=root)\n",
    "\n",
    "labels = Node(\"images\", parent=train)\n",
    "difference = Node(\"class\", parent=train)\n",
    "\n",
    "s_labels = Node(\"images\", parent=validation)\n",
    "s_difference = Node(\"class\", parent=validation)\n",
    "\n",
    "t_labels = Node(\"images\", parent=test)\n",
    "t_difference = Node(\"class\", parent=test)\n",
    "\n",
    "for pre, fill, node in RenderTree(root):\n",
    "    print(\"%s%s\" % (pre, node.name))\n",
    "print('\\n')\n",
    "\n",
    "# dataset_1_63\n",
    "root = Node(f\"dataset_1_63 -- {dataset_1_63['Train']['images'].shape}\")\n",
    "train = Node(\"Train\", parent=root)\n",
    "validation = Node(\"validation\", parent=root)\n",
    "test = Node(\"Test\", parent=root)\n",
    "\n",
    "labels = Node(\"images\", parent=train)\n",
    "images = Node(\"features\", parent=train)\n",
    "difference = Node(\"labels\", parent=train)\n",
    "\n",
    "s_labels = Node(\"images\", parent=validation)\n",
    "s_images = Node(\"features\", parent=validation)\n",
    "s_difference = Node(\"labels\", parent=validation)\n",
    "\n",
    "t_labels = Node(\"images\", parent=test)\n",
    "t_images = Node(\"features\", parent=test)\n",
    "t_difference = Node(\"labels\", parent=test)\n",
    "\n",
    "for pre, fill, node in RenderTree(root):\n",
    "    print(\"%s%s\" % (pre, node.name))"
   ]
  },
  {
   "cell_type": "markdown",
   "metadata": {},
   "source": [
    "# Visualizacion Datos\n",
    "Hay 3 tipos de imagenes $21\\cdot21$, $28\\cdot28$, $45\\cdot45$ y $63\\cdot63$"
   ]
  },
  {
   "cell_type": "code",
   "execution_count": 33,
   "metadata": {},
   "outputs": [
    {
     "name": "stdout",
     "output_type": "stream",
     "text": [
      "(50594, 23)\n"
     ]
    }
   ],
   "source": [
    "print(dataset_2_45['Train']['features'].shape)"
   ]
  },
  {
   "cell_type": "markdown",
   "metadata": {},
   "source": [
    "Analizando algunos ejemplos de cada una"
   ]
  },
  {
   "cell_type": "code",
   "execution_count": 14,
   "metadata": {},
   "outputs": [
    {
     "data": {
      "image/png": "[encoded data removed]",
      "text/plain": [
       "<Figure size 500x900 with 15 Axes>"
      ]
     },
     "metadata": {},
     "output_type": "display_data"
    }
   ],
   "source": [
    "import src.plots as plots\n",
    "importlib.reload(plots)\n",
    "\n",
    "plots.plot_example(stamps_dataset, n = 5)"
   ]
  },
  {
   "cell_type": "markdown",
   "metadata": {},
   "source": [
    "# Data Loader"
   ]
  },
  {
   "cell_type": "code",
   "execution_count": 6,
   "metadata": {},
   "outputs": [
    {
     "name": "stdout",
     "output_type": "stream",
     "text": [
      "<torch.utils.data.dataset.TensorDataset object at 0x716e0fa30530>\n"
     ]
    }
   ],
   "source": [
    "train_difference = torch.tensor(stamps_dataset['Train']['difference'], dtype=torch.float32)\n",
    "train_class = torch.tensor(stamps_dataset['Train']['class'], dtype=torch.float32)\n",
    "\n",
    "validation_difference = torch.tensor(stamps_dataset['Validation']['difference'], dtype=torch.float32)\n",
    "validation_class = torch.tensor(stamps_dataset['Validation']['class'], dtype=torch.float32)\n",
    "\n",
    "test_difference = torch.tensor(stamps_dataset['Test']['difference'], dtype=torch.float32)\n",
    "test_class = torch.tensor(stamps_dataset['Test']['class'], dtype=torch.float32)\n",
    "\n",
    "# Reshape the arrays\n",
    "num_samples, num_photos, height, width = train_difference.shape\n",
    "\n",
    "reshaped_train_difference = train_difference.reshape(num_samples * num_photos, 1, height, width)\n",
    "reshaped_train_class = train_class.repeat_interleave(num_photos)\n",
    "\n",
    "num_samples, num_photos, height, width = validation_difference.shape\n",
    "\n",
    "reshaped_val_difference = validation_difference.reshape(validation_difference.shape[0] * num_photos, 1, height, width)\n",
    "reshaped_val_class = validation_class.repeat_interleave(num_photos)\n",
    "\n",
    "num_samples, num_photos, height, width = test_difference.shape\n",
    "\n",
    "reshaped_test_difference = test_difference.reshape(test_difference.shape[0] * num_photos, 1, height, width)\n",
    "reshaped_test_class = test_class.repeat_interleave(num_photos)\n",
    "\n",
    "train_dataset = TensorDataset(reshaped_train_difference, reshaped_train_class)\n",
    "validation_dataset = TensorDataset(reshaped_val_difference, reshaped_val_class)\n",
    "test_dataset = TensorDataset(reshaped_test_difference, reshaped_test_class)\n",
    "\n",
    "print(train_dataset)"
   ]
  },
  {
   "cell_type": "code",
   "execution_count": 7,
   "metadata": {},
   "outputs": [
    {
     "data": {
      "text/plain": [
       "torch.Size([616135, 1, 21, 21])"
      ]
     },
     "execution_count": 7,
     "metadata": {},
     "output_type": "execute_result"
    }
   ],
   "source": [
    "reshaped_train_difference.shape"
   ]
  },
  {
   "cell_type": "markdown",
   "metadata": {},
   "source": [
    "# Entrenamiento de Modelo"
   ]
  },
  {
   "cell_type": "code",
   "execution_count": 8,
   "metadata": {},
   "outputs": [
    {
     "ename": "ValueError",
     "evalue": "not enough values to unpack (expected 4, got 3)",
     "output_type": "error",
     "traceback": [
      "\u001b[0;31m---------------------------------------------------------------------------\u001b[0m",
      "\u001b[0;31mValueError\u001b[0m                                Traceback (most recent call last)",
      "Cell \u001b[0;32mIn[8], line 19\u001b[0m\n\u001b[1;32m     16\u001b[0m early_stop \u001b[38;5;241m=\u001b[39m \u001b[38;5;241m20\u001b[39m\n\u001b[1;32m     17\u001b[0m use_gpu \u001b[38;5;241m=\u001b[39m \u001b[38;5;28;01mFalse\u001b[39;00m\n\u001b[0;32m---> 19\u001b[0m curves, tiempo_ejecucion \u001b[38;5;241m=\u001b[39m \u001b[43mtrain\u001b[49m\u001b[38;5;241;43m.\u001b[39;49m\u001b[43mtrain_model\u001b[49m\u001b[43m(\u001b[49m\u001b[43mmodel\u001b[49m\u001b[43m,\u001b[49m\n\u001b[1;32m     20\u001b[0m \u001b[43m                                            \u001b[49m\u001b[43mtrain_dataset\u001b[49m\u001b[43m,\u001b[49m\n\u001b[1;32m     21\u001b[0m \u001b[43m                                            \u001b[49m\u001b[43mvalidation_dataset\u001b[49m\u001b[43m,\u001b[49m\n\u001b[1;32m     22\u001b[0m \u001b[43m                                            \u001b[49m\u001b[43mtest_dataset\u001b[49m\u001b[43m,\u001b[49m\n\u001b[1;32m     23\u001b[0m \u001b[43m                                            \u001b[49m\u001b[43mmax_epochs\u001b[49m\u001b[38;5;241;43m=\u001b[39;49m\u001b[43mmax_epochs\u001b[49m\u001b[43m,\u001b[49m\n\u001b[1;32m     24\u001b[0m \u001b[43m                                            \u001b[49m\u001b[43mcriterion\u001b[49m\u001b[38;5;241;43m=\u001b[39;49m\u001b[43mcriterion\u001b[49m\u001b[43m,\u001b[49m\n\u001b[1;32m     25\u001b[0m \u001b[43m                                            \u001b[49m\u001b[43mbatch_size\u001b[49m\u001b[38;5;241;43m=\u001b[39;49m\u001b[43mbatch_size\u001b[49m\u001b[43m,\u001b[49m\n\u001b[1;32m     26\u001b[0m \u001b[43m                                            \u001b[49m\u001b[43mlr\u001b[49m\u001b[38;5;241;43m=\u001b[39;49m\u001b[43mlr\u001b[49m\u001b[43m,\u001b[49m\n\u001b[1;32m     27\u001b[0m \u001b[43m                                            \u001b[49m\u001b[43mearly_stopping_tolerance\u001b[49m\u001b[38;5;241;43m=\u001b[39;49m\u001b[43mearly_stop\u001b[49m\u001b[43m,\u001b[49m\n\u001b[1;32m     28\u001b[0m \u001b[43m                                            \u001b[49m\u001b[43muse_gpu\u001b[49m\u001b[38;5;241;43m=\u001b[39;49m\u001b[43muse_gpu\u001b[49m\u001b[43m)\u001b[49m \u001b[38;5;66;03m#falta definir los parámetros\u001b[39;00m\n\u001b[1;32m     30\u001b[0m curves_fig \u001b[38;5;241m=\u001b[39m metrics\u001b[38;5;241m.\u001b[39mshow_curves(curves)\n",
      "File \u001b[0;32m~/inteli/proyecto/src/model/train.py:86\u001b[0m, in \u001b[0;36mtrain_model\u001b[0;34m(model, train_dataset, val_dataset, test_dataset, max_epochs, criterion, batch_size, lr, early_stopping_tolerance, use_gpu)\u001b[0m\n\u001b[1;32m     83\u001b[0m     y_batch \u001b[38;5;241m=\u001b[39m y_batch\u001b[38;5;241m.\u001b[39mcuda()\n\u001b[1;32m     85\u001b[0m \u001b[38;5;66;03m# Predicción\u001b[39;00m\n\u001b[0;32m---> 86\u001b[0m y_predicted, mu, logvar, sigma \u001b[38;5;241m=\u001b[39m model(diff)\n\u001b[1;32m     87\u001b[0m \u001b[38;5;66;03m# y_predicted, mu, logvar, sigma = model(diff)\u001b[39;00m\n\u001b[1;32m     89\u001b[0m y_batch \u001b[38;5;241m=\u001b[39m y_batch\u001b[38;5;241m.\u001b[39mreshape(\u001b[38;5;241m-\u001b[39m\u001b[38;5;241m1\u001b[39m, \u001b[38;5;241m1\u001b[39m)\u001b[38;5;241m.\u001b[39mfloat()\n",
      "\u001b[0;31mValueError\u001b[0m: not enough values to unpack (expected 4, got 3)"
     ]
    }
   ],
   "source": [
    "import src.model.train as train\n",
    "importlib.reload(train)\n",
    "\n",
    "import src.model.metrics as metrics\n",
    "importlib.reload(metrics)\n",
    "\n",
    "import src.model.vae as vae\n",
    "importlib.reload(vae)\n",
    "\n",
    "model = vae.VAE(latent_dim=21, img_size=21)\n",
    "\n",
    "max_epochs = 30\n",
    "criterion = vae.vae_loss_function\n",
    "batch_size = 128\n",
    "lr = 1e-4\n",
    "early_stop = 20\n",
    "use_gpu = False\n",
    "\n",
    "curves, tiempo_ejecucion = train.train_model(model,\n",
    "                                            train_dataset,\n",
    "                                            validation_dataset,\n",
    "                                            test_dataset,\n",
    "                                            max_epochs=max_epochs,\n",
    "                                            criterion=criterion,\n",
    "                                            batch_size=batch_size,\n",
    "                                            lr=lr,\n",
    "                                            early_stopping_tolerance=early_stop,\n",
    "                                            use_gpu=use_gpu) #falta definir los parámetros\n",
    "\n",
    "curves_fig = metrics.show_curves(curves)"
   ]
  },
  {
   "cell_type": "code",
   "execution_count": 9,
   "metadata": {},
   "outputs": [
    {
     "ename": "AttributeError",
     "evalue": "module 'src.model.test.vae' has no attribute 'loss_function'",
     "output_type": "error",
     "traceback": [
      "\u001b[0;31m---------------------------------------------------------------------------\u001b[0m",
      "\u001b[0;31mAttributeError\u001b[0m                            Traceback (most recent call last)",
      "Cell \u001b[0;32mIn[9], line 14\u001b[0m\n\u001b[1;32m     11\u001b[0m model \u001b[38;5;241m=\u001b[39m vae\u001b[38;5;241m.\u001b[39mEncoder(latent_dim\u001b[38;5;241m=\u001b[39m\u001b[38;5;241m21\u001b[39m)\n\u001b[1;32m     13\u001b[0m max_epochs \u001b[38;5;241m=\u001b[39m \u001b[38;5;241m100\u001b[39m\n\u001b[0;32m---> 14\u001b[0m criterion \u001b[38;5;241m=\u001b[39m \u001b[43mvae\u001b[49m\u001b[38;5;241;43m.\u001b[39;49m\u001b[43mloss_function\u001b[49m\n\u001b[1;32m     15\u001b[0m batch_size \u001b[38;5;241m=\u001b[39m \u001b[38;5;241m64\u001b[39m\n\u001b[1;32m     16\u001b[0m lr \u001b[38;5;241m=\u001b[39m \u001b[38;5;241m1e-4\u001b[39m\n",
      "\u001b[0;31mAttributeError\u001b[0m: module 'src.model.test.vae' has no attribute 'loss_function'"
     ]
    }
   ],
   "source": [
    "import src.model.test.train as train\n",
    "importlib.reload(train)\n",
    "\n",
    "import src.model.test.metrics as metrics\n",
    "importlib.reload(metrics)\n",
    "\n",
    "import src.model.test.vae as vae\n",
    "importlib.reload(vae)\n",
    "\n",
    "\n",
    "model = vae.Encoder(latent_dim=21)\n",
    "\n",
    "max_epochs = 100\n",
    "criterion = vae.loss_function\n",
    "batch_size = 64\n",
    "lr = 1e-4\n",
    "early_stop = 100\n",
    "use_gpu = False\n",
    "\n",
    "curves, tiempo_ejecucion = train.train_model(model,\n",
    "                                            train_dataset,\n",
    "                                            validation_dataset,\n",
    "                                            test_dataset,\n",
    "                                            max_epochs=max_epochs,\n",
    "                                            criterion=criterion,\n",
    "                                            batch_size=batch_size,\n",
    "                                            lr=lr,\n",
    "                                            early_stopping_tolerance=early_stop,\n",
    "                                            use_gpu=use_gpu) #falta definir los parámetros\n",
    "\n",
    "curves_fig = metrics.show_curves(curves)"
   ]
  },
  {
   "cell_type": "code",
   "execution_count": 42,
   "metadata": {},
   "outputs": [
    {
     "data": {
      "text/plain": [
       "(72710, 26)"
      ]
     },
     "execution_count": 42,
     "metadata": {},
     "output_type": "execute_result"
    }
   ],
   "source": [
    "dataset_1_21['Train']['features'].shape"
   ]
  },
  {
   "cell_type": "code",
   "execution_count": 106,
   "metadata": {},
   "outputs": [
    {
     "data": {
      "image/png": "[encoded data removed]",
      "text/plain": [
       "<Figure size 1000x500 with 2 Axes>"
      ]
     },
     "metadata": {},
     "output_type": "display_data"
    }
   ],
   "source": [
    "import src.plots as plots\n",
    "\n",
    "# Select an image from the dataset\n",
    "image = dataset_1_21['Train']['images'][0, :, :, 0]\n",
    "vector = dataset_1_21['Train']['features'][0]\n",
    "# Convert the image to a tensor\n",
    "image_tensor = torch.tensor(image, dtype=torch.float32)\n",
    "# Add a batch dimension and channel dimension to the image tensor\n",
    "image_tensor = image_tensor.unsqueeze(0).unsqueeze(0)\n",
    "\n",
    "# Create a DataLoader for the image tensor\n",
    "image_loader = torch.utils.data.DataLoader(image_tensor, batch_size=1)\n",
    "\n",
    "\n",
    "\n",
    "import src.model.vae as vae\n",
    "importlib.reload(vae)\n",
    "\n",
    "model_encoder = vae.Encoder(latent_dim=26)\n",
    "mu, var = model_encoder.forward(image_tensor)\n",
    "z = model_encoder.reparametrize(mu, var)\n",
    "\n",
    "model_decoder = vae.Decoder(latent_dim=26)\n",
    "reconstructed_image = model_decoder.forward(z)\n",
    "\n",
    "plots.plot_two_images(image, reconstructed_image[0][0].detach().numpy())"
   ]
  },
  {
   "cell_type": "code",
   "execution_count": 83,
   "metadata": {},
   "outputs": [
    {
     "name": "stdout",
     "output_type": "stream",
     "text": [
      "AxesImage(shape=(21, 21))\n"
     ]
    },
    {
     "data": {
      "image/png": "[encoded data removed]",
      "text/plain": [
       "<Figure size 640x480 with 1 Axes>"
      ]
     },
     "metadata": {},
     "output_type": "display_data"
    }
   ],
   "source": []
  },
  {
   "cell_type": "code",
   "execution_count": 26,
   "metadata": {},
   "outputs": [
    {
     "data": {
      "text/plain": [
       "tensor([[-0.8611, -1.1060,  0.1196, -1.6855,  0.9840, -1.6818, -2.3651,  0.8630,\n",
       "         -0.6911, -1.5187,  0.5392,  2.0947,  0.7592,  0.8486,  2.1040, -0.5209,\n",
       "          0.2399,  3.1231,  0.2955,  0.1468,  0.0072, -0.2940, -0.1506, -1.3936,\n",
       "          0.3299, -0.3400]])"
      ]
     },
     "execution_count": 26,
     "metadata": {},
     "output_type": "execute_result"
    }
   ],
   "source": [
    "def reparametrize(mu, logvar):\n",
    "    std = torch.exp(0.5 * logvar)\n",
    "    eps = torch.randn_like(std)\n",
    "    return mu + eps * std\n",
    "\n",
    "mu = torch.tensor([[ 0.3630, -0.4114, -0.0574, -0.0282, -0.2116,  0.5139, -0.0025, -0.5460,\n",
    "         -0.1863,  0.3187, -0.1244,  0.5469,  0.1740,  0.2918,  0.5020, -0.0702,\n",
    "          0.1398,  0.2353,  0.1821,  0.2377,  0.2723, -0.2521,  0.4598,  0.4661,\n",
    "          0.0595,  0.1334]])\n",
    "logvar = torch.tensor([[-0.2444, -0.3525,  0.3974,  0.5036,  0.3790, -0.5399,  0.3296,  0.5853,\n",
    "         -0.5699, -0.5726, -0.2416, -0.2500,  0.4732,  0.2860, -0.2805, -0.5622,\n",
    "          0.3030,  0.6572,  0.4986,  0.1413,  0.1900, -0.2148,  0.2495,  0.0811,\n",
    "          0.3873,  0.1809]])\n",
    "\n",
    "reparametrize(mu, logvar)"
   ]
  },
  {
   "cell_type": "code",
   "execution_count": 66,
   "metadata": {},
   "outputs": [
    {
     "name": "stdout",
     "output_type": "stream",
     "text": [
      "torch.Size([1, 26])\n"
     ]
    },
    {
     "ename": "AttributeError",
     "evalue": "'Encoder' object has no attribute 'decoder'",
     "output_type": "error",
     "traceback": [
      "\u001b[0;31m---------------------------------------------------------------------------\u001b[0m",
      "\u001b[0;31mAttributeError\u001b[0m                            Traceback (most recent call last)",
      "Cell \u001b[0;32mIn[66], line 93\u001b[0m\n\u001b[1;32m     90\u001b[0m z \u001b[38;5;241m=\u001b[39m reparametrize(mu, logvar)\n\u001b[1;32m     91\u001b[0m \u001b[38;5;28mprint\u001b[39m(z\u001b[38;5;241m.\u001b[39mshape)\n\u001b[0;32m---> 93\u001b[0m output \u001b[38;5;241m=\u001b[39m \u001b[43mmodel\u001b[49m\u001b[38;5;241;43m.\u001b[39;49m\u001b[43mdecoder\u001b[49m\u001b[38;5;241m.\u001b[39mforward(z)\n",
      "File \u001b[0;32m~/miniforge3/envs/inteli/lib/python3.12/site-packages/torch/nn/modules/module.py:1729\u001b[0m, in \u001b[0;36mModule.__getattr__\u001b[0;34m(self, name)\u001b[0m\n\u001b[1;32m   1727\u001b[0m     \u001b[38;5;28;01mif\u001b[39;00m name \u001b[38;5;129;01min\u001b[39;00m modules:\n\u001b[1;32m   1728\u001b[0m         \u001b[38;5;28;01mreturn\u001b[39;00m modules[name]\n\u001b[0;32m-> 1729\u001b[0m \u001b[38;5;28;01mraise\u001b[39;00m \u001b[38;5;167;01mAttributeError\u001b[39;00m(\u001b[38;5;124mf\u001b[39m\u001b[38;5;124m\"\u001b[39m\u001b[38;5;124m'\u001b[39m\u001b[38;5;132;01m{\u001b[39;00m\u001b[38;5;28mtype\u001b[39m(\u001b[38;5;28mself\u001b[39m)\u001b[38;5;241m.\u001b[39m\u001b[38;5;18m__name__\u001b[39m\u001b[38;5;132;01m}\u001b[39;00m\u001b[38;5;124m'\u001b[39m\u001b[38;5;124m object has no attribute \u001b[39m\u001b[38;5;124m'\u001b[39m\u001b[38;5;132;01m{\u001b[39;00mname\u001b[38;5;132;01m}\u001b[39;00m\u001b[38;5;124m'\u001b[39m\u001b[38;5;124m\"\u001b[39m)\n",
      "\u001b[0;31mAttributeError\u001b[0m: 'Encoder' object has no attribute 'decoder'"
     ]
    }
   ],
   "source": [
    "import torch\n",
    "import torch.nn as nn\n",
    "import torch.optim as optim\n",
    "from torch.nn import functional as F\n",
    "\n",
    "class Encoder(nn.Module):\n",
    "    def __init__(self, latent_dim):\n",
    "        super(Encoder, self).__init__()\n",
    "        \n",
    "        self.encoder = nn.Sequential(\n",
    "            nn.Conv2d(1, 64, kernel_size=3, stride=1, padding=1),\n",
    "            nn.BatchNorm2d(64),\n",
    "            nn.ReLU(),\n",
    "            nn.Conv2d(64, 64, kernel_size=3, stride=2, padding=1),\n",
    "            nn.BatchNorm2d(64),\n",
    "            nn.ReLU(),\n",
    "            nn.Conv2d(64, 64, kernel_size=3, stride=1, padding=1),\n",
    "            nn.BatchNorm2d(64),\n",
    "            nn.ReLU(),\n",
    "            nn.Conv2d(64, 64, kernel_size=3, stride=2, padding=1),\n",
    "            nn.BatchNorm2d(64),\n",
    "            nn.ReLU(),\n",
    "            nn.Flatten()\n",
    "        )\n",
    "        \n",
    "        self.fc_mu = nn.Linear(64 * 6 * 6, latent_dim)\n",
    "        self.fc_logvar = nn.Linear(64 * 6 * 6, latent_dim)\n",
    "\n",
    "    def forward(self, x):\n",
    "        h = self.encoder(x)\n",
    "        mu = self.fc_mu(h)\n",
    "        logvar = self.fc_logvar(h)\n",
    "        return mu, logvar\n",
    "class Decoder(nn.Module):\n",
    "    def __init__(self, latent_dim):\n",
    "        super(Decoder, self).__init__()\n",
    "        \n",
    "        self.layers = nn.Sequential(\n",
    "            \n",
    "            # FCL\n",
    "            nn.Linear(latent_dim, 64*6*6),\n",
    "            nn.ReLU(),\n",
    "            \n",
    "            # Reshape to (64, 6, 6)\n",
    "            nn.Unflatten(1, (64, 6, 6)),\n",
    "            \n",
    "            #1st Convolutional Layer\n",
    "            nn.Conv2d(64, 64, kernel_size=3, stride=1, padding=1),\n",
    "            nn.BatchNorm2d(64),\n",
    "            nn.ReLU(),\n",
    "            \n",
    "            #2nd Convolutional Layer\n",
    "            nn.Conv2d(64, 64, kernel_size=3, stride=1, padding=1),\n",
    "            nn.BatchNorm2d(64),\n",
    "            nn.ReLU(),\n",
    "            \n",
    "            # Nearest Neighbour interpolation\n",
    "            nn.Upsample(size=(11,11), mode='nearest'),\n",
    "            \n",
    "            #3rd Convolutional Layer\n",
    "            nn.Conv2d(64, 64, kernel_size=3, stride=1, padding=1),\n",
    "            nn.BatchNorm2d(64),\n",
    "            nn.ReLU(),\n",
    "            \n",
    "            #4th Convolutional Layer\n",
    "            nn.Conv2d(64, 64, kernel_size=3, stride=1, padding=1),\n",
    "            nn.BatchNorm2d(64),\n",
    "            nn.ReLU(),\n",
    "            \n",
    "            # Nearest Neighbour interpolation\n",
    "            nn.Upsample(size=(21,21), mode='nearest'),\n",
    "            \n",
    "            #5th Convolutional Layer\n",
    "            nn.Conv2d(64, 64, kernel_size=3, stride=1, padding=1),\n",
    "            nn.BatchNorm2d(64),\n",
    "            nn.ReLU(),  \n",
    "            \n",
    "            #6th Convolutional Layer\n",
    "            nn.Conv2d(64, 1, kernel_size=3, stride=1, padding=1),\n",
    "            nn.ReLU()            \n",
    "        )\n",
    "    def forward(self, x):\n",
    "        return self.layers(x)   \n",
    "        \n",
    "def reparametrize(mu, logvar):\n",
    "    std = torch.exp(0.5 * logvar)\n",
    "    eps = torch.randn_like(std)\n",
    "    return mu + eps * std\n",
    "\n",
    "z = reparametrize(mu, logvar)\n",
    "print(z.shape)\n",
    "\n",
    "output = model.decoder.forward(z)"
   ]
  }
 ],
 "metadata": {
  "kernelspec": {
   "display_name": "inteli_cpu",
   "language": "python",
   "name": "python3"
  },
  "language_info": {
   "codemirror_mode": {
    "name": "ipython",
    "version": 3
   },
   "file_extension": ".py",
   "mimetype": "text/x-python",
   "name": "python",
   "nbconvert_exporter": "python",
   "pygments_lexer": "ipython3",
   "version": "3.12.3"
  }
 },
 "nbformat": 4,
 "nbformat_minor": 2
}
