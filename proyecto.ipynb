{
 "cells": [
  {
   "cell_type": "markdown",
   "metadata": {},
   "source": [
    "# Proyecto Inteligencia Computacional - Proyecto 8 - ID 8a\n",
    "\n",
    "## Integrantes\n",
    "- Juan Pablo Contreras\n",
    "- Pascual Marcone\n",
    "\n",
    "## Ayudante\n",
    "- Sebastian Guzman"
   ]
  },
  {
   "cell_type": "markdown",
   "metadata": {},
   "source": [
    "# Dependencias"
   ]
  },
  {
   "cell_type": "code",
   "execution_count": 47,
   "metadata": {},
   "outputs": [
    {
     "data": {
      "text/plain": [
       "<module 'src' (namespace) from ['/home/pascual/inteli/proyecto/src']>"
      ]
     },
     "execution_count": 47,
     "metadata": {},
     "output_type": "execute_result"
    }
   ],
   "source": [
    "#libs\n",
    "import pandas as pd\n",
    "import numpy as np\n",
    "import matplotlib.pyplot as plt\n",
    "import importlib\n",
    "\n",
    "#system\n",
    "from pathlib import Path\n",
    "import time\n",
    "\n",
    "#ai\n",
    "import torch\n",
    "from torch import nn\n",
    "import torchvision\n",
    "\n",
    "from sklearn.metrics import confusion_matrix, ConfusionMatrixDisplay\n",
    "\n",
    "import src\n",
    "from torch.utils.data import TensorDataset\n",
    "importlib.reload(src)"
   ]
  },
  {
   "cell_type": "markdown",
   "metadata": {},
   "source": [
    "# Data access"
   ]
  },
  {
   "cell_type": "code",
   "execution_count": 2,
   "metadata": {},
   "outputs": [],
   "source": [
    "#load everything\n",
    "stamps_dataset = pd.read_pickle('data/5stamps_dataset.pkl')\n",
    "dataset_1_21 = pd.read_pickle('data/stamp_dataset_21_new.pkl')\n",
    "dataset_2_28 = pd.read_pickle('data/stamp_dataset_28.pkl')\n",
    "dataset_2_45 = pd.read_pickle('data/stamp_dataset_45.pkl')\n",
    "dataset_1_45 = pd.read_pickle('data/stamp_dataset_jun_allwise_45_final.pkl')\n",
    "dataset_2_63 = pd.read_pickle('data/stamp_dataset_only_images_63.pkl')\n",
    "dataset_1_63 = pd.read_pickle('data/td_ztf_stamp_17_06_20.pkl')"
   ]
  },
  {
   "cell_type": "code",
   "execution_count": 3,
   "metadata": {},
   "outputs": [],
   "source": [
    "#changing all labels to match for ease of use in the future\n",
    "def rename_labels(dataset, old_value, new_value):\n",
    "    for key in dataset.keys():\n",
    "        if old_value in dataset[key]:\n",
    "            dataset[key][new_value] = dataset[key].pop(old_value)\n",
    "\n",
    "# apply the function to \n",
    "rename_labels(stamps_dataset, 'labels', 'class')\n",
    "rename_labels(dataset_1_63, 'labels', 'class')\n",
    "rename_labels(stamps_dataset, 'science', 'images')"
   ]
  },
  {
   "cell_type": "markdown",
   "metadata": {},
   "source": [
    "## Data Characterization"
   ]
  },
  {
   "cell_type": "code",
   "execution_count": 7,
   "metadata": {},
   "outputs": [
    {
     "name": "stdout",
     "output_type": "stream",
     "text": [
      "stamps_dataset -- (123227, 5, 21, 21)\n",
      "├── Train\n",
      "│   ├── labels\n",
      "│   ├── images\n",
      "│   ├── template\n",
      "│   └── difference\n",
      "├── validation\n",
      "│   ├── labels\n",
      "│   ├── images\n",
      "│   ├── template\n",
      "│   └── difference\n",
      "└── Test\n",
      "    ├── labels\n",
      "    ├── images\n",
      "    ├── template\n",
      "    └── difference\n",
      "\n",
      "\n",
      "dataset_1_21 -- (72710, 21, 21, 3)\n",
      "├── Train\n",
      "│   ├── images\n",
      "│   ├── features\n",
      "│   ├── oid\n",
      "│   └── class\n",
      "├── validation\n",
      "│   ├── images\n",
      "│   ├── features\n",
      "│   ├── oid\n",
      "│   └── class\n",
      "└── Test\n",
      "    ├── images\n",
      "    ├── features\n",
      "    ├── oid\n",
      "    └── class\n",
      "\n",
      "\n",
      "dataset_2_28 -- (50594, 28, 28, 3)\n",
      "├── Train\n",
      "│   ├── images\n",
      "│   ├── features\n",
      "│   ├── oid\n",
      "│   └── class\n",
      "├── validation\n",
      "│   ├── images\n",
      "│   ├── features\n",
      "│   ├── oid\n",
      "│   └── class\n",
      "└── Test\n",
      "    ├── images\n",
      "    ├── features\n",
      "    ├── oid\n",
      "    └── class\n",
      "\n",
      "\n",
      "dataset_2_45 -- (50594, 45, 45, 3)\n",
      "├── Train\n",
      "│   ├── images\n",
      "│   ├── features\n",
      "│   ├── oid\n",
      "│   └── class\n",
      "├── validation\n",
      "│   ├── images\n",
      "│   ├── features\n",
      "│   ├── oid\n",
      "│   └── class\n",
      "└── Test\n",
      "    ├── images\n",
      "    ├── features\n",
      "    ├── oid\n",
      "    └── class\n",
      "\n",
      "\n",
      "dataset_1_45 -- (72710, 45, 45, 3)\n",
      "├── Train\n",
      "│   ├── images\n",
      "│   ├── features\n",
      "│   ├── oid\n",
      "│   └── class\n",
      "├── validation\n",
      "│   ├── images\n",
      "│   ├── features\n",
      "│   ├── oid\n",
      "│   └── class\n",
      "└── Test\n",
      "    ├── images\n",
      "    ├── features\n",
      "    ├── oid\n",
      "    └── class\n",
      "\n",
      "\n",
      "dataset_2_63 -- (50594, 63, 63, 3)\n",
      "├── Train\n",
      "│   ├── images\n",
      "│   └── class\n",
      "├── validation\n",
      "│   ├── images\n",
      "│   └── class\n",
      "└── Test\n",
      "    ├── images\n",
      "    └── class\n",
      "\n",
      "\n",
      "dataset_1_63 -- (72710, 63, 63, 3)\n",
      "├── Train\n",
      "│   ├── images\n",
      "│   ├── features\n",
      "│   └── labels\n",
      "├── validation\n",
      "│   ├── images\n",
      "│   ├── features\n",
      "│   └── labels\n",
      "└── Test\n",
      "    ├── images\n",
      "    ├── features\n",
      "    └── labels\n"
     ]
    }
   ],
   "source": [
    "from anytree import Node, RenderTree\n",
    "\n",
    "# stamps_dataset\n",
    "root = Node(f\"stamps_dataset -- {stamps_dataset['Train']['images'].shape}\")\n",
    "train = Node(\"Train\", parent=root)\n",
    "validation = Node(\"validation\", parent=root)\n",
    "test = Node(\"Test\", parent=root)\n",
    "\n",
    "labels = Node(\"labels\", parent=train)\n",
    "images = Node(\"images\", parent=train)\n",
    "template = Node(\"template\", parent=train)\n",
    "difference = Node(\"difference\", parent=train)\n",
    "\n",
    "s_labels = Node(\"labels\", parent=validation)\n",
    "s_images = Node(\"images\", parent=validation)\n",
    "s_template = Node(\"template\", parent=validation)\n",
    "s_difference = Node(\"difference\", parent=validation)\n",
    "\n",
    "t_labels = Node(\"labels\", parent=test)\n",
    "t_images = Node(\"images\", parent=test)\n",
    "t_template = Node(\"template\", parent=test)\n",
    "t_difference = Node(\"difference\", parent=test)\n",
    "\n",
    "# Render the tree\n",
    "for pre, fill, node in RenderTree(root):\n",
    "    print(\"%s%s\" % (pre, node.name))\n",
    "print('\\n')\n",
    "\n",
    "# dataset_1_21\n",
    "root = Node(f\"dataset_1_21 -- {dataset_1_21['Train']['images'].shape}\")\n",
    "train = Node(\"Train\", parent=root)\n",
    "validation = Node(\"validation\", parent=root)\n",
    "test = Node(\"Test\", parent=root)\n",
    "\n",
    "labels = Node(\"images\", parent=train)\n",
    "images = Node(\"features\", parent=train)\n",
    "template = Node(\"oid\", parent=train)\n",
    "difference = Node(\"class\", parent=train)\n",
    "\n",
    "s_labels = Node(\"images\", parent=validation)\n",
    "s_images = Node(\"features\", parent=validation)\n",
    "s_template = Node(\"oid\", parent=validation)\n",
    "s_difference = Node(\"class\", parent=validation)\n",
    "\n",
    "t_labels = Node(\"images\", parent=test)\n",
    "t_images = Node(\"features\", parent=test)\n",
    "t_template = Node(\"oid\", parent=test)\n",
    "t_difference = Node(\"class\", parent=test)\n",
    "\n",
    "for pre, fill, node in RenderTree(root):\n",
    "    print(\"%s%s\" % (pre, node.name))\n",
    "print('\\n')\n",
    "\n",
    "# dataset_2_28\n",
    "root = Node(f\"dataset_2_28 -- {dataset_2_28['Train']['images'].shape}\")\n",
    "train = Node(\"Train\", parent=root)\n",
    "validation = Node(\"validation\", parent=root)\n",
    "test = Node(\"Test\", parent=root)\n",
    "\n",
    "labels = Node(\"images\", parent=train)\n",
    "images = Node(\"features\", parent=train)\n",
    "template = Node(\"oid\", parent=train)\n",
    "difference = Node(\"class\", parent=train)\n",
    "\n",
    "s_labels = Node(\"images\", parent=validation)\n",
    "s_images = Node(\"features\", parent=validation)\n",
    "s_template = Node(\"oid\", parent=validation)\n",
    "s_difference = Node(\"class\", parent=validation)\n",
    "\n",
    "t_labels = Node(\"images\", parent=test)\n",
    "t_images = Node(\"features\", parent=test)\n",
    "t_template = Node(\"oid\", parent=test)\n",
    "t_difference = Node(\"class\", parent=test)\n",
    "\n",
    "for pre, fill, node in RenderTree(root):\n",
    "    print(\"%s%s\" % (pre, node.name))\n",
    "print('\\n')\n",
    "\n",
    "# dataset_2_45\n",
    "root = Node(f\"dataset_2_45 -- {dataset_2_45['Train']['images'].shape}\")\n",
    "train = Node(\"Train\", parent=root)\n",
    "validation = Node(\"validation\", parent=root)\n",
    "test = Node(\"Test\", parent=root)\n",
    "\n",
    "labels = Node(\"images\", parent=train)\n",
    "images = Node(\"features\", parent=train)\n",
    "template = Node(\"oid\", parent=train)\n",
    "difference = Node(\"class\", parent=train)\n",
    "\n",
    "s_labels = Node(\"images\", parent=validation)\n",
    "s_images = Node(\"features\", parent=validation)\n",
    "s_template = Node(\"oid\", parent=validation)\n",
    "s_difference = Node(\"class\", parent=validation)\n",
    "\n",
    "t_labels = Node(\"images\", parent=test)\n",
    "t_images = Node(\"features\", parent=test)\n",
    "t_template = Node(\"oid\", parent=test)\n",
    "t_difference = Node(\"class\", parent=test)\n",
    "\n",
    "for pre, fill, node in RenderTree(root):\n",
    "    print(\"%s%s\" % (pre, node.name))\n",
    "print('\\n')\n",
    "\n",
    "# dataset_1_45\n",
    "root = Node(f\"dataset_1_45 -- {dataset_1_45['Train']['images'].shape}\")\n",
    "train = Node(\"Train\", parent=root)\n",
    "validation = Node(\"validation\", parent=root)\n",
    "test = Node(\"Test\", parent=root)\n",
    "\n",
    "labels = Node(\"images\", parent=train)\n",
    "images = Node(\"features\", parent=train)\n",
    "template = Node(\"oid\", parent=train)\n",
    "difference = Node(\"class\", parent=train)\n",
    "\n",
    "s_labels = Node(\"images\", parent=validation)\n",
    "s_images = Node(\"features\", parent=validation)\n",
    "s_template = Node(\"oid\", parent=validation)\n",
    "s_difference = Node(\"class\", parent=validation)\n",
    "\n",
    "t_labels = Node(\"images\", parent=test)\n",
    "t_images = Node(\"features\", parent=test)\n",
    "t_template = Node(\"oid\", parent=test)\n",
    "t_difference = Node(\"class\", parent=test)\n",
    "\n",
    "for pre, fill, node in RenderTree(root):\n",
    "    print(\"%s%s\" % (pre, node.name))\n",
    "print('\\n')\n",
    "\n",
    "# dataset_2_63\n",
    "root = Node(f\"dataset_2_63 -- {dataset_2_63['Train']['images'].shape}\")\n",
    "train = Node(\"Train\", parent=root)\n",
    "validation = Node(\"validation\", parent=root)\n",
    "test = Node(\"Test\", parent=root)\n",
    "\n",
    "labels = Node(\"images\", parent=train)\n",
    "difference = Node(\"class\", parent=train)\n",
    "\n",
    "s_labels = Node(\"images\", parent=validation)\n",
    "s_difference = Node(\"class\", parent=validation)\n",
    "\n",
    "t_labels = Node(\"images\", parent=test)\n",
    "t_difference = Node(\"class\", parent=test)\n",
    "\n",
    "for pre, fill, node in RenderTree(root):\n",
    "    print(\"%s%s\" % (pre, node.name))\n",
    "print('\\n')\n",
    "\n",
    "# dataset_1_63\n",
    "root = Node(f\"dataset_1_63 -- {dataset_1_63['Train']['images'].shape}\")\n",
    "train = Node(\"Train\", parent=root)\n",
    "validation = Node(\"validation\", parent=root)\n",
    "test = Node(\"Test\", parent=root)\n",
    "\n",
    "labels = Node(\"images\", parent=train)\n",
    "images = Node(\"features\", parent=train)\n",
    "difference = Node(\"labels\", parent=train)\n",
    "\n",
    "s_labels = Node(\"images\", parent=validation)\n",
    "s_images = Node(\"features\", parent=validation)\n",
    "s_difference = Node(\"labels\", parent=validation)\n",
    "\n",
    "t_labels = Node(\"images\", parent=test)\n",
    "t_images = Node(\"features\", parent=test)\n",
    "t_difference = Node(\"labels\", parent=test)\n",
    "\n",
    "for pre, fill, node in RenderTree(root):\n",
    "    print(\"%s%s\" % (pre, node.name))"
   ]
  },
  {
   "cell_type": "markdown",
   "metadata": {},
   "source": [
    "# Visualizacion Datos\n",
    "Hay 3 tipos de imagenes $21\\cdot21$, $28\\cdot28$, $45\\cdot45$ y $63\\cdot63$"
   ]
  },
  {
   "cell_type": "code",
   "execution_count": 48,
   "metadata": {},
   "outputs": [
    {
     "name": "stdout",
     "output_type": "stream",
     "text": [
      "[0. 1. 2.]\n"
     ]
    }
   ],
   "source": [
    "print(np.unique(stamps_dataset['Train']['class']))"
   ]
  },
  {
   "cell_type": "markdown",
   "metadata": {},
   "source": [
    "Analizando algunos ejemplos de cada una"
   ]
  },
  {
   "cell_type": "code",
   "execution_count": 49,
   "metadata": {},
   "outputs": [
    {
     "data": {
      "image/png": "[encoded data removed]",
      "text/plain": [
       "<Figure size 500x900 with 15 Axes>"
      ]
     },
     "metadata": {},
     "output_type": "display_data"
    }
   ],
   "source": [
    "import src.plots as plots\n",
    "importlib.reload(plots)\n",
    "\n",
    "plots.plot_example(stamps_dataset, n = 5)"
   ]
  },
  {
   "cell_type": "markdown",
   "metadata": {},
   "source": [
    "# Data Loader"
   ]
  },
  {
   "cell_type": "code",
   "execution_count": 53,
   "metadata": {},
   "outputs": [],
   "source": [
    "train_images = torch.tensor(stamps_dataset['Train']['images'], dtype=torch.float32)\n",
    "train_difference = torch.tensor(stamps_dataset['Train']['difference'], dtype=torch.float32)\n",
    "train_template = torch.tensor(stamps_dataset['Train']['template'], dtype=torch.float32)\n",
    "train_class = torch.tensor(stamps_dataset['Train']['class'], dtype=torch.float32)\n",
    "\n",
    "validation_images = torch.tensor(stamps_dataset['Validation']['images'], dtype=torch.float32)\n",
    "validation_difference = torch.tensor(stamps_dataset['Validation']['difference'], dtype=torch.float32)\n",
    "validation_template = torch.tensor(stamps_dataset['Validation']['template'], dtype=torch.float32)\n",
    "validation_class = torch.tensor(stamps_dataset['Validation']['class'], dtype=torch.float32)\n",
    "\n",
    "test_images = torch.tensor(stamps_dataset['Test']['images'], dtype=torch.float32)\n",
    "test_difference = torch.tensor(stamps_dataset['Test']['difference'], dtype=torch.float32)\n",
    "test_template = torch.tensor(stamps_dataset['Test']['template'], dtype=torch.float32)\n",
    "test_class = torch.tensor(stamps_dataset['Test']['class'], dtype=torch.float32)\n",
    "\n",
    "# Reshape the arrays\n",
    "num_samples, num_photos, height, width = train_images.shape\n",
    "\n",
    "reshaped_train_images = train_images.reshape(num_samples * num_photos, height, width)\n",
    "reshaped_train_difference = train_difference.reshape(num_samples * num_photos, height, width)\n",
    "reshaped_train_template = train_template.repeat_interleave(num_photos, dim=0)\n",
    "reshaped_train_class = train_class.repeat_interleave(num_photos)\n",
    "\n",
    "num_samples, num_photos, height, width = validation_images.shape\n",
    "\n",
    "reshaped_val_images = validation_images.reshape(validation_images.shape[0] * num_photos, height, width)\n",
    "reshaped_val_difference = validation_difference.reshape(validation_difference.shape[0] * num_photos, height, width)\n",
    "reshaped_val_template = validation_template.repeat_interleave(num_photos, dim=0)\n",
    "reshaped_val_class = validation_class.repeat_interleave(num_photos)\n",
    "\n",
    "num_samples, num_photos, height, width = test_images.shape\n",
    "\n",
    "reshaped_test_images = test_images.reshape(test_images.shape[0] * num_photos, height, width)\n",
    "reshaped_test_difference = test_difference.reshape(test_difference.shape[0] * num_photos, height, width)\n",
    "reshaped_test_template = test_template.repeat_interleave(num_photos, dim=0)\n",
    "reshaped_test_class = test_class.repeat_interleave(num_photos)\n",
    "\n",
    "train_dataset = TensorDataset(reshaped_train_images, reshaped_train_template, reshaped_train_difference, reshaped_train_class)\n",
    "validation_dataset = TensorDataset(reshaped_val_images, reshaped_val_template, reshaped_val_difference, reshaped_val_class)\n",
    "test_dataset = TensorDataset(reshaped_test_images, reshaped_test_template, reshaped_test_difference, reshaped_test_class)"
   ]
  },
  {
   "cell_type": "code",
   "execution_count": 59,
   "metadata": {},
   "outputs": [
    {
     "data": {
      "text/plain": [
       "torch.Size([616135, 21, 21])"
      ]
     },
     "execution_count": 59,
     "metadata": {},
     "output_type": "execute_result"
    }
   ],
   "source": [
    "reshaped_train_images.shape"
   ]
  },
  {
   "cell_type": "markdown",
   "metadata": {},
   "source": [
    "# Entrenamiento de Modelo"
   ]
  },
  {
   "cell_type": "code",
   "execution_count": 51,
   "metadata": {},
   "outputs": [
    {
     "data": {
      "text/plain": [
       "<module 'src.model.metrics' from '/home/pascual/inteli/proyecto/src/model/metrics.py'>"
      ]
     },
     "execution_count": 51,
     "metadata": {},
     "output_type": "execute_result"
    }
   ],
   "source": [
    "import src.model.train as train\n",
    "importlib.reload(train)\n",
    "\n",
    "import src.model.metrics as metrics\n",
    "importlib.reload(metrics)"
   ]
  },
  {
   "cell_type": "code",
   "execution_count": 55,
   "metadata": {},
   "outputs": [
    {
     "name": "stdout",
     "output_type": "stream",
     "text": [
      "torch.Size([32, 21, 21]) torch.Size([32, 21, 21]) torch.Size([32, 21, 21])\n"
     ]
    },
    {
     "ename": "RuntimeError",
     "evalue": "Given groups=1, weight of size [64, 1, 3, 3], expected input[1, 32, 63, 21] to have 1 channels, but got 32 channels instead",
     "output_type": "error",
     "traceback": [
      "\u001b[0;31m---------------------------------------------------------------------------\u001b[0m",
      "\u001b[0;31mRuntimeError\u001b[0m                              Traceback (most recent call last)",
      "Cell \u001b[0;32mIn[55], line 10\u001b[0m\n\u001b[1;32m      7\u001b[0m early_stop \u001b[38;5;241m=\u001b[39m \u001b[38;5;241m20\u001b[39m\n\u001b[1;32m      8\u001b[0m use_gpu \u001b[38;5;241m=\u001b[39m \u001b[38;5;28;01mFalse\u001b[39;00m\n\u001b[0;32m---> 10\u001b[0m curves, tiempo_ejecucion \u001b[38;5;241m=\u001b[39m \u001b[43mtrain\u001b[49m\u001b[38;5;241;43m.\u001b[39;49m\u001b[43mtrain_model\u001b[49m\u001b[43m(\u001b[49m\u001b[43mmodel\u001b[49m\u001b[43m,\u001b[49m\n\u001b[1;32m     11\u001b[0m \u001b[43m                                            \u001b[49m\u001b[43mtrain_dataset\u001b[49m\u001b[43m,\u001b[49m\n\u001b[1;32m     12\u001b[0m \u001b[43m                                            \u001b[49m\u001b[43mvalidation_dataset\u001b[49m\u001b[43m,\u001b[49m\n\u001b[1;32m     13\u001b[0m \u001b[43m                                            \u001b[49m\u001b[43mtest_dataset\u001b[49m\u001b[43m,\u001b[49m\n\u001b[1;32m     14\u001b[0m \u001b[43m                                            \u001b[49m\u001b[43mmax_epochs\u001b[49m\u001b[38;5;241;43m=\u001b[39;49m\u001b[43mmax_epochs\u001b[49m\u001b[43m,\u001b[49m\n\u001b[1;32m     15\u001b[0m \u001b[43m                                            \u001b[49m\u001b[43mcriterion\u001b[49m\u001b[38;5;241;43m=\u001b[39;49m\u001b[43mcriterion\u001b[49m\u001b[43m,\u001b[49m\n\u001b[1;32m     16\u001b[0m \u001b[43m                                            \u001b[49m\u001b[43mbatch_size\u001b[49m\u001b[38;5;241;43m=\u001b[39;49m\u001b[43mbatch_size\u001b[49m\u001b[43m,\u001b[49m\n\u001b[1;32m     17\u001b[0m \u001b[43m                                            \u001b[49m\u001b[43mlr\u001b[49m\u001b[38;5;241;43m=\u001b[39;49m\u001b[43mlr\u001b[49m\u001b[43m,\u001b[49m\n\u001b[1;32m     18\u001b[0m \u001b[43m                                            \u001b[49m\u001b[43mearly_stopping_tolerance\u001b[49m\u001b[38;5;241;43m=\u001b[39;49m\u001b[43mearly_stop\u001b[49m\u001b[43m,\u001b[49m\n\u001b[1;32m     19\u001b[0m \u001b[43m                                            \u001b[49m\u001b[43muse_gpu\u001b[49m\u001b[38;5;241;43m=\u001b[39;49m\u001b[43muse_gpu\u001b[49m\u001b[43m)\u001b[49m \u001b[38;5;66;03m#falta definir los parámetros\u001b[39;00m\n\u001b[1;32m     21\u001b[0m curves_fig \u001b[38;5;241m=\u001b[39m metrics\u001b[38;5;241m.\u001b[39mshow_curves(curves)\n",
      "File \u001b[0;32m~/inteli/proyecto/src/model/train.py:171\u001b[0m, in \u001b[0;36mtrain_model\u001b[0;34m(model, train_dataset, val_dataset, test_dataset, max_epochs, criterion, batch_size, lr, early_stopping_tolerance, use_gpu)\u001b[0m\n\u001b[1;32m    168\u001b[0m x_combined \u001b[38;5;241m=\u001b[39m torch\u001b[38;5;241m.\u001b[39mcat((img, temp, diff), dim\u001b[38;5;241m=\u001b[39m\u001b[38;5;241m1\u001b[39m)\n\u001b[1;32m    170\u001b[0m \u001b[38;5;66;03m# Predicción\u001b[39;00m\n\u001b[0;32m--> 171\u001b[0m y_predicted, mu, logvar, sigma \u001b[38;5;241m=\u001b[39m \u001b[43mmodel\u001b[49m\u001b[43m(\u001b[49m\u001b[43mx_combined\u001b[49m\u001b[43m)\u001b[49m\n\u001b[1;32m    173\u001b[0m y_batch \u001b[38;5;241m=\u001b[39m y_batch\u001b[38;5;241m.\u001b[39mreshape(\u001b[38;5;241m-\u001b[39m\u001b[38;5;241m1\u001b[39m, \u001b[38;5;241m1\u001b[39m)\u001b[38;5;241m.\u001b[39mfloat()\n\u001b[1;32m    175\u001b[0m \u001b[38;5;66;03m# Cálculo de loss\u001b[39;00m\n",
      "File \u001b[0;32m~/miniforge3/envs/inteli_cpu/lib/python3.12/site-packages/torch/nn/modules/module.py:1553\u001b[0m, in \u001b[0;36mModule._wrapped_call_impl\u001b[0;34m(self, *args, **kwargs)\u001b[0m\n\u001b[1;32m   1551\u001b[0m     \u001b[38;5;28;01mreturn\u001b[39;00m \u001b[38;5;28mself\u001b[39m\u001b[38;5;241m.\u001b[39m_compiled_call_impl(\u001b[38;5;241m*\u001b[39margs, \u001b[38;5;241m*\u001b[39m\u001b[38;5;241m*\u001b[39mkwargs)  \u001b[38;5;66;03m# type: ignore[misc]\u001b[39;00m\n\u001b[1;32m   1552\u001b[0m \u001b[38;5;28;01melse\u001b[39;00m:\n\u001b[0;32m-> 1553\u001b[0m     \u001b[38;5;28;01mreturn\u001b[39;00m \u001b[38;5;28;43mself\u001b[39;49m\u001b[38;5;241;43m.\u001b[39;49m\u001b[43m_call_impl\u001b[49m\u001b[43m(\u001b[49m\u001b[38;5;241;43m*\u001b[39;49m\u001b[43margs\u001b[49m\u001b[43m,\u001b[49m\u001b[43m \u001b[49m\u001b[38;5;241;43m*\u001b[39;49m\u001b[38;5;241;43m*\u001b[39;49m\u001b[43mkwargs\u001b[49m\u001b[43m)\u001b[49m\n",
      "File \u001b[0;32m~/miniforge3/envs/inteli_cpu/lib/python3.12/site-packages/torch/nn/modules/module.py:1562\u001b[0m, in \u001b[0;36mModule._call_impl\u001b[0;34m(self, *args, **kwargs)\u001b[0m\n\u001b[1;32m   1557\u001b[0m \u001b[38;5;66;03m# If we don't have any hooks, we want to skip the rest of the logic in\u001b[39;00m\n\u001b[1;32m   1558\u001b[0m \u001b[38;5;66;03m# this function, and just call forward.\u001b[39;00m\n\u001b[1;32m   1559\u001b[0m \u001b[38;5;28;01mif\u001b[39;00m \u001b[38;5;129;01mnot\u001b[39;00m (\u001b[38;5;28mself\u001b[39m\u001b[38;5;241m.\u001b[39m_backward_hooks \u001b[38;5;129;01mor\u001b[39;00m \u001b[38;5;28mself\u001b[39m\u001b[38;5;241m.\u001b[39m_backward_pre_hooks \u001b[38;5;129;01mor\u001b[39;00m \u001b[38;5;28mself\u001b[39m\u001b[38;5;241m.\u001b[39m_forward_hooks \u001b[38;5;129;01mor\u001b[39;00m \u001b[38;5;28mself\u001b[39m\u001b[38;5;241m.\u001b[39m_forward_pre_hooks\n\u001b[1;32m   1560\u001b[0m         \u001b[38;5;129;01mor\u001b[39;00m _global_backward_pre_hooks \u001b[38;5;129;01mor\u001b[39;00m _global_backward_hooks\n\u001b[1;32m   1561\u001b[0m         \u001b[38;5;129;01mor\u001b[39;00m _global_forward_hooks \u001b[38;5;129;01mor\u001b[39;00m _global_forward_pre_hooks):\n\u001b[0;32m-> 1562\u001b[0m     \u001b[38;5;28;01mreturn\u001b[39;00m \u001b[43mforward_call\u001b[49m\u001b[43m(\u001b[49m\u001b[38;5;241;43m*\u001b[39;49m\u001b[43margs\u001b[49m\u001b[43m,\u001b[49m\u001b[43m \u001b[49m\u001b[38;5;241;43m*\u001b[39;49m\u001b[38;5;241;43m*\u001b[39;49m\u001b[43mkwargs\u001b[49m\u001b[43m)\u001b[49m\n\u001b[1;32m   1564\u001b[0m \u001b[38;5;28;01mtry\u001b[39;00m:\n\u001b[1;32m   1565\u001b[0m     result \u001b[38;5;241m=\u001b[39m \u001b[38;5;28;01mNone\u001b[39;00m\n",
      "File \u001b[0;32m~/inteli/proyecto/src/model/train.py:102\u001b[0m, in \u001b[0;36mVAE.forward\u001b[0;34m(self, x)\u001b[0m\n\u001b[1;32m    101\u001b[0m \u001b[38;5;28;01mdef\u001b[39;00m \u001b[38;5;21mforward\u001b[39m(\u001b[38;5;28mself\u001b[39m, x):\n\u001b[0;32m--> 102\u001b[0m     mu, logvar \u001b[38;5;241m=\u001b[39m \u001b[38;5;28;43mself\u001b[39;49m\u001b[38;5;241;43m.\u001b[39;49m\u001b[43mencode\u001b[49m\u001b[43m(\u001b[49m\u001b[43mx\u001b[49m\u001b[43m)\u001b[49m\n\u001b[1;32m    103\u001b[0m     z \u001b[38;5;241m=\u001b[39m \u001b[38;5;28mself\u001b[39m\u001b[38;5;241m.\u001b[39mreparametrize(mu, logvar)\n\u001b[1;32m    104\u001b[0m     sigma \u001b[38;5;241m=\u001b[39m \u001b[38;5;28mself\u001b[39m\u001b[38;5;241m.\u001b[39mfc_sigma(z)  \u001b[38;5;66;03m# Estimate variance as part of auto-regularization\u001b[39;00m\n",
      "File \u001b[0;32m~/inteli/proyecto/src/model/train.py:84\u001b[0m, in \u001b[0;36mVAE.encode\u001b[0;34m(self, x)\u001b[0m\n\u001b[1;32m     83\u001b[0m \u001b[38;5;28;01mdef\u001b[39;00m \u001b[38;5;21mencode\u001b[39m(\u001b[38;5;28mself\u001b[39m, x):\n\u001b[0;32m---> 84\u001b[0m     h \u001b[38;5;241m=\u001b[39m \u001b[38;5;28;43mself\u001b[39;49m\u001b[38;5;241;43m.\u001b[39;49m\u001b[43mencoder\u001b[49m\u001b[43m(\u001b[49m\u001b[43mx\u001b[49m\u001b[43m)\u001b[49m\n\u001b[1;32m     85\u001b[0m     h \u001b[38;5;241m=\u001b[39m h\u001b[38;5;241m.\u001b[39mview(\u001b[38;5;241m-\u001b[39m\u001b[38;5;241m1\u001b[39m, \u001b[38;5;241m64\u001b[39m \u001b[38;5;241m*\u001b[39m \u001b[38;5;241m6\u001b[39m \u001b[38;5;241m*\u001b[39m \u001b[38;5;241m6\u001b[39m)  \u001b[38;5;66;03m# Flatten\u001b[39;00m\n\u001b[1;32m     86\u001b[0m     mu \u001b[38;5;241m=\u001b[39m \u001b[38;5;28mself\u001b[39m\u001b[38;5;241m.\u001b[39mfc_mu(h)\n",
      "File \u001b[0;32m~/miniforge3/envs/inteli_cpu/lib/python3.12/site-packages/torch/nn/modules/module.py:1553\u001b[0m, in \u001b[0;36mModule._wrapped_call_impl\u001b[0;34m(self, *args, **kwargs)\u001b[0m\n\u001b[1;32m   1551\u001b[0m     \u001b[38;5;28;01mreturn\u001b[39;00m \u001b[38;5;28mself\u001b[39m\u001b[38;5;241m.\u001b[39m_compiled_call_impl(\u001b[38;5;241m*\u001b[39margs, \u001b[38;5;241m*\u001b[39m\u001b[38;5;241m*\u001b[39mkwargs)  \u001b[38;5;66;03m# type: ignore[misc]\u001b[39;00m\n\u001b[1;32m   1552\u001b[0m \u001b[38;5;28;01melse\u001b[39;00m:\n\u001b[0;32m-> 1553\u001b[0m     \u001b[38;5;28;01mreturn\u001b[39;00m \u001b[38;5;28;43mself\u001b[39;49m\u001b[38;5;241;43m.\u001b[39;49m\u001b[43m_call_impl\u001b[49m\u001b[43m(\u001b[49m\u001b[38;5;241;43m*\u001b[39;49m\u001b[43margs\u001b[49m\u001b[43m,\u001b[49m\u001b[43m \u001b[49m\u001b[38;5;241;43m*\u001b[39;49m\u001b[38;5;241;43m*\u001b[39;49m\u001b[43mkwargs\u001b[49m\u001b[43m)\u001b[49m\n",
      "File \u001b[0;32m~/miniforge3/envs/inteli_cpu/lib/python3.12/site-packages/torch/nn/modules/module.py:1562\u001b[0m, in \u001b[0;36mModule._call_impl\u001b[0;34m(self, *args, **kwargs)\u001b[0m\n\u001b[1;32m   1557\u001b[0m \u001b[38;5;66;03m# If we don't have any hooks, we want to skip the rest of the logic in\u001b[39;00m\n\u001b[1;32m   1558\u001b[0m \u001b[38;5;66;03m# this function, and just call forward.\u001b[39;00m\n\u001b[1;32m   1559\u001b[0m \u001b[38;5;28;01mif\u001b[39;00m \u001b[38;5;129;01mnot\u001b[39;00m (\u001b[38;5;28mself\u001b[39m\u001b[38;5;241m.\u001b[39m_backward_hooks \u001b[38;5;129;01mor\u001b[39;00m \u001b[38;5;28mself\u001b[39m\u001b[38;5;241m.\u001b[39m_backward_pre_hooks \u001b[38;5;129;01mor\u001b[39;00m \u001b[38;5;28mself\u001b[39m\u001b[38;5;241m.\u001b[39m_forward_hooks \u001b[38;5;129;01mor\u001b[39;00m \u001b[38;5;28mself\u001b[39m\u001b[38;5;241m.\u001b[39m_forward_pre_hooks\n\u001b[1;32m   1560\u001b[0m         \u001b[38;5;129;01mor\u001b[39;00m _global_backward_pre_hooks \u001b[38;5;129;01mor\u001b[39;00m _global_backward_hooks\n\u001b[1;32m   1561\u001b[0m         \u001b[38;5;129;01mor\u001b[39;00m _global_forward_hooks \u001b[38;5;129;01mor\u001b[39;00m _global_forward_pre_hooks):\n\u001b[0;32m-> 1562\u001b[0m     \u001b[38;5;28;01mreturn\u001b[39;00m \u001b[43mforward_call\u001b[49m\u001b[43m(\u001b[49m\u001b[38;5;241;43m*\u001b[39;49m\u001b[43margs\u001b[49m\u001b[43m,\u001b[49m\u001b[43m \u001b[49m\u001b[38;5;241;43m*\u001b[39;49m\u001b[38;5;241;43m*\u001b[39;49m\u001b[43mkwargs\u001b[49m\u001b[43m)\u001b[49m\n\u001b[1;32m   1564\u001b[0m \u001b[38;5;28;01mtry\u001b[39;00m:\n\u001b[1;32m   1565\u001b[0m     result \u001b[38;5;241m=\u001b[39m \u001b[38;5;28;01mNone\u001b[39;00m\n",
      "File \u001b[0;32m~/miniforge3/envs/inteli_cpu/lib/python3.12/site-packages/torch/nn/modules/container.py:219\u001b[0m, in \u001b[0;36mSequential.forward\u001b[0;34m(self, input)\u001b[0m\n\u001b[1;32m    217\u001b[0m \u001b[38;5;28;01mdef\u001b[39;00m \u001b[38;5;21mforward\u001b[39m(\u001b[38;5;28mself\u001b[39m, \u001b[38;5;28minput\u001b[39m):\n\u001b[1;32m    218\u001b[0m     \u001b[38;5;28;01mfor\u001b[39;00m module \u001b[38;5;129;01min\u001b[39;00m \u001b[38;5;28mself\u001b[39m:\n\u001b[0;32m--> 219\u001b[0m         \u001b[38;5;28minput\u001b[39m \u001b[38;5;241m=\u001b[39m \u001b[43mmodule\u001b[49m\u001b[43m(\u001b[49m\u001b[38;5;28;43minput\u001b[39;49m\u001b[43m)\u001b[49m\n\u001b[1;32m    220\u001b[0m     \u001b[38;5;28;01mreturn\u001b[39;00m \u001b[38;5;28minput\u001b[39m\n",
      "File \u001b[0;32m~/miniforge3/envs/inteli_cpu/lib/python3.12/site-packages/torch/nn/modules/module.py:1553\u001b[0m, in \u001b[0;36mModule._wrapped_call_impl\u001b[0;34m(self, *args, **kwargs)\u001b[0m\n\u001b[1;32m   1551\u001b[0m     \u001b[38;5;28;01mreturn\u001b[39;00m \u001b[38;5;28mself\u001b[39m\u001b[38;5;241m.\u001b[39m_compiled_call_impl(\u001b[38;5;241m*\u001b[39margs, \u001b[38;5;241m*\u001b[39m\u001b[38;5;241m*\u001b[39mkwargs)  \u001b[38;5;66;03m# type: ignore[misc]\u001b[39;00m\n\u001b[1;32m   1552\u001b[0m \u001b[38;5;28;01melse\u001b[39;00m:\n\u001b[0;32m-> 1553\u001b[0m     \u001b[38;5;28;01mreturn\u001b[39;00m \u001b[38;5;28;43mself\u001b[39;49m\u001b[38;5;241;43m.\u001b[39;49m\u001b[43m_call_impl\u001b[49m\u001b[43m(\u001b[49m\u001b[38;5;241;43m*\u001b[39;49m\u001b[43margs\u001b[49m\u001b[43m,\u001b[49m\u001b[43m \u001b[49m\u001b[38;5;241;43m*\u001b[39;49m\u001b[38;5;241;43m*\u001b[39;49m\u001b[43mkwargs\u001b[49m\u001b[43m)\u001b[49m\n",
      "File \u001b[0;32m~/miniforge3/envs/inteli_cpu/lib/python3.12/site-packages/torch/nn/modules/module.py:1562\u001b[0m, in \u001b[0;36mModule._call_impl\u001b[0;34m(self, *args, **kwargs)\u001b[0m\n\u001b[1;32m   1557\u001b[0m \u001b[38;5;66;03m# If we don't have any hooks, we want to skip the rest of the logic in\u001b[39;00m\n\u001b[1;32m   1558\u001b[0m \u001b[38;5;66;03m# this function, and just call forward.\u001b[39;00m\n\u001b[1;32m   1559\u001b[0m \u001b[38;5;28;01mif\u001b[39;00m \u001b[38;5;129;01mnot\u001b[39;00m (\u001b[38;5;28mself\u001b[39m\u001b[38;5;241m.\u001b[39m_backward_hooks \u001b[38;5;129;01mor\u001b[39;00m \u001b[38;5;28mself\u001b[39m\u001b[38;5;241m.\u001b[39m_backward_pre_hooks \u001b[38;5;129;01mor\u001b[39;00m \u001b[38;5;28mself\u001b[39m\u001b[38;5;241m.\u001b[39m_forward_hooks \u001b[38;5;129;01mor\u001b[39;00m \u001b[38;5;28mself\u001b[39m\u001b[38;5;241m.\u001b[39m_forward_pre_hooks\n\u001b[1;32m   1560\u001b[0m         \u001b[38;5;129;01mor\u001b[39;00m _global_backward_pre_hooks \u001b[38;5;129;01mor\u001b[39;00m _global_backward_hooks\n\u001b[1;32m   1561\u001b[0m         \u001b[38;5;129;01mor\u001b[39;00m _global_forward_hooks \u001b[38;5;129;01mor\u001b[39;00m _global_forward_pre_hooks):\n\u001b[0;32m-> 1562\u001b[0m     \u001b[38;5;28;01mreturn\u001b[39;00m \u001b[43mforward_call\u001b[49m\u001b[43m(\u001b[49m\u001b[38;5;241;43m*\u001b[39;49m\u001b[43margs\u001b[49m\u001b[43m,\u001b[49m\u001b[43m \u001b[49m\u001b[38;5;241;43m*\u001b[39;49m\u001b[38;5;241;43m*\u001b[39;49m\u001b[43mkwargs\u001b[49m\u001b[43m)\u001b[49m\n\u001b[1;32m   1564\u001b[0m \u001b[38;5;28;01mtry\u001b[39;00m:\n\u001b[1;32m   1565\u001b[0m     result \u001b[38;5;241m=\u001b[39m \u001b[38;5;28;01mNone\u001b[39;00m\n",
      "File \u001b[0;32m~/miniforge3/envs/inteli_cpu/lib/python3.12/site-packages/torch/nn/modules/conv.py:458\u001b[0m, in \u001b[0;36mConv2d.forward\u001b[0;34m(self, input)\u001b[0m\n\u001b[1;32m    457\u001b[0m \u001b[38;5;28;01mdef\u001b[39;00m \u001b[38;5;21mforward\u001b[39m(\u001b[38;5;28mself\u001b[39m, \u001b[38;5;28minput\u001b[39m: Tensor) \u001b[38;5;241m-\u001b[39m\u001b[38;5;241m>\u001b[39m Tensor:\n\u001b[0;32m--> 458\u001b[0m     \u001b[38;5;28;01mreturn\u001b[39;00m \u001b[38;5;28;43mself\u001b[39;49m\u001b[38;5;241;43m.\u001b[39;49m\u001b[43m_conv_forward\u001b[49m\u001b[43m(\u001b[49m\u001b[38;5;28;43minput\u001b[39;49m\u001b[43m,\u001b[49m\u001b[43m \u001b[49m\u001b[38;5;28;43mself\u001b[39;49m\u001b[38;5;241;43m.\u001b[39;49m\u001b[43mweight\u001b[49m\u001b[43m,\u001b[49m\u001b[43m \u001b[49m\u001b[38;5;28;43mself\u001b[39;49m\u001b[38;5;241;43m.\u001b[39;49m\u001b[43mbias\u001b[49m\u001b[43m)\u001b[49m\n",
      "File \u001b[0;32m~/miniforge3/envs/inteli_cpu/lib/python3.12/site-packages/torch/nn/modules/conv.py:454\u001b[0m, in \u001b[0;36mConv2d._conv_forward\u001b[0;34m(self, input, weight, bias)\u001b[0m\n\u001b[1;32m    450\u001b[0m \u001b[38;5;28;01mif\u001b[39;00m \u001b[38;5;28mself\u001b[39m\u001b[38;5;241m.\u001b[39mpadding_mode \u001b[38;5;241m!=\u001b[39m \u001b[38;5;124m'\u001b[39m\u001b[38;5;124mzeros\u001b[39m\u001b[38;5;124m'\u001b[39m:\n\u001b[1;32m    451\u001b[0m     \u001b[38;5;28;01mreturn\u001b[39;00m F\u001b[38;5;241m.\u001b[39mconv2d(F\u001b[38;5;241m.\u001b[39mpad(\u001b[38;5;28minput\u001b[39m, \u001b[38;5;28mself\u001b[39m\u001b[38;5;241m.\u001b[39m_reversed_padding_repeated_twice, mode\u001b[38;5;241m=\u001b[39m\u001b[38;5;28mself\u001b[39m\u001b[38;5;241m.\u001b[39mpadding_mode),\n\u001b[1;32m    452\u001b[0m                     weight, bias, \u001b[38;5;28mself\u001b[39m\u001b[38;5;241m.\u001b[39mstride,\n\u001b[1;32m    453\u001b[0m                     _pair(\u001b[38;5;241m0\u001b[39m), \u001b[38;5;28mself\u001b[39m\u001b[38;5;241m.\u001b[39mdilation, \u001b[38;5;28mself\u001b[39m\u001b[38;5;241m.\u001b[39mgroups)\n\u001b[0;32m--> 454\u001b[0m \u001b[38;5;28;01mreturn\u001b[39;00m \u001b[43mF\u001b[49m\u001b[38;5;241;43m.\u001b[39;49m\u001b[43mconv2d\u001b[49m\u001b[43m(\u001b[49m\u001b[38;5;28;43minput\u001b[39;49m\u001b[43m,\u001b[49m\u001b[43m \u001b[49m\u001b[43mweight\u001b[49m\u001b[43m,\u001b[49m\u001b[43m \u001b[49m\u001b[43mbias\u001b[49m\u001b[43m,\u001b[49m\u001b[43m \u001b[49m\u001b[38;5;28;43mself\u001b[39;49m\u001b[38;5;241;43m.\u001b[39;49m\u001b[43mstride\u001b[49m\u001b[43m,\u001b[49m\n\u001b[1;32m    455\u001b[0m \u001b[43m                \u001b[49m\u001b[38;5;28;43mself\u001b[39;49m\u001b[38;5;241;43m.\u001b[39;49m\u001b[43mpadding\u001b[49m\u001b[43m,\u001b[49m\u001b[43m \u001b[49m\u001b[38;5;28;43mself\u001b[39;49m\u001b[38;5;241;43m.\u001b[39;49m\u001b[43mdilation\u001b[49m\u001b[43m,\u001b[49m\u001b[43m \u001b[49m\u001b[38;5;28;43mself\u001b[39;49m\u001b[38;5;241;43m.\u001b[39;49m\u001b[43mgroups\u001b[49m\u001b[43m)\u001b[49m\n",
      "\u001b[0;31mRuntimeError\u001b[0m: Given groups=1, weight of size [64, 1, 3, 3], expected input[1, 32, 63, 21] to have 1 channels, but got 32 channels instead"
     ]
    }
   ],
   "source": [
    "model = train.VAE(latent_dim=21, img_size=21)\n",
    "\n",
    "max_epochs = 30\n",
    "criterion = train.vae_loss_function\n",
    "batch_size = 128\n",
    "lr = 1e-4\n",
    "early_stop = 20\n",
    "use_gpu = False\n",
    "\n",
    "curves, tiempo_ejecucion = train.train_model(model,\n",
    "                                            train_dataset,\n",
    "                                            validation_dataset,\n",
    "                                            test_dataset,\n",
    "                                            max_epochs=max_epochs,\n",
    "                                            criterion=criterion,\n",
    "                                            batch_size=batch_size,\n",
    "                                            lr=lr,\n",
    "                                            early_stopping_tolerance=early_stop,\n",
    "                                            use_gpu=use_gpu) #falta definir los parámetros\n",
    "\n",
    "curves_fig = metrics.show_curves(curves)"
   ]
  }
 ],
 "metadata": {
  "kernelspec": {
   "display_name": "inteli_gpu",
   "language": "python",
   "name": "python3"
  },
  "language_info": {
   "codemirror_mode": {
    "name": "ipython",
    "version": 3
   },
   "file_extension": ".py",
   "mimetype": "text/x-python",
   "name": "python",
   "nbconvert_exporter": "python",
   "pygments_lexer": "ipython3",
   "version": "3.12.3"
  }
 },
 "nbformat": 4,
 "nbformat_minor": 2
}
