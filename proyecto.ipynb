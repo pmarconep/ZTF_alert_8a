{
 "cells": [
  {
   "cell_type": "markdown",
   "metadata": {},
   "source": [
    "# Proyecto Inteligencia Computacional - Proyecto 8 - ID 8a\n",
    "\n",
    "## Integrantes\n",
    "- Juan Pablo Contreras\n",
    "- Pascual Marcone\n",
    "\n",
    "## Ayudante\n",
    "- Sebastian Guzman"
   ]
  },
  {
   "cell_type": "markdown",
   "metadata": {},
   "source": [
    "# Dependencias"
   ]
  },
  {
   "cell_type": "code",
   "execution_count": 3,
   "metadata": {},
   "outputs": [
    {
     "data": {
      "text/plain": [
       "<module 'src' (namespace) from ['/home/pascual/inteli/proyecto/src']>"
      ]
     },
     "execution_count": 3,
     "metadata": {},
     "output_type": "execute_result"
    }
   ],
   "source": [
    "#libs\n",
    "import pandas as pd\n",
    "import numpy as np\n",
    "import matplotlib.pyplot as plt\n",
    "import importlib\n",
    "\n",
    "#system\n",
    "from pathlib import Path\n",
    "import time\n",
    "\n",
    "#ai\n",
    "import torch\n",
    "from torch import nn\n",
    "import torchvision\n",
    "\n",
    "from sklearn.metrics import confusion_matrix, ConfusionMatrixDisplay\n",
    "\n",
    "import src\n",
    "from torch.utils.data import TensorDataset\n",
    "importlib.reload(src)"
   ]
  },
  {
   "cell_type": "markdown",
   "metadata": {},
   "source": [
    "# Data access"
   ]
  },
  {
   "cell_type": "code",
   "execution_count": 4,
   "metadata": {},
   "outputs": [],
   "source": [
    "#load everything\n",
    "stamps_dataset = pd.read_pickle('data/5stamps_dataset.pkl')\n",
    "dataset_1_21 = pd.read_pickle('data/stamp_dataset_21_new.pkl')\n",
    "dataset_2_28 = pd.read_pickle('data/stamp_dataset_28.pkl')\n",
    "dataset_2_45 = pd.read_pickle('data/stamp_dataset_45.pkl')\n",
    "dataset_1_45 = pd.read_pickle('data/stamp_dataset_jun_allwise_45_final.pkl')\n",
    "dataset_2_63 = pd.read_pickle('data/stamp_dataset_only_images_63.pkl')\n",
    "dataset_1_63 = pd.read_pickle('data/td_ztf_stamp_17_06_20.pkl')"
   ]
  },
  {
   "cell_type": "code",
   "execution_count": 5,
   "metadata": {},
   "outputs": [],
   "source": [
    "#changing all labels to match for ease of use in the future\n",
    "def rename_labels(dataset, old_value, new_value):\n",
    "    for key in dataset.keys():\n",
    "        if old_value in dataset[key]:\n",
    "            dataset[key][new_value] = dataset[key].pop(old_value)\n",
    "\n",
    "# apply the function to \n",
    "rename_labels(stamps_dataset, 'labels', 'class')\n",
    "# rename_labels(dataset_1_63, 'labels', 'class')\n",
    "rename_labels(stamps_dataset, 'science', 'images')"
   ]
  },
  {
   "cell_type": "markdown",
   "metadata": {},
   "source": [
    "## Data Characterization"
   ]
  },
  {
   "cell_type": "code",
   "execution_count": 6,
   "metadata": {},
   "outputs": [
    {
     "name": "stdout",
     "output_type": "stream",
     "text": [
      "stamps_dataset -- (123227, 5, 21, 21)\n",
      "├── Train\n",
      "│   ├── labels\n",
      "│   ├── images\n",
      "│   ├── template\n",
      "│   └── difference\n",
      "├── validation\n",
      "│   ├── labels\n",
      "│   ├── images\n",
      "│   ├── template\n",
      "│   └── difference\n",
      "└── Test\n",
      "    ├── labels\n",
      "    ├── images\n",
      "    ├── template\n",
      "    └── difference\n",
      "\n",
      "\n",
      "dataset_1_21 -- (72710, 21, 21, 3)\n",
      "├── Train\n",
      "│   ├── images\n",
      "│   ├── features\n",
      "│   ├── oid\n",
      "│   └── class\n",
      "├── validation\n",
      "│   ├── images\n",
      "│   ├── features\n",
      "│   ├── oid\n",
      "│   └── class\n",
      "└── Test\n",
      "    ├── images\n",
      "    ├── features\n",
      "    ├── oid\n",
      "    └── class\n",
      "\n",
      "\n",
      "dataset_2_28 -- (50594, 28, 28, 3)\n",
      "├── Train\n",
      "│   ├── images\n",
      "│   ├── features\n",
      "│   ├── oid\n",
      "│   └── class\n",
      "├── validation\n",
      "│   ├── images\n",
      "│   ├── features\n",
      "│   ├── oid\n",
      "│   └── class\n",
      "└── Test\n",
      "    ├── images\n",
      "    ├── features\n",
      "    ├── oid\n",
      "    └── class\n",
      "\n",
      "\n",
      "dataset_2_45 -- (50594, 45, 45, 3)\n",
      "├── Train\n",
      "│   ├── images\n",
      "│   ├── features\n",
      "│   ├── oid\n",
      "│   └── class\n",
      "├── validation\n",
      "│   ├── images\n",
      "│   ├── features\n",
      "│   ├── oid\n",
      "│   └── class\n",
      "└── Test\n",
      "    ├── images\n",
      "    ├── features\n",
      "    ├── oid\n",
      "    └── class\n",
      "\n",
      "\n",
      "dataset_1_45 -- (72710, 45, 45, 3)\n",
      "├── Train\n",
      "│   ├── images\n",
      "│   ├── features\n",
      "│   ├── oid\n",
      "│   └── class\n",
      "├── validation\n",
      "│   ├── images\n",
      "│   ├── features\n",
      "│   ├── oid\n",
      "│   └── class\n",
      "└── Test\n",
      "    ├── images\n",
      "    ├── features\n",
      "    ├── oid\n",
      "    └── class\n",
      "\n",
      "\n",
      "dataset_2_63 -- (50594, 63, 63, 3)\n",
      "├── Train\n",
      "│   ├── images\n",
      "│   └── class\n",
      "├── validation\n",
      "│   ├── images\n",
      "│   └── class\n",
      "└── Test\n",
      "    ├── images\n",
      "    └── class\n",
      "\n",
      "\n",
      "dataset_1_63 -- (72710, 63, 63, 3)\n",
      "├── Train\n",
      "│   ├── images\n",
      "│   ├── features\n",
      "│   └── labels\n",
      "├── validation\n",
      "│   ├── images\n",
      "│   ├── features\n",
      "│   └── labels\n",
      "└── Test\n",
      "    ├── images\n",
      "    ├── features\n",
      "    └── labels\n"
     ]
    }
   ],
   "source": [
    "from anytree import Node, RenderTree\n",
    "\n",
    "# stamps_dataset\n",
    "root = Node(f\"stamps_dataset -- {stamps_dataset['Train']['images'].shape}\")\n",
    "train = Node(\"Train\", parent=root)\n",
    "validation = Node(\"validation\", parent=root)\n",
    "test = Node(\"Test\", parent=root)\n",
    "\n",
    "labels = Node(\"labels\", parent=train)\n",
    "images = Node(\"images\", parent=train)\n",
    "template = Node(\"template\", parent=train)\n",
    "difference = Node(\"difference\", parent=train)\n",
    "\n",
    "s_labels = Node(\"labels\", parent=validation)\n",
    "s_images = Node(\"images\", parent=validation)\n",
    "s_template = Node(\"template\", parent=validation)\n",
    "s_difference = Node(\"difference\", parent=validation)\n",
    "\n",
    "t_labels = Node(\"labels\", parent=test)\n",
    "t_images = Node(\"images\", parent=test)\n",
    "t_template = Node(\"template\", parent=test)\n",
    "t_difference = Node(\"difference\", parent=test)\n",
    "\n",
    "# Render the tree\n",
    "for pre, fill, node in RenderTree(root):\n",
    "    print(\"%s%s\" % (pre, node.name))\n",
    "print('\\n')\n",
    "\n",
    "# dataset_1_21\n",
    "root = Node(f\"dataset_1_21 -- {dataset_1_21['Train']['images'].shape}\")\n",
    "train = Node(\"Train\", parent=root)\n",
    "validation = Node(\"validation\", parent=root)\n",
    "test = Node(\"Test\", parent=root)\n",
    "\n",
    "labels = Node(\"images\", parent=train)\n",
    "images = Node(\"features\", parent=train)\n",
    "template = Node(\"oid\", parent=train)\n",
    "difference = Node(\"class\", parent=train)\n",
    "\n",
    "s_labels = Node(\"images\", parent=validation)\n",
    "s_images = Node(\"features\", parent=validation)\n",
    "s_template = Node(\"oid\", parent=validation)\n",
    "s_difference = Node(\"class\", parent=validation)\n",
    "\n",
    "t_labels = Node(\"images\", parent=test)\n",
    "t_images = Node(\"features\", parent=test)\n",
    "t_template = Node(\"oid\", parent=test)\n",
    "t_difference = Node(\"class\", parent=test)\n",
    "\n",
    "for pre, fill, node in RenderTree(root):\n",
    "    print(\"%s%s\" % (pre, node.name))\n",
    "print('\\n')\n",
    "\n",
    "# dataset_2_28\n",
    "root = Node(f\"dataset_2_28 -- {dataset_2_28['Train']['images'].shape}\")\n",
    "train = Node(\"Train\", parent=root)\n",
    "validation = Node(\"validation\", parent=root)\n",
    "test = Node(\"Test\", parent=root)\n",
    "\n",
    "labels = Node(\"images\", parent=train)\n",
    "images = Node(\"features\", parent=train)\n",
    "template = Node(\"oid\", parent=train)\n",
    "difference = Node(\"class\", parent=train)\n",
    "\n",
    "s_labels = Node(\"images\", parent=validation)\n",
    "s_images = Node(\"features\", parent=validation)\n",
    "s_template = Node(\"oid\", parent=validation)\n",
    "s_difference = Node(\"class\", parent=validation)\n",
    "\n",
    "t_labels = Node(\"images\", parent=test)\n",
    "t_images = Node(\"features\", parent=test)\n",
    "t_template = Node(\"oid\", parent=test)\n",
    "t_difference = Node(\"class\", parent=test)\n",
    "\n",
    "for pre, fill, node in RenderTree(root):\n",
    "    print(\"%s%s\" % (pre, node.name))\n",
    "print('\\n')\n",
    "\n",
    "# dataset_2_45\n",
    "root = Node(f\"dataset_2_45 -- {dataset_2_45['Train']['images'].shape}\")\n",
    "train = Node(\"Train\", parent=root)\n",
    "validation = Node(\"validation\", parent=root)\n",
    "test = Node(\"Test\", parent=root)\n",
    "\n",
    "labels = Node(\"images\", parent=train)\n",
    "images = Node(\"features\", parent=train)\n",
    "template = Node(\"oid\", parent=train)\n",
    "difference = Node(\"class\", parent=train)\n",
    "\n",
    "s_labels = Node(\"images\", parent=validation)\n",
    "s_images = Node(\"features\", parent=validation)\n",
    "s_template = Node(\"oid\", parent=validation)\n",
    "s_difference = Node(\"class\", parent=validation)\n",
    "\n",
    "t_labels = Node(\"images\", parent=test)\n",
    "t_images = Node(\"features\", parent=test)\n",
    "t_template = Node(\"oid\", parent=test)\n",
    "t_difference = Node(\"class\", parent=test)\n",
    "\n",
    "for pre, fill, node in RenderTree(root):\n",
    "    print(\"%s%s\" % (pre, node.name))\n",
    "print('\\n')\n",
    "\n",
    "# dataset_1_45\n",
    "root = Node(f\"dataset_1_45 -- {dataset_1_45['Train']['images'].shape}\")\n",
    "train = Node(\"Train\", parent=root)\n",
    "validation = Node(\"validation\", parent=root)\n",
    "test = Node(\"Test\", parent=root)\n",
    "\n",
    "labels = Node(\"images\", parent=train)\n",
    "images = Node(\"features\", parent=train)\n",
    "template = Node(\"oid\", parent=train)\n",
    "difference = Node(\"class\", parent=train)\n",
    "\n",
    "s_labels = Node(\"images\", parent=validation)\n",
    "s_images = Node(\"features\", parent=validation)\n",
    "s_template = Node(\"oid\", parent=validation)\n",
    "s_difference = Node(\"class\", parent=validation)\n",
    "\n",
    "t_labels = Node(\"images\", parent=test)\n",
    "t_images = Node(\"features\", parent=test)\n",
    "t_template = Node(\"oid\", parent=test)\n",
    "t_difference = Node(\"class\", parent=test)\n",
    "\n",
    "for pre, fill, node in RenderTree(root):\n",
    "    print(\"%s%s\" % (pre, node.name))\n",
    "print('\\n')\n",
    "\n",
    "# dataset_2_63\n",
    "root = Node(f\"dataset_2_63 -- {dataset_2_63['Train']['images'].shape}\")\n",
    "train = Node(\"Train\", parent=root)\n",
    "validation = Node(\"validation\", parent=root)\n",
    "test = Node(\"Test\", parent=root)\n",
    "\n",
    "labels = Node(\"images\", parent=train)\n",
    "difference = Node(\"class\", parent=train)\n",
    "\n",
    "s_labels = Node(\"images\", parent=validation)\n",
    "s_difference = Node(\"class\", parent=validation)\n",
    "\n",
    "t_labels = Node(\"images\", parent=test)\n",
    "t_difference = Node(\"class\", parent=test)\n",
    "\n",
    "for pre, fill, node in RenderTree(root):\n",
    "    print(\"%s%s\" % (pre, node.name))\n",
    "print('\\n')\n",
    "\n",
    "# dataset_1_63\n",
    "root = Node(f\"dataset_1_63 -- {dataset_1_63['Train']['images'].shape}\")\n",
    "train = Node(\"Train\", parent=root)\n",
    "validation = Node(\"validation\", parent=root)\n",
    "test = Node(\"Test\", parent=root)\n",
    "\n",
    "labels = Node(\"images\", parent=train)\n",
    "images = Node(\"features\", parent=train)\n",
    "difference = Node(\"labels\", parent=train)\n",
    "\n",
    "s_labels = Node(\"images\", parent=validation)\n",
    "s_images = Node(\"features\", parent=validation)\n",
    "s_difference = Node(\"labels\", parent=validation)\n",
    "\n",
    "t_labels = Node(\"images\", parent=test)\n",
    "t_images = Node(\"features\", parent=test)\n",
    "t_difference = Node(\"labels\", parent=test)\n",
    "\n",
    "for pre, fill, node in RenderTree(root):\n",
    "    print(\"%s%s\" % (pre, node.name))"
   ]
  },
  {
   "cell_type": "markdown",
   "metadata": {},
   "source": [
    "# Visualizacion Datos\n",
    "Hay 3 tipos de imagenes $21\\cdot21$, $28\\cdot28$, $45\\cdot45$ y $63\\cdot63$"
   ]
  },
  {
   "cell_type": "code",
   "execution_count": 33,
   "metadata": {},
   "outputs": [
    {
     "name": "stdout",
     "output_type": "stream",
     "text": [
      "(50594, 23)\n"
     ]
    }
   ],
   "source": [
    "print(dataset_2_45['Train']['features'].shape)"
   ]
  },
  {
   "cell_type": "markdown",
   "metadata": {},
   "source": [
    "Analizando algunos ejemplos de cada una"
   ]
  },
  {
   "cell_type": "code",
   "execution_count": 14,
   "metadata": {},
   "outputs": [
    {
     "data": {
      "image/png": "[encoded data removed]",
      "text/plain": [
       "<Figure size 500x900 with 15 Axes>"
      ]
     },
     "metadata": {},
     "output_type": "display_data"
    }
   ],
   "source": [
    "import src.plots as plots\n",
    "importlib.reload(plots)\n",
    "\n",
    "plots.plot_example(stamps_dataset, n = 5)"
   ]
  },
  {
   "cell_type": "markdown",
   "metadata": {},
   "source": [
    "# Data Loader"
   ]
  },
  {
   "cell_type": "code",
   "execution_count": 22,
   "metadata": {},
   "outputs": [],
   "source": [
    "train_difference = torch.tensor(stamps_dataset['Train']['difference'], dtype=torch.float32)\n",
    "train_class = torch.tensor(stamps_dataset['Train']['class'], dtype=torch.float32)\n",
    "\n",
    "validation_difference = torch.tensor(stamps_dataset['Validation']['difference'], dtype=torch.float32)\n",
    "validation_class = torch.tensor(stamps_dataset['Validation']['class'], dtype=torch.float32)\n",
    "\n",
    "test_difference = torch.tensor(stamps_dataset['Test']['difference'], dtype=torch.float32)\n",
    "test_class = torch.tensor(stamps_dataset['Test']['class'], dtype=torch.float32)\n",
    "\n",
    "# Reshape the arrays\n",
    "num_samples, num_photos, height, width = train_difference.shape\n",
    "\n",
    "reshaped_train_difference = train_difference.reshape(num_samples * num_photos, 1, height, width)\n",
    "reshaped_train_class = train_class.repeat_interleave(num_photos)\n",
    "\n",
    "num_samples, num_photos, height, width = validation_difference.shape\n",
    "\n",
    "reshaped_val_difference = validation_difference.reshape(validation_difference.shape[0] * num_photos, 1, height, width)\n",
    "reshaped_val_class = validation_class.repeat_interleave(num_photos)\n",
    "\n",
    "num_samples, num_photos, height, width = test_difference.shape\n",
    "\n",
    "reshaped_test_difference = test_difference.reshape(test_difference.shape[0] * num_photos, 1, height, width)\n",
    "reshaped_test_class = test_class.repeat_interleave(num_photos)\n",
    "\n",
    "train_dataset = TensorDataset(reshaped_train_difference, reshaped_train_class)\n",
    "validation_dataset = TensorDataset(reshaped_val_difference, reshaped_val_class)\n",
    "test_dataset = TensorDataset(reshaped_test_difference, reshaped_test_class)"
   ]
  },
  {
   "cell_type": "code",
   "execution_count": 21,
   "metadata": {},
   "outputs": [
    {
     "data": {
      "text/plain": [
       "torch.Size([616135, 1, 21, 21])"
      ]
     },
     "execution_count": 21,
     "metadata": {},
     "output_type": "execute_result"
    }
   ],
   "source": [
    "reshaped_train_difference.shape"
   ]
  },
  {
   "cell_type": "markdown",
   "metadata": {},
   "source": [
    "# Entrenamiento de Modelo"
   ]
  },
  {
   "cell_type": "code",
   "execution_count": null,
   "metadata": {},
   "outputs": [],
   "source": [
    "import src.model.train as train\n",
    "importlib.reload(train)\n",
    "\n",
    "import src.model.metrics as metrics\n",
    "importlib.reload(metrics)\n",
    "\n",
    "import src.model.vae as vae\n",
    "importlib.reload(vae)\n",
    "\n",
    "model = vae.VAE(latent_dim=21, img_size=21)\n",
    "\n",
    "max_epochs = 30\n",
    "criterion = vae.vae_loss_function\n",
    "batch_size = 128\n",
    "lr = 1e-4\n",
    "early_stop = 20\n",
    "use_gpu = False\n",
    "\n",
    "curves, tiempo_ejecucion = train.train_model(model,\n",
    "                                            train_dataset,\n",
    "                                            validation_dataset,\n",
    "                                            test_dataset,\n",
    "                                            max_epochs=max_epochs,\n",
    "                                            criterion=criterion,\n",
    "                                            batch_size=batch_size,\n",
    "                                            lr=lr,\n",
    "                                            early_stopping_tolerance=early_stop,\n",
    "                                            use_gpu=use_gpu) #falta definir los parámetros\n",
    "\n",
    "curves_fig = metrics.show_curves(curves)"
   ]
  },
  {
   "cell_type": "code",
   "execution_count": 39,
   "metadata": {},
   "outputs": [
    {
     "name": "stderr",
     "output_type": "stream",
     "text": [
      "/home/pascual/inteli/proyecto/src/model/test/vae.py:64: UserWarning: Using a target size (torch.Size([64])) that is different to the input size (torch.Size([64, 1, 24, 24])). This will likely lead to incorrect results due to broadcasting. Please ensure they have the same size.\n",
      "  recon_loss = F.mse_loss(recon_x, x, reduction='sum')\n"
     ]
    },
    {
     "ename": "RuntimeError",
     "evalue": "The size of tensor a (24) must match the size of tensor b (64) at non-singleton dimension 3",
     "output_type": "error",
     "traceback": [
      "\u001b[0;31m---------------------------------------------------------------------------\u001b[0m",
      "\u001b[0;31mRuntimeError\u001b[0m                              Traceback (most recent call last)",
      "Cell \u001b[0;32mIn[39], line 19\u001b[0m\n\u001b[1;32m     16\u001b[0m early_stop \u001b[38;5;241m=\u001b[39m \u001b[38;5;241m100\u001b[39m\n\u001b[1;32m     17\u001b[0m use_gpu \u001b[38;5;241m=\u001b[39m \u001b[38;5;28;01mFalse\u001b[39;00m\n\u001b[0;32m---> 19\u001b[0m curves, tiempo_ejecucion \u001b[38;5;241m=\u001b[39m \u001b[43mtrain\u001b[49m\u001b[38;5;241;43m.\u001b[39;49m\u001b[43mtrain_model\u001b[49m\u001b[43m(\u001b[49m\u001b[43mmodel\u001b[49m\u001b[43m,\u001b[49m\n\u001b[1;32m     20\u001b[0m \u001b[43m                                            \u001b[49m\u001b[43mtrain_dataset\u001b[49m\u001b[43m,\u001b[49m\n\u001b[1;32m     21\u001b[0m \u001b[43m                                            \u001b[49m\u001b[43mvalidation_dataset\u001b[49m\u001b[43m,\u001b[49m\n\u001b[1;32m     22\u001b[0m \u001b[43m                                            \u001b[49m\u001b[43mtest_dataset\u001b[49m\u001b[43m,\u001b[49m\n\u001b[1;32m     23\u001b[0m \u001b[43m                                            \u001b[49m\u001b[43mmax_epochs\u001b[49m\u001b[38;5;241;43m=\u001b[39;49m\u001b[43mmax_epochs\u001b[49m\u001b[43m,\u001b[49m\n\u001b[1;32m     24\u001b[0m \u001b[43m                                            \u001b[49m\u001b[43mcriterion\u001b[49m\u001b[38;5;241;43m=\u001b[39;49m\u001b[43mcriterion\u001b[49m\u001b[43m,\u001b[49m\n\u001b[1;32m     25\u001b[0m \u001b[43m                                            \u001b[49m\u001b[43mbatch_size\u001b[49m\u001b[38;5;241;43m=\u001b[39;49m\u001b[43mbatch_size\u001b[49m\u001b[43m,\u001b[49m\n\u001b[1;32m     26\u001b[0m \u001b[43m                                            \u001b[49m\u001b[43mlr\u001b[49m\u001b[38;5;241;43m=\u001b[39;49m\u001b[43mlr\u001b[49m\u001b[43m,\u001b[49m\n\u001b[1;32m     27\u001b[0m \u001b[43m                                            \u001b[49m\u001b[43mearly_stopping_tolerance\u001b[49m\u001b[38;5;241;43m=\u001b[39;49m\u001b[43mearly_stop\u001b[49m\u001b[43m,\u001b[49m\n\u001b[1;32m     28\u001b[0m \u001b[43m                                            \u001b[49m\u001b[43muse_gpu\u001b[49m\u001b[38;5;241;43m=\u001b[39;49m\u001b[43muse_gpu\u001b[49m\u001b[43m)\u001b[49m \u001b[38;5;66;03m#falta definir los parámetros\u001b[39;00m\n\u001b[1;32m     30\u001b[0m curves_fig \u001b[38;5;241m=\u001b[39m metrics\u001b[38;5;241m.\u001b[39mshow_curves(curves)\n",
      "File \u001b[0;32m~/inteli/proyecto/src/model/test/train.py:89\u001b[0m, in \u001b[0;36mtrain_model\u001b[0;34m(model, train_dataset, val_dataset, test_dataset, max_epochs, criterion, batch_size, lr, early_stopping_tolerance, use_gpu)\u001b[0m\n\u001b[1;32m     85\u001b[0m y_predicted, mu, logvar \u001b[38;5;241m=\u001b[39m model(diff)\n\u001b[1;32m     86\u001b[0m \u001b[38;5;66;03m# y_predicted, mu, logvar, sigma = model(diff)\u001b[39;00m\n\u001b[1;32m     87\u001b[0m \n\u001b[1;32m     88\u001b[0m \u001b[38;5;66;03m# Cálculo de loss\u001b[39;00m\n\u001b[0;32m---> 89\u001b[0m loss \u001b[38;5;241m=\u001b[39m \u001b[43mcriterion\u001b[49m\u001b[43m(\u001b[49m\u001b[43my_predicted\u001b[49m\u001b[43m,\u001b[49m\u001b[43m \u001b[49m\u001b[43my_batch\u001b[49m\u001b[43m,\u001b[49m\u001b[43m \u001b[49m\u001b[43mmu\u001b[49m\u001b[43m,\u001b[49m\u001b[43m \u001b[49m\u001b[43mlogvar\u001b[49m\u001b[43m)\u001b[49m\n\u001b[1;32m     91\u001b[0m \u001b[38;5;66;03m# Actualización de parámetros\u001b[39;00m\n\u001b[1;32m     92\u001b[0m optimizer\u001b[38;5;241m.\u001b[39mzero_grad()\n",
      "File \u001b[0;32m~/inteli/proyecto/src/model/test/vae.py:64\u001b[0m, in \u001b[0;36mloss_function\u001b[0;34m(recon_x, x, mu, logvar)\u001b[0m\n\u001b[1;32m     62\u001b[0m \u001b[38;5;28;01mdef\u001b[39;00m \u001b[38;5;21mloss_function\u001b[39m(recon_x, x, mu, logvar):\n\u001b[1;32m     63\u001b[0m     \u001b[38;5;66;03m# Reconstruction loss\u001b[39;00m\n\u001b[0;32m---> 64\u001b[0m     recon_loss \u001b[38;5;241m=\u001b[39m \u001b[43mF\u001b[49m\u001b[38;5;241;43m.\u001b[39;49m\u001b[43mmse_loss\u001b[49m\u001b[43m(\u001b[49m\u001b[43mrecon_x\u001b[49m\u001b[43m,\u001b[49m\u001b[43m \u001b[49m\u001b[43mx\u001b[49m\u001b[43m,\u001b[49m\u001b[43m \u001b[49m\u001b[43mreduction\u001b[49m\u001b[38;5;241;43m=\u001b[39;49m\u001b[38;5;124;43m'\u001b[39;49m\u001b[38;5;124;43msum\u001b[39;49m\u001b[38;5;124;43m'\u001b[39;49m\u001b[43m)\u001b[49m\n\u001b[1;32m     65\u001b[0m     \u001b[38;5;66;03m# KL divergence\u001b[39;00m\n\u001b[1;32m     66\u001b[0m     kl_loss \u001b[38;5;241m=\u001b[39m \u001b[38;5;241m-\u001b[39m\u001b[38;5;241m0.5\u001b[39m \u001b[38;5;241m*\u001b[39m torch\u001b[38;5;241m.\u001b[39msum(\u001b[38;5;241m1\u001b[39m \u001b[38;5;241m+\u001b[39m logvar \u001b[38;5;241m-\u001b[39m mu\u001b[38;5;241m.\u001b[39mpow(\u001b[38;5;241m2\u001b[39m) \u001b[38;5;241m-\u001b[39m logvar\u001b[38;5;241m.\u001b[39mexp())\n",
      "File \u001b[0;32m~/miniforge3/envs/inteli_cpu/lib/python3.12/site-packages/torch/nn/functional.py:3383\u001b[0m, in \u001b[0;36mmse_loss\u001b[0;34m(input, target, size_average, reduce, reduction)\u001b[0m\n\u001b[1;32m   3380\u001b[0m \u001b[38;5;28;01mif\u001b[39;00m size_average \u001b[38;5;129;01mis\u001b[39;00m \u001b[38;5;129;01mnot\u001b[39;00m \u001b[38;5;28;01mNone\u001b[39;00m \u001b[38;5;129;01mor\u001b[39;00m reduce \u001b[38;5;129;01mis\u001b[39;00m \u001b[38;5;129;01mnot\u001b[39;00m \u001b[38;5;28;01mNone\u001b[39;00m:\n\u001b[1;32m   3381\u001b[0m     reduction \u001b[38;5;241m=\u001b[39m _Reduction\u001b[38;5;241m.\u001b[39mlegacy_get_string(size_average, reduce)\n\u001b[0;32m-> 3383\u001b[0m expanded_input, expanded_target \u001b[38;5;241m=\u001b[39m \u001b[43mtorch\u001b[49m\u001b[38;5;241;43m.\u001b[39;49m\u001b[43mbroadcast_tensors\u001b[49m\u001b[43m(\u001b[49m\u001b[38;5;28;43minput\u001b[39;49m\u001b[43m,\u001b[49m\u001b[43m \u001b[49m\u001b[43mtarget\u001b[49m\u001b[43m)\u001b[49m\n\u001b[1;32m   3384\u001b[0m \u001b[38;5;28;01mreturn\u001b[39;00m torch\u001b[38;5;241m.\u001b[39m_C\u001b[38;5;241m.\u001b[39m_nn\u001b[38;5;241m.\u001b[39mmse_loss(expanded_input, expanded_target, _Reduction\u001b[38;5;241m.\u001b[39mget_enum(reduction))\n",
      "File \u001b[0;32m~/miniforge3/envs/inteli_cpu/lib/python3.12/site-packages/torch/functional.py:77\u001b[0m, in \u001b[0;36mbroadcast_tensors\u001b[0;34m(*tensors)\u001b[0m\n\u001b[1;32m     75\u001b[0m \u001b[38;5;28;01mif\u001b[39;00m has_torch_function(tensors):\n\u001b[1;32m     76\u001b[0m     \u001b[38;5;28;01mreturn\u001b[39;00m handle_torch_function(broadcast_tensors, tensors, \u001b[38;5;241m*\u001b[39mtensors)\n\u001b[0;32m---> 77\u001b[0m \u001b[38;5;28;01mreturn\u001b[39;00m \u001b[43m_VF\u001b[49m\u001b[38;5;241;43m.\u001b[39;49m\u001b[43mbroadcast_tensors\u001b[49m\u001b[43m(\u001b[49m\u001b[43mtensors\u001b[49m\u001b[43m)\u001b[49m\n",
      "\u001b[0;31mRuntimeError\u001b[0m: The size of tensor a (24) must match the size of tensor b (64) at non-singleton dimension 3"
     ]
    }
   ],
   "source": [
    "import src.model.test.train as train\n",
    "importlib.reload(train)\n",
    "\n",
    "import src.model.test.metrics as metrics\n",
    "importlib.reload(metrics)\n",
    "\n",
    "import src.model.test.vae as vae\n",
    "importlib.reload(vae)\n",
    "\n",
    "model = vae.VADE(latent_dim=21)\n",
    "\n",
    "max_epochs = 100\n",
    "criterion = vae.loss_function\n",
    "batch_size = 64\n",
    "lr = 1e-4\n",
    "early_stop = 100\n",
    "use_gpu = False\n",
    "\n",
    "curves, tiempo_ejecucion = train.train_model(model,\n",
    "                                            train_dataset,\n",
    "                                            validation_dataset,\n",
    "                                            test_dataset,\n",
    "                                            max_epochs=max_epochs,\n",
    "                                            criterion=criterion,\n",
    "                                            batch_size=batch_size,\n",
    "                                            lr=lr,\n",
    "                                            early_stopping_tolerance=early_stop,\n",
    "                                            use_gpu=use_gpu) #falta definir los parámetros\n",
    "\n",
    "curves_fig = metrics.show_curves(curves)"
   ]
  },
  {
   "cell_type": "code",
   "execution_count": 44,
   "metadata": {},
   "outputs": [
    {
     "data": {
      "text/plain": [
       "(72710, 26)"
      ]
     },
     "execution_count": 44,
     "metadata": {},
     "output_type": "execute_result"
    }
   ],
   "source": [
    "dataset_1_21['Train']['features'].shape"
   ]
  },
  {
   "cell_type": "code",
   "execution_count": 52,
   "metadata": {},
   "outputs": [
    {
     "name": "stdout",
     "output_type": "stream",
     "text": [
      "tensor([[-0.1288, -0.2478,  0.0883,  0.4420, -0.6448,  0.1288, -0.3062, -0.3779,\n",
      "          0.0550,  0.2571, -0.3138,  0.4533, -0.5172, -0.1354, -0.1909,  0.1018,\n",
      "         -0.9881,  0.2258,  0.7142,  0.1118,  0.4637,  0.2824,  0.3683,  0.2769,\n",
      "         -0.5546,  0.5907]], grad_fn=<AddmmBackward0>) tensor([[-0.3321, -0.2470, -0.4349,  0.0516,  0.7354, -0.4380, -0.2788,  0.1364,\n",
      "          0.1352,  0.0035, -0.8639,  0.2067, -0.8166,  0.6354,  0.2813, -0.1253,\n",
      "          0.1876,  0.1036, -0.3509,  0.0724, -0.4530, -1.0448,  0.3163,  0.2312,\n",
      "         -0.3512,  0.0663]], grad_fn=<AddmmBackward0>)\n",
      "\n",
      "\n",
      "\n",
      "[ 0.36134599 -0.64090735 -1.08469644  0.63648127  1.14757909  0.79278539\n",
      "  0.70589121 -0.89574408 -1.22871116 -1.10830288  0.43335742  0.20483404\n",
      " -1.02321689  0.6909186  -0.6629513  -0.51683264 -0.56983282  0.32450609\n",
      " -0.51912949  1.19421723 -1.1890474   0.71804694  0.45246946  1.26144197\n",
      "  1.34856581  0.82713645]\n"
     ]
    },
    {
     "data": {
      "image/png": "[encoded data removed]",
      "text/plain": [
       "<Figure size 640x480 with 1 Axes>"
      ]
     },
     "metadata": {},
     "output_type": "display_data"
    }
   ],
   "source": [
    "# Select an image from the dataset\n",
    "image = dataset_1_21['Train']['images'][0, :, :, 0]\n",
    "vector = dataset_1_21['Train']['features'][0]\n",
    "plt.imshow(image)\n",
    "# Convert the image to a tensor\n",
    "image_tensor = torch.tensor(image, dtype=torch.float32)\n",
    "# Add a batch dimension and channel dimension to the image tensor\n",
    "image_tensor = image_tensor.unsqueeze(0).unsqueeze(0)\n",
    "\n",
    "# Create a DataLoader for the image tensor\n",
    "image_loader = torch.utils.data.DataLoader(image_tensor, batch_size=1)\n",
    "\n",
    "\n",
    "\n",
    "from src.model.test.vae import Encoder\n",
    "\n",
    "model = Encoder(latent_dim=26)\n",
    "mu, logvar = model.forward(image_tensor)\n",
    "print(mu, logvar)\n",
    "print('\\n\\n')\n",
    "print(vector)\n"
   ]
  },
  {
   "cell_type": "code",
   "execution_count": null,
   "metadata": {},
   "outputs": [],
   "source": [
    "import torch\n",
    "import torch.nn as nn\n",
    "import torch.optim as optim\n",
    "from torch.nn import functional as F\n",
    "\n",
    "class Encoder(nn.Module):\n",
    "    def __init__(self, latent_dim):\n",
    "        super(Encoder, self).__init__()\n",
    "        \n",
    "        self.encoder = nn.Sequential(\n",
    "            nn.Conv2d(1, 64, kernel_size=3, stride=1, padding=1),\n",
    "            nn.BatchNorm2d(64),\n",
    "            nn.ReLU(),\n",
    "            nn.Conv2d(64, 64, kernel_size=3, stride=2, padding=1),\n",
    "            nn.BatchNorm2d(64),\n",
    "            nn.ReLU(),\n",
    "            nn.Conv2d(64, 64, kernel_size=3, stride=1, padding=1),\n",
    "            nn.BatchNorm2d(64),\n",
    "            nn.ReLU(),\n",
    "            nn.Conv2d(64, 64, kernel_size=3, stride=2, padding=1),\n",
    "            nn.BatchNorm2d(64),\n",
    "            nn.ReLU(),\n",
    "            nn.Flatten()\n",
    "        )\n",
    "        \n",
    "        self.fc_mu = nn.Linear(64 * 6 * 6, latent_dim)\n",
    "        self.fc_logvar = nn.Linear(64 * 6 * 6, latent_dim)\n",
    "\n",
    "    def forward(self, x):\n",
    "        h = self.encoder(x)\n",
    "        mu = self.fc_mu(h)\n",
    "        logvar = self.fc_logvar(h)\n",
    "        return mu, logvar"
   ]
  }
 ],
 "metadata": {
  "kernelspec": {
   "display_name": "inteli_cpu",
   "language": "python",
   "name": "python3"
  },
  "language_info": {
   "codemirror_mode": {
    "name": "ipython",
    "version": 3
   },
   "file_extension": ".py",
   "mimetype": "text/x-python",
   "name": "python",
   "nbconvert_exporter": "python",
   "pygments_lexer": "ipython3",
   "version": "3.12.3"
  }
 },
 "nbformat": 4,
 "nbformat_minor": 2
}
