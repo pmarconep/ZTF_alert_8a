{
 "cells": [
  {
   "cell_type": "code",
   "execution_count": 1,
   "metadata": {},
   "outputs": [],
   "source": [
    "from pathlib import Path\n",
    "import time\n",
    "\n",
    "import torch\n",
    "from torch import nn\n",
    "import torchvision\n",
    "\n",
    "from matplotlib import pyplot as plt\n",
    "import numpy as np\n",
    "from sklearn.metrics import confusion_matrix, ConfusionMatrixDisplay"
   ]
  },
  {
   "cell_type": "code",
   "execution_count": 47,
   "metadata": {},
   "outputs": [
    {
     "name": "stdout",
     "output_type": "stream",
     "text": [
      "El dataset de entrenamiento completo tiene: 55000 elementos.\n",
      "El dataset de validación tiene: 5000 elementos.\n",
      "El dataset de test tiene: 10000 elementos.\n",
      "\n",
      "Primer ejemplo obtenido del dataset:\n",
      "Tensor de tamaño: torch.Size([784]) con valor mínimo: 0.0 y máximo: 1.0\n",
      "Clase: 0\n"
     ]
    }
   ],
   "source": [
    "# Dígito escogido para clasificar\n",
    "chosen_digit = 8\n",
    "\n",
    "# Se define una transformación para las imágenes (La primera transforma las imágenes a tensor y la segunda aplana los tensores en vectores)\n",
    "transform = torchvision.transforms.Compose([\n",
    "    torchvision.transforms.ToTensor(),\n",
    "    torchvision.transforms.Lambda(lambda t: t.flatten()),\n",
    "])\n",
    "\n",
    "# Se define una transformación para los labels. Esta toma cada label y los transforma a 1 y 0,\n",
    "# donde 1 representa que el dígito es igual al dígito escogido (en este caso 8) y 0 representa que es otro dígito.\n",
    "target_transform = torchvision.transforms.Lambda(lambda label: 1 if label == chosen_digit else 0)\n",
    "\n",
    "# Se descargan los datasets de train y test de mnist y se transforman\n",
    "root_dataset_dir = \"./mnist\"\n",
    "\n",
    "train_mnist_dataset = torchvision.datasets.MNIST(\n",
    "    root=root_dataset_dir,\n",
    "    train=True,\n",
    "    transform=transform, # Acá definimos la transformación a las imágenes\n",
    "    target_transform=target_transform, # Acá definimos la transformación a los labels\n",
    "    download=True\n",
    ")\n",
    "test_mnist_dataset = torchvision.datasets.MNIST(\n",
    "    root=root_dataset_dir,\n",
    "    train=False,\n",
    "    transform=transform, # Acá definimos la transformación a las imágenes\n",
    "    target_transform=target_transform, # Acá definimos la transformación a los labels\n",
    "    download=True\n",
    ")\n",
    "\n",
    "# Del dataset de entrenamieno obtenemos una porción que utilizaremos como dataset de validación\n",
    "# Sabemos que son 60000 datos totales del dataset original de entrenamiento y 10000 de test.\n",
    "# Por lo tanto tomamos 10000 datos del dataset de entrenamiento y los utilizamos como validación (eliminándolos del dataset de entrenamiento)\n",
    "train_size = 55000\n",
    "val_size = len(train_mnist_dataset) - train_size\n",
    "train_mnist_dataset, val_mnist_dataset = torch.utils.data.random_split(train_mnist_dataset, [train_size, val_size], generator=torch.Generator().manual_seed(42))\n",
    "\n",
    "print(f\"El dataset de entrenamiento completo tiene: {len(train_mnist_dataset)} elementos.\")\n",
    "print(f\"El dataset de validación tiene: {len(val_mnist_dataset)} elementos.\")\n",
    "print(f\"El dataset de test tiene: {len(test_mnist_dataset)} elementos.\")\n",
    "\n",
    "print()\n",
    "\n",
    "x, y = train_mnist_dataset[0]\n",
    "print(f\"Primer ejemplo obtenido del dataset:\")\n",
    "print(f\"Tensor de tamaño: {x.shape} con valor mínimo: {x.min()} y máximo: {x.max()}\")\n",
    "print(\"Clase:\", y)"
   ]
  },
  {
   "cell_type": "code",
   "execution_count": 49,
   "metadata": {},
   "outputs": [],
   "source": [
    "def balance_dataset(dataset):\n",
    "    data_tuples = [(x, y) for (x, y) in dataset]  # Separamos el dataset en X, y\n",
    "    X = torch.stack([t[0] for t in data_tuples])\n",
    "    y = torch.tensor([t[1] for t in data_tuples])\n",
    "\n",
    "    final_X = X.float()\n",
    "    final_y = y\n",
    "\n",
    "    final_dataset = torch.utils.data.TensorDataset(\n",
    "        final_X,\n",
    "        final_y,\n",
    "    )\n",
    "\n",
    "    return final_dataset\n"
   ]
  },
  {
   "cell_type": "code",
   "execution_count": 50,
   "metadata": {},
   "outputs": [
    {
     "name": "stdout",
     "output_type": "stream",
     "text": [
      "Balanceando dataset de entrenamiento.\n",
      "\n",
      "Balanceando dataset de validación.\n",
      "\n",
      "Balanceando dataset de test.\n"
     ]
    }
   ],
   "source": [
    "print(\"Balanceando dataset de entrenamiento.\")\n",
    "train_mnist_dataset = balance_dataset(train_mnist_dataset)\n",
    "print()\n",
    "\n",
    "print(\"Balanceando dataset de validación.\")\n",
    "val_mnist_dataset = balance_dataset(val_mnist_dataset)\n",
    "print()\n",
    "\n",
    "print(\"Balanceando dataset de test.\")\n",
    "test_mnist_dataset = balance_dataset(test_mnist_dataset)"
   ]
  },
  {
   "cell_type": "code",
   "execution_count": 51,
   "metadata": {},
   "outputs": [],
   "source": [
    "train_mnist_dataset = torch.utils.data.TensorDataset(\n",
    "    train_mnist_dataset.tensors[0].view(-1, 1, 28, 28),\n",
    "    train_mnist_dataset.tensors[1]\n",
    ")\n",
    "\n",
    "val_mnist_dataset = torch.utils.data.TensorDataset(\n",
    "    val_mnist_dataset.tensors[0].view(-1, 1, 28, 28),\n",
    "    val_mnist_dataset.tensors[1]\n",
    ")\n",
    "\n",
    "test_mnist_dataset = torch.utils.data.TensorDataset(\n",
    "    test_mnist_dataset.tensors[0].view(-1, 1, 28, 28),\n",
    "    test_mnist_dataset.tensors[1]\n",
    ")\n",
    "\n",
    "train_mnist_dataset = torch.utils.data.TensorDataset(\n",
    "    torch.nn.functional.interpolate(train_mnist_dataset.tensors[0], size=(21, 21)),\n",
    "    train_mnist_dataset.tensors[1]\n",
    ")\n",
    "\n",
    "val_mnist_dataset = torch.utils.data.TensorDataset(\n",
    "    torch.nn.functional.interpolate(val_mnist_dataset.tensors[0], size=(21, 21)),\n",
    "    val_mnist_dataset.tensors[1]\n",
    ")\n",
    "\n",
    "test_mnist_dataset = torch.utils.data.TensorDataset(\n",
    "    torch.nn.functional.interpolate(test_mnist_dataset.tensors[0], size=(21, 21)),\n",
    "    test_mnist_dataset.tensors[1]\n",
    ")"
   ]
  },
  {
   "cell_type": "code",
   "execution_count": 53,
   "metadata": {},
   "outputs": [
    {
     "name": "stdout",
     "output_type": "stream",
     "text": [
      "Epoch 30/30 -- Iteration 25798 - Batch 858/860 - Train loss: 840.210693\n",
      "\n"
     ]
    }
   ],
   "source": [
    "import importlib\n",
    "import src.model.train as train\n",
    "importlib.reload(train)\n",
    "import src.model.metrics as metrics\n",
    "importlib.reload(metrics)\n",
    "import src.model.vae as vae\n",
    "importlib.reload(vae)\n",
    "\n",
    "model_ones = vae.VAE(latent_dim=21)\n",
    "\n",
    "max_epochs = 30\n",
    "criterion = vae.loss_function\n",
    "batch_size = 64\n",
    "lr = 1e-4\n",
    "early_stop = 20\n",
    "use_gpu = False\n",
    "\n",
    "curves, tiempo_ejecucion = train.train_model(model_ones,\n",
    "                                            train_mnist_dataset,\n",
    "                                            val_mnist_dataset,\n",
    "                                            [0],\n",
    "                                            max_epochs=max_epochs,\n",
    "                                            criterion=criterion,\n",
    "                                            batch_size=batch_size,\n",
    "                                            lr=lr,\n",
    "                                            early_stopping_tolerance=early_stop,\n",
    "                                            use_gpu=use_gpu)"
   ]
  },
  {
   "cell_type": "code",
   "execution_count": 85,
   "metadata": {},
   "outputs": [
    {
     "data": {
      "text/plain": [
       "([], [])"
      ]
     },
     "execution_count": 85,
     "metadata": {},
     "output_type": "execute_result"
    },
    {
     "data": {
      "image/png": "[encoded data removed]",
      "text/plain": [
       "<Figure size 640x480 with 1 Axes>"
      ]
     },
     "metadata": {},
     "output_type": "display_data"
    }
   ],
   "source": [
    "model_ones.eval()\n",
    "img = test_mnist_dataset[2][0][0]\n",
    "plt.imshow(img)\n",
    "plt.yticks([])\n",
    "plt.xticks([])"
   ]
  },
  {
   "cell_type": "code",
   "execution_count": 93,
   "metadata": {},
   "outputs": [
    {
     "name": "stderr",
     "output_type": "stream",
     "text": [
      "/tmp/ipykernel_32297/3418156530.py:2: UserWarning: To copy construct from a tensor, it is recommended to use sourceTensor.clone().detach() or sourceTensor.clone().detach().requires_grad_(True), rather than torch.tensor(sourceTensor).\n",
      "  img_tensor = torch.tensor(img).unsqueeze(0).unsqueeze(0)  # Convertir la imagen a tensor\n"
     ]
    },
    {
     "data": {
      "text/plain": [
       "([], [])"
      ]
     },
     "execution_count": 93,
     "metadata": {},
     "output_type": "execute_result"
    },
    {
     "data": {
      "image/png": "[encoded data removed]",
      "text/plain": [
       "<Figure size 640x480 with 1 Axes>"
      ]
     },
     "metadata": {},
     "output_type": "display_data"
    }
   ],
   "source": [
    "\n",
    "\n",
    "with torch.no_grad():\n",
    "    img_tensor = torch.tensor(img).unsqueeze(0).unsqueeze(0)  # Convertir la imagen a tensor\n",
    "    reconstructed_img = model_ones(img_tensor)[0].squeeze().detach().numpy()\n",
    "\n",
    "plt.imshow(reconstructed_img)\n",
    "plt.yticks([])\n",
    "plt.xticks([])"
   ]
  },
  {
   "cell_type": "code",
   "execution_count": 94,
   "metadata": {},
   "outputs": [
    {
     "data": {
      "text/plain": [
       "([], [])"
      ]
     },
     "execution_count": 94,
     "metadata": {},
     "output_type": "execute_result"
    },
    {
     "data": {
      "image/png": "[encoded data removed]",
      "text/plain": [
       "<Figure size 640x480 with 1 Axes>"
      ]
     },
     "metadata": {},
     "output_type": "display_data"
    }
   ],
   "source": [
    "model_ones.eval()\n",
    "img = test_mnist_dataset[0][0][0]\n",
    "plt.imshow(img)\n",
    "plt.yticks([])\n",
    "plt.xticks([])"
   ]
  },
  {
   "cell_type": "code",
   "execution_count": 95,
   "metadata": {},
   "outputs": [
    {
     "name": "stderr",
     "output_type": "stream",
     "text": [
      "/tmp/ipykernel_32297/1527667916.py:2: UserWarning: To copy construct from a tensor, it is recommended to use sourceTensor.clone().detach() or sourceTensor.clone().detach().requires_grad_(True), rather than torch.tensor(sourceTensor).\n",
      "  img_tensor = torch.tensor(img).unsqueeze(0).unsqueeze(0)  # Convertir la imagen a tensor\n"
     ]
    },
    {
     "data": {
      "text/plain": [
       "([], [])"
      ]
     },
     "execution_count": 95,
     "metadata": {},
     "output_type": "execute_result"
    },
    {
     "data": {
      "image/png": "[encoded data removed]",
      "text/plain": [
       "<Figure size 640x480 with 1 Axes>"
      ]
     },
     "metadata": {},
     "output_type": "display_data"
    }
   ],
   "source": [
    "with torch.no_grad():\n",
    "    img_tensor = torch.tensor(img).unsqueeze(0).unsqueeze(0)  # Convertir la imagen a tensor\n",
    "    reconstructed_img = model_ones(img_tensor)[0].squeeze().detach().numpy()\n",
    "\n",
    "plt.imshow(reconstructed_img)\n",
    "plt.yticks([])\n",
    "plt.xticks([])"
   ]
  }
 ],
 "metadata": {
  "kernelspec": {
   "display_name": "inteli_cpu",
   "language": "python",
   "name": "python3"
  },
  "language_info": {
   "codemirror_mode": {
    "name": "ipython",
    "version": 3
   },
   "file_extension": ".py",
   "mimetype": "text/x-python",
   "name": "python",
   "nbconvert_exporter": "python",
   "pygments_lexer": "ipython3",
   "version": "3.12.3"
  }
 },
 "nbformat": 4,
 "nbformat_minor": 2
}
