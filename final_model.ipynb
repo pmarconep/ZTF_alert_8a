{
 "cells": [
  {
   "cell_type": "markdown",
   "metadata": {},
   "source": [
    "# Proyecto Inteligencia Computacional - Proyecto 8 - ID 8a\n",
    "\n",
    "## Integrantes\n",
    "- Juan Pablo Contreras\n",
    "- Pascual Marcone\n",
    "\n",
    "## Ayudante\n",
    "- Sebastian Guzman"
   ]
  },
  {
   "cell_type": "markdown",
   "metadata": {},
   "source": [
    "# Dependencias"
   ]
  },
  {
   "cell_type": "code",
   "execution_count": 1,
   "metadata": {},
   "outputs": [
    {
     "name": "stdout",
     "output_type": "stream",
     "text": [
      "Dataset size: 12800\n",
      "Image shape: torch.Size([1, 21, 21])\n"
     ]
    },
    {
     "data": {
      "image/png": "[encoded data removed]",
      "text/plain": [
       "<Figure size 1500x300 with 5 Axes>"
      ]
     },
     "metadata": {},
     "output_type": "display_data"
    }
   ],
   "source": [
    "#libs\n",
    "import pandas as pd\n",
    "import numpy as np\n",
    "import matplotlib.pyplot as plt\n",
    "import importlib\n",
    "\n",
    "#system\n",
    "from pathlib import Path\n",
    "import time\n",
    "\n",
    "#ai\n",
    "import torch\n",
    "from torch import nn\n",
    "import torchvision\n",
    "from torch.utils.data import TensorDataset, DataLoader\n",
    "\n",
    "from sklearn.metrics import confusion_matrix, ConfusionMatrixDisplay\n",
    "\n",
    "import src\n",
    "importlib.reload(src)\n",
    "\n",
    "import src.model.metrics as metrics\n",
    "import src.model.train as train\n",
    "import src.model.ae as ae\n",
    "import src.model.gau as gaussian\n"
   ]
  },
  {
   "cell_type": "markdown",
   "metadata": {},
   "source": [
    "# Dataset Setup"
   ]
  },
  {
   "cell_type": "code",
   "execution_count": 2,
   "metadata": {},
   "outputs": [],
   "source": [
    "stamps_dataset = pd.read_pickle('data/5stamps_dataset.pkl')\n",
    "dataset_1_21 = pd.read_pickle('data/stamp_dataset_21_new.pkl')"
   ]
  },
  {
   "cell_type": "code",
   "execution_count": 3,
   "metadata": {},
   "outputs": [],
   "source": [
    "def rename_labels(dataset, old_value, new_value):\n",
    "    for key in dataset.keys():\n",
    "        if old_value in dataset[key]:\n",
    "            dataset[key][new_value] = dataset[key].pop(old_value)\n",
    "\n",
    "rename_labels(stamps_dataset, 'labels', 'class')\n",
    "rename_labels(stamps_dataset, 'science', 'images')"
   ]
  },
  {
   "cell_type": "code",
   "execution_count": 5,
   "metadata": {},
   "outputs": [],
   "source": [
    "importlib.reload(gaussian)\n",
    "\n",
    "# generate fake gaussian dataset\n",
    "num_samples = 15000\n",
    "image_size = 21\n",
    "border_margin = 4\n",
    "noise_level = 0.1\n",
    "brightness = 0.7\n",
    "\n",
    "gaussian_images = gaussian.generate_gaussian_dataset(num_samples, image_size, border_margin, noise_level, brightness)\n",
    "gaussian_dataset = TensorDataset(gaussian_images)"
   ]
  },
  {
   "cell_type": "markdown",
   "metadata": {},
   "source": [
    "### 5stamps_dataset (MODIFICAR PARA DUAL CHANNEL)"
   ]
  },
  {
   "cell_type": "code",
   "execution_count": 6,
   "metadata": {},
   "outputs": [],
   "source": [
    "train_dataset_0 = torch.tensor(stamps_dataset['Train']['difference'], dtype=torch.float32)\n",
    "validation_dataset_0 = torch.tensor(stamps_dataset['Validation']['difference'], dtype=torch.float32)\n",
    "test_dataset_0 = torch.tensor(stamps_dataset['Test']['difference'], dtype=torch.float32)\n",
    "\n",
    "train_class_0 = torch.tensor(stamps_dataset['Train']['class'], dtype=torch.float32)\n",
    "validation_class_0 = torch.tensor(stamps_dataset['Validation']['class'], dtype=torch.float32)\n",
    "test_class_0 = torch.tensor(stamps_dataset['Test']['class'], dtype=torch.float32)\n",
    "\n",
    "#normalize between 0 and 1\n",
    "train_difference = (train_dataset_0 - train_dataset_0.min()) / (train_dataset_0.max() - train_dataset_0.min())\n",
    "validation_difference = (validation_dataset_0 - validation_dataset_0.min()) / (validation_dataset_0.max() - validation_dataset_0.min())\n",
    "test_difference = (test_dataset_0 - test_dataset_0.min()) / (test_dataset_0.max() - test_dataset_0.min())\n",
    "\n",
    "# Reshape the arrays to separate timestamps\n",
    "num_samples, num_photos, height, width = train_difference.shape\n",
    "reshaped_train_difference = train_difference.reshape(num_samples * num_photos, 1, height, width)\n",
    "reshaped_train_class = train_class_0.repeat_interleave(num_photos)\n",
    "\n",
    "num_samples, num_photos, height, width = validation_difference.shape\n",
    "reshaped_val_difference = validation_difference.reshape(validation_difference.shape[0] * num_photos, 1, height, width)\n",
    "reshaped_val_class = validation_class_0.repeat_interleave(num_photos)\n",
    "\n",
    "num_samples, num_photos, height, width = test_difference.shape\n",
    "reshaped_test_difference = test_difference.reshape(test_difference.shape[0] * num_photos, 1, height, width)\n",
    "reshaped_test_class = test_class_0.repeat_interleave(num_photos)\n",
    "\n",
    "train_dataset_0 = TensorDataset(reshaped_train_difference, reshaped_train_class)\n",
    "validation_dataset_0 = TensorDataset(reshaped_val_difference, reshaped_val_class)\n",
    "test_dataset_0 = TensorDataset(reshaped_test_difference, reshaped_test_class)"
   ]
  },
  {
   "cell_type": "markdown",
   "metadata": {},
   "source": [
    "### stamp_dataset_21_new"
   ]
  },
  {
   "cell_type": "code",
   "execution_count": 14,
   "metadata": {},
   "outputs": [],
   "source": [
    "train_difference = torch.tensor(dataset_1_21['Train']['images'], dtype=torch.float32)\n",
    "validation_difference = torch.tensor(dataset_1_21['Validation']['images'], dtype=torch.float32)\n",
    "test_difference = torch.tensor(dataset_1_21['Test']['images'], dtype=torch.float32)\n",
    "\n",
    "train_class_1 = torch.tensor(dataset_1_21['Train']['class'], dtype=torch.float32)\n",
    "validation_class_1 = torch.tensor(dataset_1_21['Validation']['class'], dtype=torch.float32)\n",
    "test_class_1 = torch.tensor(dataset_1_21['Test']['class'], dtype=torch.float32)\n",
    "\n",
    "train_difference = (train_difference - train_difference.min()) / (train_difference.max() - train_difference.min())\n",
    "validation_difference = (validation_difference - validation_difference.min()) / (validation_difference.max() - validation_difference.min())\n",
    "test_difference = (test_difference - test_difference.min()) / (test_difference.max() - test_difference.min())\n",
    "\n",
    "\n",
    "# Seleccionar los canales 0 y 2\n",
    "train_difference_reshaped = train_difference[:, :, :, [0, 2]]\n",
    "validation_difference_reshaped = validation_difference[:, :, :, [0, 2]]\n",
    "test_difference_reshaped = test_difference[:, :, :, [0, 2]]\n",
    "\n",
    "# Permutar las dimensiones para que tengan la forma [batch_size, num_channels, height, width]\n",
    "train_difference_reshaped_perm = train_difference_reshaped.permute(0, 3, 1, 2)\n",
    "validation_difference_reshaped_perm = validation_difference_reshaped.permute(0, 3, 1, 2)\n",
    "test_difference_reshaped_perm = test_difference_reshaped.permute(0, 3, 1, 2)\n",
    "\n",
    "train_dataset_1 = TensorDataset(train_difference_reshaped_perm, train_class_1)\n",
    "validation_dataset_1 = TensorDataset(validation_difference_reshaped_perm, validation_class_1)\n",
    "test_dataset_1 = TensorDataset(test_difference_reshaped_perm, test_class_1)"
   ]
  },
  {
   "cell_type": "markdown",
   "metadata": {},
   "source": [
    "# Model Experiments"
   ]
  },
  {
   "cell_type": "markdown",
   "metadata": {},
   "source": [
    "## Augmentation"
   ]
  },
  {
   "cell_type": "code",
   "execution_count": null,
   "metadata": {},
   "outputs": [],
   "source": [
    "importlib.reload(ae)\n",
    "importlib.reload(train)\n",
    "importlib.reload(metrics)\n",
    "\n",
    "#static parameters\n",
    "max_epochs = 1000\n",
    "criterion = ae.loss_function\n",
    "batch_size = 100 #100\n",
    "lr = 0.333e-4 #propuesto en paper astorga\n",
    "\n",
    "early_stopping = 15\n",
    "use_gpu = True\n",
    "\n",
    "model_1_1 = ae.AE(latent_dim = 30, n_channels=2, name='with no augmentation')\n",
    "model_1_2 = ae.AE(latent_dim = 30, n_channels=2, name='with augmentation')\n",
    "model_1_3 = ae.AE(latent_dim = 30, n_channels=2, name='with augmentation and shuffling')\n",
    "\n",
    "curves_1_1, tiempo_1_1, mse_1_1 = train.train_model(model_1_1,\n",
    "                                            train_dataset_1,\n",
    "                                            validation_dataset_1,\n",
    "                                            test_dataset_1,\n",
    "                                            max_epochs=max_epochs,\n",
    "                                            criterion=criterion,\n",
    "                                            batch_size=batch_size,\n",
    "                                            lr=lr,\n",
    "                                            augmentation=False,\n",
    "                                            shuffle_augmentation=False,\n",
    "                                            early_stop=early_stopping,\n",
    "                                            use_gpu=use_gpu\n",
    "                                            )\n",
    "\n",
    "curves_1_2, tiempo_1_2, mse_1_2 = train.train_model(model_1_2,\n",
    "                                            train_dataset_1,\n",
    "                                            validation_dataset_1,\n",
    "                                            test_dataset_1,\n",
    "                                            max_epochs=max_epochs,\n",
    "                                            criterion=criterion,\n",
    "                                            batch_size=batch_size,\n",
    "                                            lr=lr,\n",
    "                                            augmentation=True,\n",
    "                                            shuffle_augmentation=False,\n",
    "                                            early_stop=early_stopping,\n",
    "                                            use_gpu=use_gpu\n",
    "                                            )\n",
    "\n",
    "curves_1_3, tiempo_1_3, mse_1_3 = train.train_model(model_1_3,\n",
    "                                            train_dataset_1,\n",
    "                                            validation_dataset_1,\n",
    "                                            test_dataset_1,\n",
    "                                            max_epochs=max_epochs,\n",
    "                                            criterion=criterion,\n",
    "                                            batch_size=batch_size,\n",
    "                                            lr=lr,\n",
    "                                            augmentation=True,\n",
    "                                            shuffle_augmentation=True,\n",
    "                                            early_stop=early_stopping,\n",
    "                                            use_gpu=use_gpu\n",
    "                                            )\n",
    "\n",
    "torch.save(model_1_1.state_dict(), 'models/model_1_1.pth')\n",
    "torch.save(model_1_2.state_dict(), 'models/model_1_2.pth')\n",
    "torch.save(model_1_3.state_dict(), 'models/model_1_3.pth')\n",
    "\n",
    "curves_1 = [curves_1_1, curves_1_2, curves_1_3]\n",
    "models_1 = [model_1_1, model_1_2, model_1_3]\n",
    "mse_1 = [mse_1_1, mse_1_2, mse_1_3]"
   ]
  },
  {
   "cell_type": "markdown",
   "metadata": {},
   "source": [
    "## Latent dimensions"
   ]
  },
  {
   "cell_type": "code",
   "execution_count": null,
   "metadata": {},
   "outputs": [],
   "source": [
    "importlib.reload(ae)\n",
    "importlib.reload(train)\n",
    "importlib.reload(metrics)\n",
    "\n",
    "#static parameters\n",
    "max_epochs = 1000\n",
    "criterion = ae.loss_function\n",
    "batch_size = 100 #100\n",
    "lr = 0.333e-4 #propuesto en paper astorga\n",
    "\n",
    "augmentation = True\n",
    "suffle = False\n",
    "early_stopping = 15\n",
    "use_gpu = True\n",
    "\n",
    "model_2_1 = ae.AE(latent_dim = 10, n_channels=2, name='latent dim 10')\n",
    "model_2_2 = ae.AE(latent_dim = 21, n_channels=2, name='latent dim 21')\n",
    "model_2_3 = ae.AE(latent_dim = 42, n_channels=2, name='latent dim 42')\n",
    "model_2_4 = ae.AE(latent_dim = 130, n_channels=2, name='latent dim 130')\n",
    "\n",
    "\n",
    "curves_2_1, tiempo_2_1, mse_2_1 = train.train_model(model_2_1,\n",
    "                                            train_dataset_1,\n",
    "                                            validation_dataset_1,\n",
    "                                            test_dataset_1,\n",
    "                                            max_epochs=max_epochs,\n",
    "                                            criterion=criterion,\n",
    "                                            batch_size=batch_size,\n",
    "                                            lr=lr,\n",
    "                                            augmentation=augmentation,\n",
    "                                            shuffle_augmentation=suffle,\n",
    "                                            early_stop=early_stopping,\n",
    "                                            use_gpu=use_gpu\n",
    "                                            )\n",
    "\n",
    "curves_2_2, tiempo_2_2, mse_2_2 = train.train_model(model_2_2,\n",
    "                                            train_dataset_1,\n",
    "                                            validation_dataset_1,\n",
    "                                            test_dataset_1,\n",
    "                                            max_epochs=max_epochs,\n",
    "                                            criterion=criterion,\n",
    "                                            batch_size=batch_size,\n",
    "                                            lr=lr,\n",
    "                                            augmentation=augmentation,\n",
    "                                            shuffle_augmentation=suffle,\n",
    "                                            early_stop=early_stopping,\n",
    "                                            use_gpu=use_gpu\n",
    "                                            )\n",
    "\n",
    "curves_2_3, tiempo_2_3, mse_2_3 = train.train_model(model_2_3,\n",
    "                                            train_dataset_1,\n",
    "                                            validation_dataset_1,\n",
    "                                            test_dataset_1,\n",
    "                                            max_epochs=max_epochs,\n",
    "                                            criterion=criterion,\n",
    "                                            batch_size=batch_size,\n",
    "                                            lr=lr,\n",
    "                                            augmentation=augmentation,\n",
    "                                            shuffle_augmentation=suffle,\n",
    "                                            early_stop=early_stopping,\n",
    "                                            use_gpu=use_gpu\n",
    "                                            )\n",
    "\n",
    "curves_2_4, tiempo_2_4, mse_2_4 = train.train_model(model_2_4,\n",
    "                                            train_dataset_1,\n",
    "                                            validation_dataset_1,\n",
    "                                            test_dataset_1,\n",
    "                                            max_epochs=max_epochs,\n",
    "                                            criterion=criterion,\n",
    "                                            batch_size=batch_size,\n",
    "                                            lr=lr,\n",
    "                                            augmentation=augmentation,\n",
    "                                            shuffle_augmentation=suffle,\n",
    "                                            early_stop=early_stopping,\n",
    "                                            use_gpu=use_gpu\n",
    "                                            )\n",
    "\n",
    "torch.save(model_2_1.state_dict(), 'models/model_2_1.pth')\n",
    "torch.save(model_2_2.state_dict(), 'models/model_2_2.pth')\n",
    "torch.save(model_2_3.state_dict(), 'models/model_2_3.pth')\n",
    "torch.save(model_2_4.state_dict(), 'models/model_2_4.pth')\n",
    "\n",
    "curves_2 = [curves_2_1, curves_2_2, curves_2_3, curves_2_4]\n",
    "models_2 = [model_2_1, model_2_2, model_2_3, model_2_4]\n",
    "mse_2 = [mse_2_1, mse_2_2, mse_2_3, mse_2_4]"
   ]
  },
  {
   "cell_type": "markdown",
   "metadata": {},
   "source": [
    "## Learning Rate"
   ]
  },
  {
   "cell_type": "code",
   "execution_count": null,
   "metadata": {},
   "outputs": [],
   "source": [
    "importlib.reload(ae)\n",
    "importlib.reload(train)\n",
    "importlib.reload(metrics)\n",
    "\n",
    "#static parameters\n",
    "max_epochs = 1000\n",
    "criterion = ae.loss_function\n",
    "batch_size = 100 #100\n",
    "\n",
    "augmentation = True\n",
    "suffle = False\n",
    "early_stopping = 15\n",
    "use_gpu = True\n",
    "\n",
    "model_3_1 = ae.AE(latent_dim = 'definir', n_channels=2, name='with lr 0.333e-4')\n",
    "model_3_2 = ae.AE(latent_dim = 'definir', n_channels=2, name='latent dim 21')\n",
    "model_3_3 = ae.AE(latent_dim = 'definir', n_channels=2, name='latent dim 42')\n",
    "model_3_4 = ae.AE(latent_dim = 'definir', n_channels=2, name='latent dim 130')\n",
    "\n",
    "\n",
    "curves_3_1, tiempo_3_1, mse_3_1 = train.train_model(model_3_1,\n",
    "                                            train_dataset_1,\n",
    "                                            validation_dataset_1,\n",
    "                                            test_dataset_1,\n",
    "                                            max_epochs=max_epochs,\n",
    "                                            criterion=criterion,\n",
    "                                            batch_size=batch_size,\n",
    "                                            lr=0.333e-4,\n",
    "                                            augmentation=augmentation,\n",
    "                                            shuffle_augmentation=suffle,\n",
    "                                            early_stop=early_stopping,\n",
    "                                            use_gpu=use_gpu\n",
    "                                            )\n",
    "\n",
    "curves_3_2, tiempo_3_2, mse_3_2 = train.train_model(model_3_2,\n",
    "                                            train_dataset_1,\n",
    "                                            validation_dataset_1,\n",
    "                                            test_dataset_1,\n",
    "                                            max_epochs=max_epochs,\n",
    "                                            criterion=criterion,\n",
    "                                            batch_size=batch_size,\n",
    "                                            lr=0.333e-5,\n",
    "                                            augmentation=augmentation,\n",
    "                                            shuffle_augmentation=suffle,\n",
    "                                            early_stop=early_stopping,\n",
    "                                            use_gpu=use_gpu\n",
    "                                            )\n",
    "\n",
    "curves_3_3, tiempo_3_3, mse_3_3 = train.train_model(model_3_3,\n",
    "                                            train_dataset_1,\n",
    "                                            validation_dataset_1,\n",
    "                                            test_dataset_1,\n",
    "                                            max_epochs=max_epochs,\n",
    "                                            criterion=criterion,\n",
    "                                            batch_size=batch_size,\n",
    "                                            lr=0.333e-3,\n",
    "                                            augmentation=augmentation,\n",
    "                                            shuffle_augmentation=suffle,\n",
    "                                            early_stop=early_stopping,\n",
    "                                            use_gpu=use_gpu\n",
    "                                            )\n",
    "\n",
    "torch.save(model_3_1.state_dict(), 'models/model_3_1.pth')\n",
    "torch.save(model_3_2.state_dict(), 'models/model_3_2.pth')\n",
    "torch.save(model_3_3.state_dict(), 'models/model_3_3.pth')\n",
    "\n",
    "curves_3 = [curves_3_1, curves_3_2, curves_3_3]\n",
    "models_3 = [model_3_1, model_3_2, model_3_3]\n",
    "mse_3 = [mse_3_1, mse_3_2, mse_3_3]"
   ]
  },
  {
   "cell_type": "markdown",
   "metadata": {},
   "source": [
    "## Datasets"
   ]
  },
  {
   "cell_type": "code",
   "execution_count": null,
   "metadata": {},
   "outputs": [],
   "source": [
    "importlib.reload(ae)\n",
    "importlib.reload(train)\n",
    "importlib.reload(metrics)\n",
    "\n",
    "#static parameters\n",
    "max_epochs = 1000\n",
    "criterion = ae.loss_function\n",
    "batch_size = 100 #100\n",
    "lr = 0.333e-4 #propuesto en paper astorga\n",
    "\n",
    "augmentation = True\n",
    "suffle = False\n",
    "early_stopping = 15\n",
    "use_gpu = True\n",
    "\n",
    "model_4_1 = ae.AE(latent_dim = 'definir', n_channels=2, name='trained with 5stamps_dataset')\n",
    "model_4_2 = ae.AE(latent_dim = 'definir', n_channels=2, name='trained with stamp_dataset_21_new')\n",
    "\n",
    "\n",
    "curves_4_1, tiempo_4_1, mse_4_1 = train.train_model(model_4_1,\n",
    "                                            train_dataset_0,\n",
    "                                            validation_dataset_0,\n",
    "                                            test_dataset_0,\n",
    "                                            max_epochs=max_epochs,\n",
    "                                            criterion=criterion,\n",
    "                                            batch_size=batch_size,\n",
    "                                            lr=lr,\n",
    "                                            augmentation=augmentation,\n",
    "                                            shuffle_augmentation=suffle,\n",
    "                                            early_stop=early_stopping,\n",
    "                                            use_gpu=use_gpu\n",
    "                                            )\n",
    "\n",
    "curves_4_2, tiempo_4_2, mse_4_2 = train.train_model(model_4_2,\n",
    "                                            train_dataset_1,\n",
    "                                            validation_dataset_1,\n",
    "                                            test_dataset_1,\n",
    "                                            max_epochs=max_epochs,\n",
    "                                            criterion=criterion,\n",
    "                                            batch_size=batch_size,\n",
    "                                            lr=lr,\n",
    "                                            augmentation=augmentation,\n",
    "                                            shuffle_augmentation=suffle,\n",
    "                                            early_stop=early_stopping,\n",
    "                                            use_gpu=use_gpu\n",
    "                                            )\n",
    "\n",
    "torch.save(model_4_1.state_dict(), 'models/model_4_1.pth')\n",
    "torch.save(model_4_2.state_dict(), 'models/model_4_2.pth')\n",
    "\n",
    "curves_4 = [curves_4_1, curves_4_2]\n",
    "models_4 = [model_4_1, model_4_2]\n",
    "mse_4 = [mse_4_1, mse_4_2]"
   ]
  },
  {
   "cell_type": "markdown",
   "metadata": {},
   "source": [
    "# Linear Probing Training"
   ]
  },
  {
   "cell_type": "code",
   "execution_count": null,
   "metadata": {},
   "outputs": [],
   "source": [
    "model_1_1.eval()\n",
    "model_1_2.eval()\n",
    "model_1_3.eval()\n",
    "\n",
    "z_train_1_1 = model_1_1.only_encoder(train_difference_reshaped_perm).detach()\n",
    "z_train_1_2 = model_1_2.only_encoder(train_difference_reshaped_perm).detach()\n",
    "z_train_1_3 = model_1_3.only_encoder(train_difference_reshaped_perm).detach()\n",
    "\n",
    "z_train_label = train_class_1.detach()\n",
    "train_features_1_1 = TensorDataset(z_train_1_1, z_train_label)\n",
    "train\n",
    "\n",
    "z_val = model_full.only_encoder(validation_difference_reshaped_perm).detach()\n",
    "z_val_label = validation_class.detach()\n",
    "val_dataset_features = TensorDataset(z_val, z_val_label)\n",
    "\n",
    "z_test = model_full.only_encoder(test_difference_reshaped_perm).detach()\n",
    "z_test_label = test_class.detach()\n",
    "test_dataset_features = TensorDataset(z_test, z_test_label)"
   ]
  },
  {
   "cell_type": "code",
   "execution_count": null,
   "metadata": {},
   "outputs": [],
   "source": []
  },
  {
   "cell_type": "code",
   "execution_count": null,
   "metadata": {},
   "outputs": [],
   "source": []
  },
  {
   "cell_type": "code",
   "execution_count": null,
   "metadata": {},
   "outputs": [],
   "source": []
  },
  {
   "cell_type": "markdown",
   "metadata": {},
   "source": [
    "# Metrics"
   ]
  },
  {
   "cell_type": "code",
   "execution_count": null,
   "metadata": {},
   "outputs": [],
   "source": [
    "# settings\n",
    "\n",
    "#umap \n",
    "n_neighbors = 15\n",
    "min_dist = 0.1\n",
    "metric = 'euclidean'\n",
    "norm = True"
   ]
  },
  {
   "cell_type": "markdown",
   "metadata": {},
   "source": [
    "## Augmentation"
   ]
  },
  {
   "cell_type": "code",
   "execution_count": 11,
   "metadata": {},
   "outputs": [],
   "source": [
    "# learning curves + mse\n",
    "metrics.show_curves(curves_1, models_1)\n"
   ]
  },
  {
   "cell_type": "code",
   "execution_count": 12,
   "metadata": {},
   "outputs": [],
   "source": [
    "# latent space umap\n",
    "metrics.plot_umap(models_1, test_dataset_1, test_class_1, n_neighbors, min_dist, metric, norm)"
   ]
  },
  {
   "cell_type": "code",
   "execution_count": null,
   "metadata": {},
   "outputs": [],
   "source": [
    "# linear probing umap + confusion matrix"
   ]
  },
  {
   "cell_type": "code",
   "execution_count": null,
   "metadata": {},
   "outputs": [],
   "source": [
    "# reconstruction examples"
   ]
  },
  {
   "cell_type": "markdown",
   "metadata": {},
   "source": [
    "## Latent dimensions"
   ]
  },
  {
   "cell_type": "code",
   "execution_count": null,
   "metadata": {},
   "outputs": [],
   "source": [
    "# learning curves + mse\n",
    "metrics.show_curves(curves_2, models_2)"
   ]
  },
  {
   "cell_type": "code",
   "execution_count": null,
   "metadata": {},
   "outputs": [],
   "source": [
    "# latent space umap\n",
    "metrics.plot_umap(models_2, test_dataset_1, test_class_1, n_neighbors, min_dist, metric, norm)"
   ]
  },
  {
   "cell_type": "code",
   "execution_count": null,
   "metadata": {},
   "outputs": [],
   "source": [
    "# linear probing umap + confusion matrix"
   ]
  },
  {
   "cell_type": "code",
   "execution_count": null,
   "metadata": {},
   "outputs": [],
   "source": [
    "# reconstruction examples"
   ]
  },
  {
   "cell_type": "markdown",
   "metadata": {},
   "source": [
    "## Learning rate"
   ]
  },
  {
   "cell_type": "code",
   "execution_count": null,
   "metadata": {},
   "outputs": [],
   "source": [
    "# learning curves + mse\n",
    "metrics.show_curves(curves_3, models_3)"
   ]
  },
  {
   "cell_type": "code",
   "execution_count": 13,
   "metadata": {},
   "outputs": [],
   "source": [
    "# latent space umap\n",
    "metrics.plot_umap(models_3, test_dataset_1, test_class_1, n_neighbors, min_dist, metric, norm)"
   ]
  },
  {
   "cell_type": "code",
   "execution_count": null,
   "metadata": {},
   "outputs": [],
   "source": [
    "# linear probing umap + confusion matrix"
   ]
  },
  {
   "cell_type": "code",
   "execution_count": null,
   "metadata": {},
   "outputs": [],
   "source": [
    "# reconstruction examples"
   ]
  },
  {
   "cell_type": "markdown",
   "metadata": {},
   "source": [
    "## Datasets"
   ]
  },
  {
   "cell_type": "code",
   "execution_count": null,
   "metadata": {},
   "outputs": [],
   "source": [
    "# learning curves + mse\n",
    "metrics.show_curves(curves_4, models_4)"
   ]
  },
  {
   "cell_type": "code",
   "execution_count": null,
   "metadata": {},
   "outputs": [],
   "source": [
    "# latent space umap\n",
    "metrics.plot_umap(models_4, test_dataset_0, test_class_0, n_neighbors, min_dist, metric, norm)\n",
    "metrics.plot_umap(models_4, test_dataset_1, test_class_1, n_neighbors, min_dist, metric, norm)"
   ]
  },
  {
   "cell_type": "code",
   "execution_count": null,
   "metadata": {},
   "outputs": [],
   "source": [
    "# linear probing umap + confusion matrix"
   ]
  },
  {
   "cell_type": "code",
   "execution_count": null,
   "metadata": {},
   "outputs": [],
   "source": [
    "# reconstruction examples"
   ]
  }
 ],
 "metadata": {
  "kernelspec": {
   "display_name": "inteli_gpu",
   "language": "python",
   "name": "python3"
  },
  "language_info": {
   "codemirror_mode": {
    "name": "ipython",
    "version": 3
   },
   "file_extension": ".py",
   "mimetype": "text/x-python",
   "name": "python",
   "nbconvert_exporter": "python",
   "pygments_lexer": "ipython3",
   "version": "3.12.3"
  }
 },
 "nbformat": 4,
 "nbformat_minor": 2
}
